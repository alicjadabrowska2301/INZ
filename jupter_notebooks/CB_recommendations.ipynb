{
 "cells": [
  {
   "attachments": {},
   "cell_type": "markdown",
   "metadata": {},
   "source": [
    "### Content-based recommendation system"
   ]
  },
  {
   "cell_type": "markdown",
   "metadata": {},
   "source": [
    "1. Import potrzebnych bibliotek"
   ]
  },
  {
   "cell_type": "code",
   "execution_count": 136,
   "metadata": {},
   "outputs": [],
   "source": [
    "import pandas as pd\n",
    "import numpy as np\n",
    "import psycopg2\n",
    "from sqlalchemy import create_engine, text\n",
    "import sklearn.feature_extraction.text as sk_text\n",
    "import sklearn.metrics.pairwise as sk_pairwise"
   ]
  },
  {
   "attachments": {},
   "cell_type": "markdown",
   "metadata": {},
   "source": [
    "2. Wczytanie danych"
   ]
  },
  {
   "cell_type": "code",
   "execution_count": 137,
   "metadata": {},
   "outputs": [],
   "source": [
    "# Connect to PostgreSQL server\n",
    "host= \"localhost\"\n",
    "database=\"movierecommenderdb\"\n",
    "user= \"postgres\"\n",
    "password= \"postgres\"\n",
    "port= \"5432\"\n",
    "\n",
    "\n",
    "alchemyEngine = create_engine(f'postgresql+psycopg2://{user}:{password}@{host}:{port}/{database}')\n",
    " \n",
    "# Connect to PostgreSQL server\n",
    "dbConnection = alchemyEngine.connect()\n",
    "\n",
    "# Read data from PostgreSQL database table and load into a DataFrame instance\n",
    "query_movies = text('SELECT * FROM \"Movies\"')\n",
    "query_credits = text('SELECT * FROM \"Credits\"')\n",
    "query_keywords = text('SELECT * FROM \"Keywords\"')\n",
    "df_movie = pd.read_sql_query(query_movies, dbConnection)\n",
    "df_credits = pd.read_sql_query(query_credits, dbConnection)\n",
    "df_keywords = pd.read_sql_query(query_keywords, dbConnection)\n",
    "\n",
    "pd.set_option('display.expand_frame_repr', False)\n",
    "\n",
    "# Close the database connection\n",
    "dbConnection.close()"
   ]
  },
  {
   "cell_type": "markdown",
   "metadata": {},
   "source": [
    "3. Przygotowanie i czyszczenie danych"
   ]
  },
  {
   "cell_type": "code",
   "execution_count": 138,
   "metadata": {},
   "outputs": [],
   "source": [
    "#merge df_movie, df_credits, df_keywords\n",
    "df_movie = df_movie.merge(df_credits, on='movieId')\n",
    "df_movie = df_movie.merge(df_keywords, on='movieId')\n",
    "df_movies_explore = df_movie.copy()"
   ]
  },
  {
   "cell_type": "code",
   "execution_count": 139,
   "metadata": {},
   "outputs": [
    {
     "data": {
      "text/html": [
       "<div>\n",
       "<style scoped>\n",
       "    .dataframe tbody tr th:only-of-type {\n",
       "        vertical-align: middle;\n",
       "    }\n",
       "\n",
       "    .dataframe tbody tr th {\n",
       "        vertical-align: top;\n",
       "    }\n",
       "\n",
       "    .dataframe thead th {\n",
       "        text-align: right;\n",
       "    }\n",
       "</style>\n",
       "<table border=\"1\" class=\"dataframe\">\n",
       "  <thead>\n",
       "    <tr style=\"text-align: right;\">\n",
       "      <th></th>\n",
       "      <th>movieId</th>\n",
       "      <th>title</th>\n",
       "      <th>overview</th>\n",
       "      <th>genres</th>\n",
       "      <th>keywords</th>\n",
       "      <th>cast</th>\n",
       "      <th>director</th>\n",
       "    </tr>\n",
       "  </thead>\n",
       "  <tbody>\n",
       "    <tr>\n",
       "      <th>0</th>\n",
       "      <td>862</td>\n",
       "      <td>Toy Story</td>\n",
       "      <td>Led by Woody, Andy's toys live happily in his ...</td>\n",
       "      <td>['Animation', 'Comedy', 'Family']</td>\n",
       "      <td>['jealousy', 'toy', 'boy', 'friendship', 'frie...</td>\n",
       "      <td>['Tom Hanks', 'Tim Allen', 'Don Rickles', 'Jim...</td>\n",
       "      <td>['John Lasseter']</td>\n",
       "    </tr>\n",
       "    <tr>\n",
       "      <th>1</th>\n",
       "      <td>8844</td>\n",
       "      <td>Jumanji</td>\n",
       "      <td>When siblings Judy and Peter discover an encha...</td>\n",
       "      <td>['Adventure', 'Fantasy', 'Family']</td>\n",
       "      <td>['board game', 'disappearance', \"based on chil...</td>\n",
       "      <td>['Robin Williams', 'Jonathan Hyde', 'Kirsten D...</td>\n",
       "      <td>['Joe Johnston']</td>\n",
       "    </tr>\n",
       "    <tr>\n",
       "      <th>2</th>\n",
       "      <td>15602</td>\n",
       "      <td>Grumpier Old Men</td>\n",
       "      <td>A family wedding reignites the ancient feud be...</td>\n",
       "      <td>['Romance', 'Comedy']</td>\n",
       "      <td>['fishing', 'best friend', 'duringcreditssting...</td>\n",
       "      <td>['Walter Matthau', 'Jack Lemmon', 'Ann-Margret...</td>\n",
       "      <td>['Howard Deutch']</td>\n",
       "    </tr>\n",
       "    <tr>\n",
       "      <th>3</th>\n",
       "      <td>31357</td>\n",
       "      <td>Waiting to Exhale</td>\n",
       "      <td>Cheated on, mistreated and stepped on, the wom...</td>\n",
       "      <td>['Comedy', 'Drama', 'Romance']</td>\n",
       "      <td>['based on novel', 'interracial relationship',...</td>\n",
       "      <td>['Whitney Houston', 'Angela Bassett', 'Loretta...</td>\n",
       "      <td>['Forest Whitaker']</td>\n",
       "    </tr>\n",
       "    <tr>\n",
       "      <th>4</th>\n",
       "      <td>11862</td>\n",
       "      <td>Father of the Bride Part II</td>\n",
       "      <td>Just when George Banks has recovered from his ...</td>\n",
       "      <td>['Comedy']</td>\n",
       "      <td>['baby', 'midlife crisis', 'confidence', 'agin...</td>\n",
       "      <td>['Steve Martin', 'Diane Keaton', 'Martin Short...</td>\n",
       "      <td>['Charles Shyer']</td>\n",
       "    </tr>\n",
       "  </tbody>\n",
       "</table>\n",
       "</div>"
      ],
      "text/plain": [
       "   movieId                        title                                           overview                              genres                                           keywords                                               cast             director\n",
       "0      862                    Toy Story  Led by Woody, Andy's toys live happily in his ...   ['Animation', 'Comedy', 'Family']  ['jealousy', 'toy', 'boy', 'friendship', 'frie...  ['Tom Hanks', 'Tim Allen', 'Don Rickles', 'Jim...    ['John Lasseter']\n",
       "1     8844                      Jumanji  When siblings Judy and Peter discover an encha...  ['Adventure', 'Fantasy', 'Family']  ['board game', 'disappearance', \"based on chil...  ['Robin Williams', 'Jonathan Hyde', 'Kirsten D...     ['Joe Johnston']\n",
       "2    15602             Grumpier Old Men  A family wedding reignites the ancient feud be...               ['Romance', 'Comedy']  ['fishing', 'best friend', 'duringcreditssting...  ['Walter Matthau', 'Jack Lemmon', 'Ann-Margret...    ['Howard Deutch']\n",
       "3    31357            Waiting to Exhale  Cheated on, mistreated and stepped on, the wom...      ['Comedy', 'Drama', 'Romance']  ['based on novel', 'interracial relationship',...  ['Whitney Houston', 'Angela Bassett', 'Loretta...  ['Forest Whitaker']\n",
       "4    11862  Father of the Bride Part II  Just when George Banks has recovered from his ...                          ['Comedy']  ['baby', 'midlife crisis', 'confidence', 'agin...  ['Steve Martin', 'Diane Keaton', 'Martin Short...    ['Charles Shyer']"
      ]
     },
     "execution_count": 139,
     "metadata": {},
     "output_type": "execute_result"
    }
   ],
   "source": [
    "#let only the columns we need\n",
    "df_movie = df_movie[['movieId','title','overview','genres','keywords','cast','director']]\n",
    "df_movie.head()"
   ]
  },
  {
   "cell_type": "code",
   "execution_count": 140,
   "metadata": {},
   "outputs": [
    {
     "data": {
      "text/html": [
       "<div>\n",
       "<style scoped>\n",
       "    .dataframe tbody tr th:only-of-type {\n",
       "        vertical-align: middle;\n",
       "    }\n",
       "\n",
       "    .dataframe tbody tr th {\n",
       "        vertical-align: top;\n",
       "    }\n",
       "\n",
       "    .dataframe thead th {\n",
       "        text-align: right;\n",
       "    }\n",
       "</style>\n",
       "<table border=\"1\" class=\"dataframe\">\n",
       "  <thead>\n",
       "    <tr style=\"text-align: right;\">\n",
       "      <th></th>\n",
       "      <th>movieId</th>\n",
       "      <th>title</th>\n",
       "      <th>overview</th>\n",
       "      <th>genres</th>\n",
       "      <th>keywords</th>\n",
       "      <th>cast</th>\n",
       "      <th>director</th>\n",
       "    </tr>\n",
       "  </thead>\n",
       "  <tbody>\n",
       "    <tr>\n",
       "      <th>0</th>\n",
       "      <td>862</td>\n",
       "      <td>Toy Story</td>\n",
       "      <td>Led by Woody, Andy's toys live happily in his ...</td>\n",
       "      <td>[animation, comedy, family]</td>\n",
       "      <td>[jealousy, toy, boy, friendship, friends, riva...</td>\n",
       "      <td>[tomhanks, timallen, donrickles, jimvarney, wa...</td>\n",
       "      <td>[johnlasseter]</td>\n",
       "    </tr>\n",
       "    <tr>\n",
       "      <th>1</th>\n",
       "      <td>8844</td>\n",
       "      <td>Jumanji</td>\n",
       "      <td>When siblings Judy and Peter discover an encha...</td>\n",
       "      <td>[adventure, fantasy, family]</td>\n",
       "      <td>[boardgame, disappearance, basedonchildrensboo...</td>\n",
       "      <td>[robinwilliams, jonathanhyde, kirstendunst, br...</td>\n",
       "      <td>[joejohnston]</td>\n",
       "    </tr>\n",
       "    <tr>\n",
       "      <th>2</th>\n",
       "      <td>15602</td>\n",
       "      <td>Grumpier Old Men</td>\n",
       "      <td>A family wedding reignites the ancient feud be...</td>\n",
       "      <td>[romance, comedy]</td>\n",
       "      <td>[fishing, bestfriend, duringcreditsstinger, ol...</td>\n",
       "      <td>[waltermatthau, jacklemmon, ann-margret, sophi...</td>\n",
       "      <td>[howarddeutch]</td>\n",
       "    </tr>\n",
       "    <tr>\n",
       "      <th>3</th>\n",
       "      <td>31357</td>\n",
       "      <td>Waiting to Exhale</td>\n",
       "      <td>Cheated on, mistreated and stepped on, the wom...</td>\n",
       "      <td>[comedy, drama, romance]</td>\n",
       "      <td>[basedonnovel, interracialrelationship, single...</td>\n",
       "      <td>[whitneyhouston, angelabassett, lorettadevine,...</td>\n",
       "      <td>[forestwhitaker]</td>\n",
       "    </tr>\n",
       "    <tr>\n",
       "      <th>4</th>\n",
       "      <td>11862</td>\n",
       "      <td>Father of the Bride Part II</td>\n",
       "      <td>Just when George Banks has recovered from his ...</td>\n",
       "      <td>[comedy]</td>\n",
       "      <td>[baby, midlifecrisis, confidence, aging, daugh...</td>\n",
       "      <td>[stevemartin, dianekeaton, martinshort, kimber...</td>\n",
       "      <td>[charlesshyer]</td>\n",
       "    </tr>\n",
       "  </tbody>\n",
       "</table>\n",
       "</div>"
      ],
      "text/plain": [
       "   movieId                        title                                           overview                        genres                                           keywords                                               cast          director\n",
       "0      862                    Toy Story  Led by Woody, Andy's toys live happily in his ...   [animation, comedy, family]  [jealousy, toy, boy, friendship, friends, riva...  [tomhanks, timallen, donrickles, jimvarney, wa...    [johnlasseter]\n",
       "1     8844                      Jumanji  When siblings Judy and Peter discover an encha...  [adventure, fantasy, family]  [boardgame, disappearance, basedonchildrensboo...  [robinwilliams, jonathanhyde, kirstendunst, br...     [joejohnston]\n",
       "2    15602             Grumpier Old Men  A family wedding reignites the ancient feud be...             [romance, comedy]  [fishing, bestfriend, duringcreditsstinger, ol...  [waltermatthau, jacklemmon, ann-margret, sophi...    [howarddeutch]\n",
       "3    31357            Waiting to Exhale  Cheated on, mistreated and stepped on, the wom...      [comedy, drama, romance]  [basedonnovel, interracialrelationship, single...  [whitneyhouston, angelabassett, lorettadevine,...  [forestwhitaker]\n",
       "4    11862  Father of the Bride Part II  Just when George Banks has recovered from his ...                      [comedy]  [baby, midlifecrisis, confidence, aging, daugh...  [stevemartin, dianekeaton, martinshort, kimber...    [charlesshyer]"
      ]
     },
     "execution_count": 140,
     "metadata": {},
     "output_type": "execute_result"
    }
   ],
   "source": [
    "#convert all strings to lowercase and strip names of spaces\n",
    "def clean_data(x):\n",
    "    if isinstance(x, list):\n",
    "        return [str.lower(i.replace(\"',\",\", \").replace(\"'\",\"\").replace(\"[\",\"\").replace(\"]\",\"\").replace('\"','').replace(\" \", \"\")) for i in x]\n",
    "    else:\n",
    "        if isinstance(x, str):\n",
    "            return str.lower(x.replace(\"',\",\", \").replace(\"'\",\"\").replace(\"[\",\"\").replace(\"]\",\"\").replace('\"','').replace(\" \", \"\"))\n",
    "        else:\n",
    "            return ''\n",
    "\n",
    "features = ['cast', 'director', 'keywords', 'genres']\n",
    "\n",
    "#apply clean_data to features\n",
    "for feature in features:\n",
    "    df_movie[feature] = df_movie[feature].map(lambda x: x.split(','))\n",
    "    df_movie[feature] = df_movie[feature].apply(clean_data)\n",
    "\n",
    "df_movie.head()"
   ]
  },
  {
   "cell_type": "code",
   "execution_count": 141,
   "metadata": {},
   "outputs": [
    {
     "data": {
      "text/html": [
       "<div>\n",
       "<style scoped>\n",
       "    .dataframe tbody tr th:only-of-type {\n",
       "        vertical-align: middle;\n",
       "    }\n",
       "\n",
       "    .dataframe tbody tr th {\n",
       "        vertical-align: top;\n",
       "    }\n",
       "\n",
       "    .dataframe thead th {\n",
       "        text-align: right;\n",
       "    }\n",
       "</style>\n",
       "<table border=\"1\" class=\"dataframe\">\n",
       "  <thead>\n",
       "    <tr style=\"text-align: right;\">\n",
       "      <th></th>\n",
       "      <th>movieId</th>\n",
       "      <th>title</th>\n",
       "      <th>combined</th>\n",
       "    </tr>\n",
       "  </thead>\n",
       "  <tbody>\n",
       "    <tr>\n",
       "      <th>0</th>\n",
       "      <td>862</td>\n",
       "      <td>Toy Story</td>\n",
       "      <td>jealousy toy boy friendship friends rivalry bo...</td>\n",
       "    </tr>\n",
       "    <tr>\n",
       "      <th>1</th>\n",
       "      <td>8844</td>\n",
       "      <td>Jumanji</td>\n",
       "      <td>boardgame disappearance basedonchildrensbook n...</td>\n",
       "    </tr>\n",
       "    <tr>\n",
       "      <th>2</th>\n",
       "      <td>15602</td>\n",
       "      <td>Grumpier Old Men</td>\n",
       "      <td>fishing bestfriend duringcreditsstinger oldmen...</td>\n",
       "    </tr>\n",
       "    <tr>\n",
       "      <th>3</th>\n",
       "      <td>31357</td>\n",
       "      <td>Waiting to Exhale</td>\n",
       "      <td>basedonnovel interracialrelationship singlemot...</td>\n",
       "    </tr>\n",
       "    <tr>\n",
       "      <th>4</th>\n",
       "      <td>11862</td>\n",
       "      <td>Father of the Bride Part II</td>\n",
       "      <td>baby midlifecrisis confidence aging daughter m...</td>\n",
       "    </tr>\n",
       "  </tbody>\n",
       "</table>\n",
       "</div>"
      ],
      "text/plain": [
       "   movieId                        title                                           combined\n",
       "0      862                    Toy Story  jealousy toy boy friendship friends rivalry bo...\n",
       "1     8844                      Jumanji  boardgame disappearance basedonchildrensbook n...\n",
       "2    15602             Grumpier Old Men  fishing bestfriend duringcreditsstinger oldmen...\n",
       "3    31357            Waiting to Exhale  basedonnovel interracialrelationship singlemot...\n",
       "4    11862  Father of the Bride Part II  baby midlifecrisis confidence aging daughter m..."
      ]
     },
     "execution_count": 141,
     "metadata": {},
     "output_type": "execute_result"
    }
   ],
   "source": [
    "#combine all features into one column\n",
    "def create_combined_column(x):\n",
    "    return ' '.join(x['keywords']) + ' ' + ' '.join(x['cast']) + ' ' + ' '.join(x['director']) + ' ' + ' '.join(x['genres'])\n",
    "\n",
    "df_movie['combined'] = df_movie.apply(create_combined_column, axis=1)\n",
    "\n",
    "#take only the columns we need\n",
    "df_movie = df_movie[['movieId','title','combined']]\n",
    "\n",
    "df_movie.head()"
   ]
  },
  {
   "cell_type": "code",
   "execution_count": 142,
   "metadata": {},
   "outputs": [
    {
     "data": {
      "text/plain": [
       "(42276, 3)"
      ]
     },
     "execution_count": 142,
     "metadata": {},
     "output_type": "execute_result"
    }
   ],
   "source": [
    "df_movie.shape"
   ]
  },
  {
   "cell_type": "code",
   "execution_count": 143,
   "metadata": {},
   "outputs": [
    {
     "data": {
      "text/plain": [
       "'boardgame disappearance basedonchildrensbook newhome recluse giantinsect robinwilliams jonathanhyde kirstendunst bradleypierce bonniehunt bebeneuwirth davidalangrier patriciaclarkson adamhann-byrd laurabellbundy jameshandy gillianbarber brandonobray cyrusthiedeke garyjosephthorup leonardzola lloydberry malcolmstewart annabelkershaw darrylhenriques robyndriscoll peterbryant sarahgilson floricavlad junelion brendalockmuller joejohnston adventure fantasy family'"
      ]
     },
     "execution_count": 143,
     "metadata": {},
     "output_type": "execute_result"
    }
   ],
   "source": [
    "df_movie['combined'][1]"
   ]
  },
  {
   "cell_type": "markdown",
   "metadata": {},
   "source": [
    "4. EDA"
   ]
  },
  {
   "cell_type": "code",
   "execution_count": 144,
   "metadata": {},
   "outputs": [
    {
     "data": {
      "text/plain": [
       "Index(['adult', 'belongs_to_collection', 'budget', 'genres', 'homepage',\n",
       "       'movieId', 'imdb_id', 'original_language', 'original_title', 'overview',\n",
       "       'popularity', 'poster_path', 'production_companies',\n",
       "       'production_countries', 'release_date', 'revenue', 'runtime',\n",
       "       'spoken_languages', 'status', 'tagline', 'title', 'video',\n",
       "       'vote_average', 'vote_count', 'IMBD_poster_path', 'IMBD_backdrop_path',\n",
       "       'cast', 'director', 'keywords'],\n",
       "      dtype='object')"
      ]
     },
     "execution_count": 144,
     "metadata": {},
     "output_type": "execute_result"
    }
   ],
   "source": [
    "#exploratory data analysis\n",
    "df_movies_explore.columns"
   ]
  },
  {
   "cell_type": "code",
   "execution_count": 145,
   "metadata": {},
   "outputs": [
    {
     "data": {
      "text/plain": [
       "Text(0.5, 1.0, 'Most popular movies')"
      ]
     },
     "execution_count": 145,
     "metadata": {},
     "output_type": "execute_result"
    },
    {
     "data": {
      "image/png": "[encoded data removed]",
      "text/plain": [
       "<Figure size 1000x800 with 1 Axes>"
      ]
     },
     "metadata": {},
     "output_type": "display_data"
    }
   ],
   "source": [
    "import matplotlib.pyplot as plt\n",
    "\n",
    "#plot most popular movies\n",
    "df_movies_explore['popularity'].describe()\n",
    "\n",
    "#change popularity to float\n",
    "df_movies_explore['popularity'] = pd.to_numeric(df_movies_explore['popularity'], errors='coerce')\n",
    "\n",
    "most_popular_movies = df_movies_explore.sort_values(by='popularity', ascending=False)[['title','popularity']].head(10)\n",
    "most_popular_movies.plot(kind='bar', x='title', y='popularity',color = 'purple', figsize=(10,8))\n",
    "plt.title('Most popular movies')"
   ]
  },
  {
   "cell_type": "code",
   "execution_count": 146,
   "metadata": {},
   "outputs": [
    {
     "data": {
      "text/plain": [
       "Text(0.5, 1.0, 'Most rated movies')"
      ]
     },
     "execution_count": 146,
     "metadata": {},
     "output_type": "execute_result"
    },
    {
     "data": {
      "image/png": "[encoded data removed]",
      "text/plain": [
       "<Figure size 1000x800 with 1 Axes>"
      ]
     },
     "metadata": {},
     "output_type": "display_data"
    }
   ],
   "source": [
    "#mark empty values as null\n",
    "df_movies_explore['vote_average'] = pd.to_numeric(df_movies_explore['vote_average'], errors='coerce')\n",
    "df_movies_explore['vote_count'] = pd.to_numeric(df_movies_explore['vote_count'], errors='coerce')\n",
    "\n",
    "#plot most rated movies\n",
    "most_rated_movies = df_movies_explore.sort_values(by='vote_count', ascending=False)[['title','vote_count']].head(10)\n",
    "most_rated_movies.plot(kind='barh', x='title', y='vote_count',color = 'purple', figsize=(10,8))\n",
    "plt.title('Most rated movies')\n"
   ]
  },
  {
   "cell_type": "code",
   "execution_count": 147,
   "metadata": {},
   "outputs": [
    {
     "name": "stdout",
     "output_type": "stream",
     "text": [
      "0\n"
     ]
    }
   ],
   "source": [
    "#most popular directors\n",
    "df_movies_explore['director'].tolist()\n",
    "print(df_movies_explore['director'].isnull().sum())"
   ]
  },
  {
   "cell_type": "code",
   "execution_count": 148,
   "metadata": {},
   "outputs": [
    {
     "data": {
      "text/plain": [
       "Text(0.5, 1.0, 'Most popular directors')"
      ]
     },
     "execution_count": 148,
     "metadata": {},
     "output_type": "execute_result"
    },
    {
     "data": {
      "image/png": "[encoded data removed]",
      "text/plain": [
       "<Figure size 1000x800 with 1 Axes>"
      ]
     },
     "metadata": {},
     "output_type": "display_data"
    }
   ],
   "source": [
    "\n",
    "#plot most popular directors\n",
    "df_movies_explore['director'] = df_movies_explore['director'].apply(lambda x: x[0] if x else \"No director found\")\n",
    "most_popular_directors = df_movies_explore.groupby('director')['popularity'].sum().reset_index()\n",
    "most_popular_directors = most_popular_directors.sort_values(by='popularity', ascending=False).head(10)\n",
    "most_popular_directors.plot(kind='bar', x='director', y='popularity',color = 'purple', figsize=(10,8))\n",
    "plt.title('Most popular directors')\n"
   ]
  },
  {
   "attachments": {},
   "cell_type": "markdown",
   "metadata": {},
   "source": [
    "5. Ekstrakcja cech"
   ]
  },
  {
   "cell_type": "code",
   "execution_count": 149,
   "metadata": {},
   "outputs": [
    {
     "name": "stdout",
     "output_type": "stream",
     "text": [
      "  (0, 65712)\t0.09065845770248461\n",
      "  (0, 41521)\t0.05412887279318929\n",
      "  (0, 11876)\t0.10082070915165445\n",
      "  (0, 104583)\t0.21432717637754442\n",
      "  (0, 167572)\t0.21174984427542742\n",
      "  (0, 189185)\t0.2511199628837299\n",
      "  (0, 124249)\t0.19541338208245773\n",
      "  (0, 123588)\t0.2062913000134549\n",
      "  (0, 63170)\t0.22870563144859238\n",
      "  (0, 104878)\t0.2456614186217573\n",
      "  (0, 13339)\t0.22047483747894905\n",
      "  (0, 105354)\t0.19137519626536642\n",
      "  (0, 219273)\t0.18007818937046063\n",
      "  (0, 101231)\t0.21055633781243877\n",
      "  (0, 54916)\t0.20183134460891716\n",
      "  (0, 208752)\t0.20266064538539658\n",
      "  (0, 210508)\t0.18181381286926904\n",
      "  (0, 212466)\t0.21432717637754442\n",
      "  (0, 156790)\t0.25815725039038456\n",
      "  (0, 25626)\t0.2511199628837299\n",
      "  (0, 179866)\t0.17578635854572142\n",
      "  (0, 70848)\t0.16027845132426247\n",
      "  (0, 70849)\t0.13946674017822996\n",
      "  (0, 25587)\t0.18368205097276355\n",
      "  (0, 212461)\t0.21055633781243877\n",
      "  :\t:\n",
      "  (42272, 65712)\t0.15822323156556412\n",
      "  (42273, 151752)\t0.2708181473841452\n",
      "  (42273, 176403)\t0.2708181473841452\n",
      "  (42273, 22343)\t0.2708181473841452\n",
      "  (42273, 182575)\t0.2708181473841452\n",
      "  (42273, 19677)\t0.2708181473841452\n",
      "  (42273, 46768)\t0.26079818211707245\n",
      "  (42273, 123684)\t0.24817451880964778\n",
      "  (42273, 82582)\t0.26079818211707245\n",
      "  (42273, 11438)\t0.26079818211707245\n",
      "  (42273, 11503)\t0.24366893835406214\n",
      "  (42273, 197084)\t0.25368890362113494\n",
      "  (42273, 171235)\t0.2127103153278609\n",
      "  (42273, 167895)\t0.25368890362113494\n",
      "  (42273, 102743)\t0.22868994367005196\n",
      "  (42273, 171480)\t0.21943041609511424\n",
      "  (42273, 16330)\t0.17845182780184024\n",
      "  (42273, 55871)\t0.04494202897313905\n",
      "  (42274, 4370)\t0.43034582641405544\n",
      "  (42274, 223299)\t0.40312645934341274\n",
      "  (42274, 216203)\t0.40312645934341274\n",
      "  (42274, 155579)\t0.40312645934341274\n",
      "  (42274, 90642)\t0.3943637803583208\n",
      "  (42274, 167000)\t0.41442351738436517\n",
      "  (42275, 44385)\t1.0\n"
     ]
    }
   ],
   "source": [
    "#convert combined column from text to feature vector\n",
    "vectorizer = sk_text.TfidfVectorizer(stop_words='english')\n",
    "X = vectorizer.fit_transform(df_movie['combined'])\n",
    "\n",
    "print(X)"
   ]
  },
  {
   "attachments": {},
   "cell_type": "markdown",
   "metadata": {},
   "source": [
    "6. Miara podobieństwa"
   ]
  },
  {
   "cell_type": "code",
   "execution_count": 150,
   "metadata": {},
   "outputs": [
    {
     "ename": "MemoryError",
     "evalue": "Unable to allocate 13.3 GiB for an array with shape (42276, 42276) and data type float64",
     "output_type": "error",
     "traceback": [
      "\u001b[1;31m---------------------------------------------------------------------------\u001b[0m",
      "\u001b[1;31mMemoryError\u001b[0m                               Traceback (most recent call last)",
      "Cell \u001b[1;32mIn [150], line 2\u001b[0m\n\u001b[0;32m      1\u001b[0m \u001b[39m#finding the similarity scores between movies using cosine similarity\u001b[39;00m\n\u001b[1;32m----> 2\u001b[0m cosine_sim \u001b[39m=\u001b[39m sk_pairwise\u001b[39m.\u001b[39;49mcosine_similarity(X, X)\n\u001b[0;32m      3\u001b[0m \u001b[39mprint\u001b[39m(cosine_sim)\n",
      "File \u001b[1;32m~\\AppData\\Local\\Packages\\PythonSoftwareFoundation.Python.3.10_qbz5n2kfra8p0\\LocalCache\\local-packages\\Python310\\site-packages\\sklearn\\metrics\\pairwise.py:1401\u001b[0m, in \u001b[0;36mcosine_similarity\u001b[1;34m(X, Y, dense_output)\u001b[0m\n\u001b[0;32m   1398\u001b[0m \u001b[39melse\u001b[39;00m:\n\u001b[0;32m   1399\u001b[0m     Y_normalized \u001b[39m=\u001b[39m normalize(Y, copy\u001b[39m=\u001b[39m\u001b[39mTrue\u001b[39;00m)\n\u001b[1;32m-> 1401\u001b[0m K \u001b[39m=\u001b[39m safe_sparse_dot(X_normalized, Y_normalized\u001b[39m.\u001b[39;49mT, dense_output\u001b[39m=\u001b[39;49mdense_output)\n\u001b[0;32m   1403\u001b[0m \u001b[39mreturn\u001b[39;00m K\n",
      "File \u001b[1;32m~\\AppData\\Local\\Packages\\PythonSoftwareFoundation.Python.3.10_qbz5n2kfra8p0\\LocalCache\\local-packages\\Python310\\site-packages\\sklearn\\utils\\extmath.py:197\u001b[0m, in \u001b[0;36msafe_sparse_dot\u001b[1;34m(a, b, dense_output)\u001b[0m\n\u001b[0;32m    189\u001b[0m     ret \u001b[39m=\u001b[39m a \u001b[39m@\u001b[39m b\n\u001b[0;32m    191\u001b[0m \u001b[39mif\u001b[39;00m (\n\u001b[0;32m    192\u001b[0m     sparse\u001b[39m.\u001b[39missparse(a)\n\u001b[0;32m    193\u001b[0m     \u001b[39mand\u001b[39;00m sparse\u001b[39m.\u001b[39missparse(b)\n\u001b[0;32m    194\u001b[0m     \u001b[39mand\u001b[39;00m dense_output\n\u001b[0;32m    195\u001b[0m     \u001b[39mand\u001b[39;00m \u001b[39mhasattr\u001b[39m(ret, \u001b[39m\"\u001b[39m\u001b[39mtoarray\u001b[39m\u001b[39m\"\u001b[39m)\n\u001b[0;32m    196\u001b[0m ):\n\u001b[1;32m--> 197\u001b[0m     \u001b[39mreturn\u001b[39;00m ret\u001b[39m.\u001b[39;49mtoarray()\n\u001b[0;32m    198\u001b[0m \u001b[39mreturn\u001b[39;00m ret\n",
      "File \u001b[1;32m~\\AppData\\Local\\Packages\\PythonSoftwareFoundation.Python.3.10_qbz5n2kfra8p0\\LocalCache\\local-packages\\Python310\\site-packages\\scipy\\sparse\\compressed.py:1039\u001b[0m, in \u001b[0;36m_cs_matrix.toarray\u001b[1;34m(self, order, out)\u001b[0m\n\u001b[0;32m   1037\u001b[0m \u001b[39mif\u001b[39;00m out \u001b[39mis\u001b[39;00m \u001b[39mNone\u001b[39;00m \u001b[39mand\u001b[39;00m order \u001b[39mis\u001b[39;00m \u001b[39mNone\u001b[39;00m:\n\u001b[0;32m   1038\u001b[0m     order \u001b[39m=\u001b[39m \u001b[39mself\u001b[39m\u001b[39m.\u001b[39m_swap(\u001b[39m'\u001b[39m\u001b[39mcf\u001b[39m\u001b[39m'\u001b[39m)[\u001b[39m0\u001b[39m]\n\u001b[1;32m-> 1039\u001b[0m out \u001b[39m=\u001b[39m \u001b[39mself\u001b[39;49m\u001b[39m.\u001b[39;49m_process_toarray_args(order, out)\n\u001b[0;32m   1040\u001b[0m \u001b[39mif\u001b[39;00m \u001b[39mnot\u001b[39;00m (out\u001b[39m.\u001b[39mflags\u001b[39m.\u001b[39mc_contiguous \u001b[39mor\u001b[39;00m out\u001b[39m.\u001b[39mflags\u001b[39m.\u001b[39mf_contiguous):\n\u001b[0;32m   1041\u001b[0m     \u001b[39mraise\u001b[39;00m \u001b[39mValueError\u001b[39;00m(\u001b[39m'\u001b[39m\u001b[39mOutput array must be C or F contiguous\u001b[39m\u001b[39m'\u001b[39m)\n",
      "File \u001b[1;32m~\\AppData\\Local\\Packages\\PythonSoftwareFoundation.Python.3.10_qbz5n2kfra8p0\\LocalCache\\local-packages\\Python310\\site-packages\\scipy\\sparse\\base.py:1202\u001b[0m, in \u001b[0;36mspmatrix._process_toarray_args\u001b[1;34m(self, order, out)\u001b[0m\n\u001b[0;32m   1200\u001b[0m     \u001b[39mreturn\u001b[39;00m out\n\u001b[0;32m   1201\u001b[0m \u001b[39melse\u001b[39;00m:\n\u001b[1;32m-> 1202\u001b[0m     \u001b[39mreturn\u001b[39;00m np\u001b[39m.\u001b[39;49mzeros(\u001b[39mself\u001b[39;49m\u001b[39m.\u001b[39;49mshape, dtype\u001b[39m=\u001b[39;49m\u001b[39mself\u001b[39;49m\u001b[39m.\u001b[39;49mdtype, order\u001b[39m=\u001b[39;49morder)\n",
      "\u001b[1;31mMemoryError\u001b[0m: Unable to allocate 13.3 GiB for an array with shape (42276, 42276) and data type float64"
     ]
    }
   ],
   "source": [
    "#finding the similarity scores between movies using cosine similarity\n",
    "cosine_sim = sk_pairwise.cosine_similarity(X, X)\n",
    "print(cosine_sim)"
   ]
  },
  {
   "cell_type": "code",
   "execution_count": null,
   "metadata": {},
   "outputs": [
    {
     "data": {
      "text/plain": [
       "(42276, 42276)"
      ]
     },
     "execution_count": 556,
     "metadata": {},
     "output_type": "execute_result"
    }
   ],
   "source": [
    "cosine_sim.shape"
   ]
  },
  {
   "attachments": {},
   "cell_type": "markdown",
   "metadata": {},
   "source": [
    "7. Rekomendacje"
   ]
  },
  {
   "cell_type": "code",
   "execution_count": null,
   "metadata": {},
   "outputs": [
    {
     "data": {
      "text/html": [
       "<div>\n",
       "<style scoped>\n",
       "    .dataframe tbody tr th:only-of-type {\n",
       "        vertical-align: middle;\n",
       "    }\n",
       "\n",
       "    .dataframe tbody tr th {\n",
       "        vertical-align: top;\n",
       "    }\n",
       "\n",
       "    .dataframe thead th {\n",
       "        text-align: right;\n",
       "    }\n",
       "</style>\n",
       "<table border=\"1\" class=\"dataframe\">\n",
       "  <thead>\n",
       "    <tr style=\"text-align: right;\">\n",
       "      <th></th>\n",
       "      <th>title</th>\n",
       "      <th>similarity_score</th>\n",
       "    </tr>\n",
       "  </thead>\n",
       "  <tbody>\n",
       "    <tr>\n",
       "      <th>25062</th>\n",
       "      <td>Pirates of the Caribbean: Dead Men Tell No Tales</td>\n",
       "      <td>0.131471</td>\n",
       "    </tr>\n",
       "    <tr>\n",
       "      <th>11856</th>\n",
       "      <td>The War on Democracy</td>\n",
       "      <td>0.085815</td>\n",
       "    </tr>\n",
       "    <tr>\n",
       "      <th>23820</th>\n",
       "      <td>The Water Diviner</td>\n",
       "      <td>0.079198</td>\n",
       "    </tr>\n",
       "    <tr>\n",
       "      <th>6213</th>\n",
       "      <td>Heaven Knows, Mr. Allison</td>\n",
       "      <td>0.078288</td>\n",
       "    </tr>\n",
       "    <tr>\n",
       "      <th>24011</th>\n",
       "      <td>Unbroken</td>\n",
       "      <td>0.071459</td>\n",
       "    </tr>\n",
       "    <tr>\n",
       "      <th>8063</th>\n",
       "      <td>Voices of Iraq</td>\n",
       "      <td>0.067403</td>\n",
       "    </tr>\n",
       "    <tr>\n",
       "      <th>33321</th>\n",
       "      <td>Gaston's War</td>\n",
       "      <td>0.061323</td>\n",
       "    </tr>\n",
       "    <tr>\n",
       "      <th>37314</th>\n",
       "      <td>The Light Between Oceans</td>\n",
       "      <td>0.059624</td>\n",
       "    </tr>\n",
       "    <tr>\n",
       "      <th>4915</th>\n",
       "      <td>Hart's War</td>\n",
       "      <td>0.057453</td>\n",
       "    </tr>\n",
       "    <tr>\n",
       "      <th>18069</th>\n",
       "      <td>Chosin</td>\n",
       "      <td>0.057279</td>\n",
       "    </tr>\n",
       "    <tr>\n",
       "      <th>38607</th>\n",
       "      <td>Underfire: The Untold Story of Pfc. Tony Vaccaro</td>\n",
       "      <td>0.057279</td>\n",
       "    </tr>\n",
       "    <tr>\n",
       "      <th>17504</th>\n",
       "      <td>G.I. Joe: The Revenge of Cobra</td>\n",
       "      <td>0.056379</td>\n",
       "    </tr>\n",
       "    <tr>\n",
       "      <th>9978</th>\n",
       "      <td>The Great Raid</td>\n",
       "      <td>0.056370</td>\n",
       "    </tr>\n",
       "    <tr>\n",
       "      <th>33437</th>\n",
       "      <td>Lava Kusa-The Warrior Twins</td>\n",
       "      <td>0.055998</td>\n",
       "    </tr>\n",
       "    <tr>\n",
       "      <th>26580</th>\n",
       "      <td>I'm Here</td>\n",
       "      <td>0.055856</td>\n",
       "    </tr>\n",
       "    <tr>\n",
       "      <th>39154</th>\n",
       "      <td>The White Helmets</td>\n",
       "      <td>0.055397</td>\n",
       "    </tr>\n",
       "    <tr>\n",
       "      <th>41544</th>\n",
       "      <td>The Surrender of Tournavos</td>\n",
       "      <td>0.055253</td>\n",
       "    </tr>\n",
       "    <tr>\n",
       "      <th>12336</th>\n",
       "      <td>White Light/Black Rain: The Destruction of Hir...</td>\n",
       "      <td>0.055059</td>\n",
       "    </tr>\n",
       "    <tr>\n",
       "      <th>32666</th>\n",
       "      <td>The Execution of Private Slovik</td>\n",
       "      <td>0.054609</td>\n",
       "    </tr>\n",
       "    <tr>\n",
       "      <th>34</th>\n",
       "      <td>Carrington</td>\n",
       "      <td>0.054384</td>\n",
       "    </tr>\n",
       "    <tr>\n",
       "      <th>33718</th>\n",
       "      <td>The Carboard Bernini</td>\n",
       "      <td>0.054154</td>\n",
       "    </tr>\n",
       "    <tr>\n",
       "      <th>7944</th>\n",
       "      <td>Paparazzi</td>\n",
       "      <td>0.053999</td>\n",
       "    </tr>\n",
       "    <tr>\n",
       "      <th>6940</th>\n",
       "      <td>Kiss Them for Me</td>\n",
       "      <td>0.053731</td>\n",
       "    </tr>\n",
       "    <tr>\n",
       "      <th>8610</th>\n",
       "      <td>Merry Christmas, Mr. Lawrence</td>\n",
       "      <td>0.053115</td>\n",
       "    </tr>\n",
       "    <tr>\n",
       "      <th>8334</th>\n",
       "      <td>The Human Condition II: Road to Eternity</td>\n",
       "      <td>0.052917</td>\n",
       "    </tr>\n",
       "    <tr>\n",
       "      <th>31443</th>\n",
       "      <td>The Life and Times of Rosie the Riveter</td>\n",
       "      <td>0.052680</td>\n",
       "    </tr>\n",
       "    <tr>\n",
       "      <th>17089</th>\n",
       "      <td>Killer Elite</td>\n",
       "      <td>0.052207</td>\n",
       "    </tr>\n",
       "    <tr>\n",
       "      <th>41738</th>\n",
       "      <td>Churchill</td>\n",
       "      <td>0.050801</td>\n",
       "    </tr>\n",
       "    <tr>\n",
       "      <th>14120</th>\n",
       "      <td>Shooting War</td>\n",
       "      <td>0.050452</td>\n",
       "    </tr>\n",
       "    <tr>\n",
       "      <th>27473</th>\n",
       "      <td>Killing Jesus</td>\n",
       "      <td>0.049999</td>\n",
       "    </tr>\n",
       "  </tbody>\n",
       "</table>\n",
       "</div>"
      ],
      "text/plain": [
       "                                                   title  similarity_score\n",
       "25062   Pirates of the Caribbean: Dead Men Tell No Tales          0.131471\n",
       "11856                               The War on Democracy          0.085815\n",
       "23820                                  The Water Diviner          0.079198\n",
       "6213                           Heaven Knows, Mr. Allison          0.078288\n",
       "24011                                           Unbroken          0.071459\n",
       "8063                                      Voices of Iraq          0.067403\n",
       "33321                                       Gaston's War          0.061323\n",
       "37314                           The Light Between Oceans          0.059624\n",
       "4915                                          Hart's War          0.057453\n",
       "18069                                             Chosin          0.057279\n",
       "38607   Underfire: The Untold Story of Pfc. Tony Vaccaro          0.057279\n",
       "17504                     G.I. Joe: The Revenge of Cobra          0.056379\n",
       "9978                                      The Great Raid          0.056370\n",
       "33437                        Lava Kusa-The Warrior Twins          0.055998\n",
       "26580                                           I'm Here          0.055856\n",
       "39154                                  The White Helmets          0.055397\n",
       "41544                         The Surrender of Tournavos          0.055253\n",
       "12336  White Light/Black Rain: The Destruction of Hir...          0.055059\n",
       "32666                    The Execution of Private Slovik          0.054609\n",
       "34                                            Carrington          0.054384\n",
       "33718                               The Carboard Bernini          0.054154\n",
       "7944                                           Paparazzi          0.053999\n",
       "6940                                    Kiss Them for Me          0.053731\n",
       "8610                       Merry Christmas, Mr. Lawrence          0.053115\n",
       "8334            The Human Condition II: Road to Eternity          0.052917\n",
       "31443            The Life and Times of Rosie the Riveter          0.052680\n",
       "17089                                       Killer Elite          0.052207\n",
       "41738                                          Churchill          0.050801\n",
       "14120                                       Shooting War          0.050452\n",
       "27473                                      Killing Jesus          0.049999"
      ]
     },
     "execution_count": 557,
     "metadata": {},
     "output_type": "execute_result"
    }
   ],
   "source": [
    "def get_recommendations(title, cosine_sim=cosine_sim, top_n=30):\n",
    "    idx = df_movie[df_movie['title'] == title].index[0]\n",
    "    sim_scores = list(enumerate(cosine_sim[idx]))\n",
    "    sim_scores = sorted(sim_scores, key=lambda x: x[1], reverse=True)[1:top_n + 1]\n",
    "    movie_indices = [i[0] for i in sim_scores]\n",
    "    recommendations_df = pd.DataFrame({\n",
    "        'title': df_movie['title'].iloc[movie_indices],\n",
    "        'similarity_score': [x[1] for x in sim_scores]\n",
    "    })\n",
    "    \n",
    "    return recommendations_df\n",
    "\n",
    "get_recommendations('Hacksaw Ridge')"
   ]
  },
  {
   "cell_type": "code",
   "execution_count": null,
   "metadata": {},
   "outputs": [
    {
     "data": {
      "text/html": [
       "<div>\n",
       "<style scoped>\n",
       "    .dataframe tbody tr th:only-of-type {\n",
       "        vertical-align: middle;\n",
       "    }\n",
       "\n",
       "    .dataframe tbody tr th {\n",
       "        vertical-align: top;\n",
       "    }\n",
       "\n",
       "    .dataframe thead th {\n",
       "        text-align: right;\n",
       "    }\n",
       "</style>\n",
       "<table border=\"1\" class=\"dataframe\">\n",
       "  <thead>\n",
       "    <tr style=\"text-align: right;\">\n",
       "      <th></th>\n",
       "      <th>title</th>\n",
       "      <th>similarity_score</th>\n",
       "    </tr>\n",
       "  </thead>\n",
       "  <tbody>\n",
       "    <tr>\n",
       "      <th>25062</th>\n",
       "      <td>Pirates of the Caribbean: Dead Men Tell No Tales</td>\n",
       "      <td>0.001119</td>\n",
       "    </tr>\n",
       "    <tr>\n",
       "      <th>17219</th>\n",
       "      <td>Oranges and Sunshine</td>\n",
       "      <td>0.000968</td>\n",
       "    </tr>\n",
       "    <tr>\n",
       "      <th>25032</th>\n",
       "      <td>Legacy</td>\n",
       "      <td>0.000946</td>\n",
       "    </tr>\n",
       "    <tr>\n",
       "      <th>5151</th>\n",
       "      <td>The Mystic Masseur</td>\n",
       "      <td>0.000827</td>\n",
       "    </tr>\n",
       "    <tr>\n",
       "      <th>21011</th>\n",
       "      <td>World War II: When Lions Roared</td>\n",
       "      <td>0.000778</td>\n",
       "    </tr>\n",
       "    <tr>\n",
       "      <th>21545</th>\n",
       "      <td>I, Frankenstein</td>\n",
       "      <td>0.000777</td>\n",
       "    </tr>\n",
       "    <tr>\n",
       "      <th>3592</th>\n",
       "      <td>The Patriot</td>\n",
       "      <td>0.000633</td>\n",
       "    </tr>\n",
       "    <tr>\n",
       "      <th>21204</th>\n",
       "      <td>World War Three</td>\n",
       "      <td>0.000615</td>\n",
       "    </tr>\n",
       "    <tr>\n",
       "      <th>2505</th>\n",
       "      <td>Superman III</td>\n",
       "      <td>0.000589</td>\n",
       "    </tr>\n",
       "    <tr>\n",
       "      <th>10595</th>\n",
       "      <td>I Love Your Work</td>\n",
       "      <td>0.000579</td>\n",
       "    </tr>\n",
       "    <tr>\n",
       "      <th>17660</th>\n",
       "      <td>Red Tails</td>\n",
       "      <td>0.000546</td>\n",
       "    </tr>\n",
       "    <tr>\n",
       "      <th>10582</th>\n",
       "      <td>Fragile</td>\n",
       "      <td>0.000508</td>\n",
       "    </tr>\n",
       "    <tr>\n",
       "      <th>20288</th>\n",
       "      <td>The Wolverine</td>\n",
       "      <td>0.000471</td>\n",
       "    </tr>\n",
       "    <tr>\n",
       "      <th>17504</th>\n",
       "      <td>G.I. Joe: The Revenge of Cobra</td>\n",
       "      <td>0.000465</td>\n",
       "    </tr>\n",
       "    <tr>\n",
       "      <th>8324</th>\n",
       "      <td>Carve Her Name with Pride</td>\n",
       "      <td>0.000459</td>\n",
       "    </tr>\n",
       "    <tr>\n",
       "      <th>3253</th>\n",
       "      <td>Erin Brockovich</td>\n",
       "      <td>0.000425</td>\n",
       "    </tr>\n",
       "    <tr>\n",
       "      <th>5879</th>\n",
       "      <td>Missing</td>\n",
       "      <td>0.000422</td>\n",
       "    </tr>\n",
       "    <tr>\n",
       "      <th>7620</th>\n",
       "      <td>The Long Way Home</td>\n",
       "      <td>0.000414</td>\n",
       "    </tr>\n",
       "    <tr>\n",
       "      <th>3535</th>\n",
       "      <td>The Toxic Avenger Part II</td>\n",
       "      <td>0.000414</td>\n",
       "    </tr>\n",
       "    <tr>\n",
       "      <th>9608</th>\n",
       "      <td>Walker</td>\n",
       "      <td>0.000409</td>\n",
       "    </tr>\n",
       "    <tr>\n",
       "      <th>40179</th>\n",
       "      <td>One Hundredth of a Second</td>\n",
       "      <td>0.000403</td>\n",
       "    </tr>\n",
       "    <tr>\n",
       "      <th>5400</th>\n",
       "      <td>The Four Feathers</td>\n",
       "      <td>0.000401</td>\n",
       "    </tr>\n",
       "    <tr>\n",
       "      <th>5450</th>\n",
       "      <td>Below</td>\n",
       "      <td>0.000401</td>\n",
       "    </tr>\n",
       "    <tr>\n",
       "      <th>14943</th>\n",
       "      <td>Play Dirty</td>\n",
       "      <td>0.000397</td>\n",
       "    </tr>\n",
       "    <tr>\n",
       "      <th>17663</th>\n",
       "      <td>The Flowers of War</td>\n",
       "      <td>0.000391</td>\n",
       "    </tr>\n",
       "    <tr>\n",
       "      <th>15748</th>\n",
       "      <td>Merrill's Marauders</td>\n",
       "      <td>0.000391</td>\n",
       "    </tr>\n",
       "    <tr>\n",
       "      <th>9055</th>\n",
       "      <td>Dirty Deeds</td>\n",
       "      <td>0.000389</td>\n",
       "    </tr>\n",
       "    <tr>\n",
       "      <th>41544</th>\n",
       "      <td>The Surrender of Tournavos</td>\n",
       "      <td>0.000389</td>\n",
       "    </tr>\n",
       "    <tr>\n",
       "      <th>10933</th>\n",
       "      <td>Initial D</td>\n",
       "      <td>0.000379</td>\n",
       "    </tr>\n",
       "    <tr>\n",
       "      <th>20405</th>\n",
       "      <td>Riddick</td>\n",
       "      <td>0.000377</td>\n",
       "    </tr>\n",
       "  </tbody>\n",
       "</table>\n",
       "</div>"
      ],
      "text/plain": [
       "                                                  title  similarity_score\n",
       "25062  Pirates of the Caribbean: Dead Men Tell No Tales          0.001119\n",
       "17219                              Oranges and Sunshine          0.000968\n",
       "25032                                            Legacy          0.000946\n",
       "5151                                 The Mystic Masseur          0.000827\n",
       "21011                   World War II: When Lions Roared          0.000778\n",
       "21545                                   I, Frankenstein          0.000777\n",
       "3592                                        The Patriot          0.000633\n",
       "21204                                   World War Three          0.000615\n",
       "2505                                       Superman III          0.000589\n",
       "10595                                  I Love Your Work          0.000579\n",
       "17660                                         Red Tails          0.000546\n",
       "10582                                           Fragile          0.000508\n",
       "20288                                     The Wolverine          0.000471\n",
       "17504                    G.I. Joe: The Revenge of Cobra          0.000465\n",
       "8324                          Carve Her Name with Pride          0.000459\n",
       "3253                                    Erin Brockovich          0.000425\n",
       "5879                                            Missing          0.000422\n",
       "7620                                  The Long Way Home          0.000414\n",
       "3535                          The Toxic Avenger Part II          0.000414\n",
       "9608                                             Walker          0.000409\n",
       "40179                         One Hundredth of a Second          0.000403\n",
       "5400                                  The Four Feathers          0.000401\n",
       "5450                                              Below          0.000401\n",
       "14943                                        Play Dirty          0.000397\n",
       "17663                                The Flowers of War          0.000391\n",
       "15748                               Merrill's Marauders          0.000391\n",
       "9055                                        Dirty Deeds          0.000389\n",
       "41544                        The Surrender of Tournavos          0.000389\n",
       "10933                                         Initial D          0.000379\n",
       "20405                                           Riddick          0.000377"
      ]
     },
     "execution_count": 558,
     "metadata": {},
     "output_type": "execute_result"
    }
   ],
   "source": [
    "def get_recommendations_for_two_users(title1, title2, cosine_sim=cosine_sim, top_n=30):\n",
    "    idx1 = df_movie[df_movie['title'] == title1].index[0]\n",
    "    idx2 = df_movie[df_movie['title'] == title2].index[0]\n",
    "    \n",
    "    # Calculate cosine similarity between the two provided movies\n",
    "    combined_similarity = cosine_sim[idx1] * cosine_sim[idx2]\n",
    "    \n",
    "    # Get movie indices sorted by combined similarity\n",
    "    sim_scores = list(enumerate(combined_similarity))\n",
    "    sim_scores = sorted(sim_scores, key=lambda x: x[1], reverse=True)[1:top_n + 1]\n",
    "    movie_indices = [i[0] for i in sim_scores]\n",
    "    \n",
    "    recommendations_df = pd.DataFrame({\n",
    "        'title': df_movie['title'].iloc[movie_indices],\n",
    "        'similarity_score': [x[1] for x in sim_scores]\n",
    "    })\n",
    "    \n",
    "    return recommendations_df\n",
    "\n",
    "\n",
    "get_recommendations_for_two_users('Hacksaw Ridge', 'The Dark Knight')"
   ]
  },
  {
   "cell_type": "markdown",
   "metadata": {},
   "source": [
    "https://medium.com/geekculture/creating-content-based-movie-recommender-with-python-7f7d1b739c63 nice article to take a look at "
   ]
  }
 ],
 "metadata": {
  "kernelspec": {
   "display_name": "Python 3",
   "language": "python",
   "name": "python3"
  },
  "language_info": {
   "codemirror_mode": {
    "name": "ipython",
    "version": 3
   },
   "file_extension": ".py",
   "mimetype": "text/x-python",
   "name": "python",
   "nbconvert_exporter": "python",
   "pygments_lexer": "ipython3",
   "version": "3.10.11"
  },
  "orig_nbformat": 4,
  "vscode": {
   "interpreter": {
    "hash": "bee5d26469ee6a7c180015fdaebd74f90d990baae4741e6a469ae76b16150172"
   }
  }
 },
 "nbformat": 4,
 "nbformat_minor": 2
}
