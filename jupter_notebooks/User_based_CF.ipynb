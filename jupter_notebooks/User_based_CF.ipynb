{
  "cells": [
    {
      "cell_type": "markdown",
      "metadata": {
        "id": "_UAEy797bV8e"
      },
      "source": [
        "### User-based collaborative filtering recommendations"
      ]
    },
    {
      "cell_type": "markdown",
      "metadata": {
        "id": "TmqW6EtnbV8l"
      },
      "source": [
        "1. Import bibliotek"
      ]
    },
    {
      "cell_type": "code",
      "execution_count": 1,
      "metadata": {
        "colab": {
          "base_uri": "https://localhost:8080/"
        },
        "id": "T40ajtfBnfRA",
        "outputId": "1243e8ee-a32b-4447-af30-bcab6b7c4c4a"
      },
      "outputs": [],
      "source": [
        "#from google.colab import drive\n",
        "#drive.mount('/content/drive')"
      ]
    },
    {
      "cell_type": "code",
      "execution_count": 2,
      "metadata": {
        "id": "imG0pkQxbV8j"
      },
      "outputs": [
        {
          "name": "stderr",
          "output_type": "stream",
          "text": [
            "C:\\Users\\dabro\\AppData\\Local\\Packages\\PythonSoftwareFoundation.Python.3.10_qbz5n2kfra8p0\\LocalCache\\local-packages\\Python310\\site-packages\\scipy\\__init__.py:146: UserWarning: A NumPy version >=1.16.5 and <1.23.0 is required for this version of SciPy (detected version 1.24.1\n",
            "  warnings.warn(f\"A NumPy version >={np_minversion} and <{np_maxversion}\"\n"
          ]
        }
      ],
      "source": [
        "import pandas as pd\n",
        "import numpy as np\n",
        "import matplotlib.pyplot as plt\n",
        "from sklearn.model_selection import train_test_split\n",
        "from sklearn.metrics import mean_squared_error\n",
        "from math import sqrt"
      ]
    },
    {
      "cell_type": "markdown",
      "metadata": {},
      "source": [
        "2. Wczytanie danych"
      ]
    },
    {
      "cell_type": "code",
      "execution_count": 3,
      "metadata": {},
      "outputs": [],
      "source": [
        "path = 'C:\\\\Users\\\\aldabrow\\\\Desktop\\\\PowerBI Excercises\\\\INZ\\\\data\\\\archive\\\\'"
      ]
    },
    {
      "cell_type": "code",
      "execution_count": 4,
      "metadata": {
        "colab": {
          "base_uri": "https://localhost:8080/",
          "height": 276
        },
        "id": "UsUnxfSYbV8l",
        "outputId": "b51b0227-59a0-4e54-be4c-d247486c7482"
      },
      "outputs": [
        {
          "name": "stderr",
          "output_type": "stream",
          "text": [
            "C:\\Users\\dabro\\AppData\\Local\\Temp\\ipykernel_20880\\3838205454.py:1: FutureWarning: The error_bad_lines argument has been deprecated and will be removed in a future version. Use on_bad_lines in the future.\n",
            "\n",
            "\n",
            "  df_movie = pd.read_csv(path + \"movies_metadata.csv\",  engine='python' , encoding='utf8', error_bad_lines=False)\n"
          ]
        },
        {
          "ename": "FileNotFoundError",
          "evalue": "[Errno 2] No such file or directory: 'C:\\\\Users\\\\aldabrow\\\\Desktop\\\\PowerBI Excercises\\\\INZ\\\\data\\\\archive\\\\movies_metadata.csv'",
          "output_type": "error",
          "traceback": [
            "\u001b[1;31m---------------------------------------------------------------------------\u001b[0m",
            "\u001b[1;31mFileNotFoundError\u001b[0m                         Traceback (most recent call last)",
            "Cell \u001b[1;32mIn [4], line 1\u001b[0m\n\u001b[1;32m----> 1\u001b[0m df_movie \u001b[39m=\u001b[39m pd\u001b[39m.\u001b[39;49mread_csv(path \u001b[39m+\u001b[39;49m \u001b[39m\"\u001b[39;49m\u001b[39mmovies_metadata.csv\u001b[39;49m\u001b[39m\"\u001b[39;49m,  engine\u001b[39m=\u001b[39;49m\u001b[39m'\u001b[39;49m\u001b[39mpython\u001b[39;49m\u001b[39m'\u001b[39;49m , encoding\u001b[39m=\u001b[39;49m\u001b[39m'\u001b[39;49m\u001b[39mutf8\u001b[39;49m\u001b[39m'\u001b[39;49m, error_bad_lines\u001b[39m=\u001b[39;49m\u001b[39mFalse\u001b[39;49;00m)\n\u001b[0;32m      2\u001b[0m df_movie\u001b[39m.\u001b[39mhead()\n",
            "File \u001b[1;32m~\\AppData\\Local\\Packages\\PythonSoftwareFoundation.Python.3.10_qbz5n2kfra8p0\\LocalCache\\local-packages\\Python310\\site-packages\\pandas\\util\\_decorators.py:211\u001b[0m, in \u001b[0;36mdeprecate_kwarg.<locals>._deprecate_kwarg.<locals>.wrapper\u001b[1;34m(*args, **kwargs)\u001b[0m\n\u001b[0;32m    209\u001b[0m     \u001b[39melse\u001b[39;00m:\n\u001b[0;32m    210\u001b[0m         kwargs[new_arg_name] \u001b[39m=\u001b[39m new_arg_value\n\u001b[1;32m--> 211\u001b[0m \u001b[39mreturn\u001b[39;00m func(\u001b[39m*\u001b[39margs, \u001b[39m*\u001b[39m\u001b[39m*\u001b[39mkwargs)\n",
            "File \u001b[1;32m~\\AppData\\Local\\Packages\\PythonSoftwareFoundation.Python.3.10_qbz5n2kfra8p0\\LocalCache\\local-packages\\Python310\\site-packages\\pandas\\util\\_decorators.py:317\u001b[0m, in \u001b[0;36mdeprecate_nonkeyword_arguments.<locals>.decorate.<locals>.wrapper\u001b[1;34m(*args, **kwargs)\u001b[0m\n\u001b[0;32m    311\u001b[0m \u001b[39mif\u001b[39;00m \u001b[39mlen\u001b[39m(args) \u001b[39m>\u001b[39m num_allow_args:\n\u001b[0;32m    312\u001b[0m     warnings\u001b[39m.\u001b[39mwarn(\n\u001b[0;32m    313\u001b[0m         msg\u001b[39m.\u001b[39mformat(arguments\u001b[39m=\u001b[39marguments),\n\u001b[0;32m    314\u001b[0m         \u001b[39mFutureWarning\u001b[39;00m,\n\u001b[0;32m    315\u001b[0m         stacklevel\u001b[39m=\u001b[39mfind_stack_level(inspect\u001b[39m.\u001b[39mcurrentframe()),\n\u001b[0;32m    316\u001b[0m     )\n\u001b[1;32m--> 317\u001b[0m \u001b[39mreturn\u001b[39;00m func(\u001b[39m*\u001b[39margs, \u001b[39m*\u001b[39m\u001b[39m*\u001b[39mkwargs)\n",
            "File \u001b[1;32m~\\AppData\\Local\\Packages\\PythonSoftwareFoundation.Python.3.10_qbz5n2kfra8p0\\LocalCache\\local-packages\\Python310\\site-packages\\pandas\\io\\parsers\\readers.py:950\u001b[0m, in \u001b[0;36mread_csv\u001b[1;34m(filepath_or_buffer, sep, delimiter, header, names, index_col, usecols, squeeze, prefix, mangle_dupe_cols, dtype, engine, converters, true_values, false_values, skipinitialspace, skiprows, skipfooter, nrows, na_values, keep_default_na, na_filter, verbose, skip_blank_lines, parse_dates, infer_datetime_format, keep_date_col, date_parser, dayfirst, cache_dates, iterator, chunksize, compression, thousands, decimal, lineterminator, quotechar, quoting, doublequote, escapechar, comment, encoding, encoding_errors, dialect, error_bad_lines, warn_bad_lines, on_bad_lines, delim_whitespace, low_memory, memory_map, float_precision, storage_options)\u001b[0m\n\u001b[0;32m    935\u001b[0m kwds_defaults \u001b[39m=\u001b[39m _refine_defaults_read(\n\u001b[0;32m    936\u001b[0m     dialect,\n\u001b[0;32m    937\u001b[0m     delimiter,\n\u001b[1;32m   (...)\u001b[0m\n\u001b[0;32m    946\u001b[0m     defaults\u001b[39m=\u001b[39m{\u001b[39m\"\u001b[39m\u001b[39mdelimiter\u001b[39m\u001b[39m\"\u001b[39m: \u001b[39m\"\u001b[39m\u001b[39m,\u001b[39m\u001b[39m\"\u001b[39m},\n\u001b[0;32m    947\u001b[0m )\n\u001b[0;32m    948\u001b[0m kwds\u001b[39m.\u001b[39mupdate(kwds_defaults)\n\u001b[1;32m--> 950\u001b[0m \u001b[39mreturn\u001b[39;00m _read(filepath_or_buffer, kwds)\n",
            "File \u001b[1;32m~\\AppData\\Local\\Packages\\PythonSoftwareFoundation.Python.3.10_qbz5n2kfra8p0\\LocalCache\\local-packages\\Python310\\site-packages\\pandas\\io\\parsers\\readers.py:605\u001b[0m, in \u001b[0;36m_read\u001b[1;34m(filepath_or_buffer, kwds)\u001b[0m\n\u001b[0;32m    602\u001b[0m _validate_names(kwds\u001b[39m.\u001b[39mget(\u001b[39m\"\u001b[39m\u001b[39mnames\u001b[39m\u001b[39m\"\u001b[39m, \u001b[39mNone\u001b[39;00m))\n\u001b[0;32m    604\u001b[0m \u001b[39m# Create the parser.\u001b[39;00m\n\u001b[1;32m--> 605\u001b[0m parser \u001b[39m=\u001b[39m TextFileReader(filepath_or_buffer, \u001b[39m*\u001b[39m\u001b[39m*\u001b[39mkwds)\n\u001b[0;32m    607\u001b[0m \u001b[39mif\u001b[39;00m chunksize \u001b[39mor\u001b[39;00m iterator:\n\u001b[0;32m    608\u001b[0m     \u001b[39mreturn\u001b[39;00m parser\n",
            "File \u001b[1;32m~\\AppData\\Local\\Packages\\PythonSoftwareFoundation.Python.3.10_qbz5n2kfra8p0\\LocalCache\\local-packages\\Python310\\site-packages\\pandas\\io\\parsers\\readers.py:1442\u001b[0m, in \u001b[0;36mTextFileReader.__init__\u001b[1;34m(self, f, engine, **kwds)\u001b[0m\n\u001b[0;32m   1439\u001b[0m     \u001b[39mself\u001b[39m\u001b[39m.\u001b[39moptions[\u001b[39m\"\u001b[39m\u001b[39mhas_index_names\u001b[39m\u001b[39m\"\u001b[39m] \u001b[39m=\u001b[39m kwds[\u001b[39m\"\u001b[39m\u001b[39mhas_index_names\u001b[39m\u001b[39m\"\u001b[39m]\n\u001b[0;32m   1441\u001b[0m \u001b[39mself\u001b[39m\u001b[39m.\u001b[39mhandles: IOHandles \u001b[39m|\u001b[39m \u001b[39mNone\u001b[39;00m \u001b[39m=\u001b[39m \u001b[39mNone\u001b[39;00m\n\u001b[1;32m-> 1442\u001b[0m \u001b[39mself\u001b[39m\u001b[39m.\u001b[39m_engine \u001b[39m=\u001b[39m \u001b[39mself\u001b[39;49m\u001b[39m.\u001b[39;49m_make_engine(f, \u001b[39mself\u001b[39;49m\u001b[39m.\u001b[39;49mengine)\n",
            "File \u001b[1;32m~\\AppData\\Local\\Packages\\PythonSoftwareFoundation.Python.3.10_qbz5n2kfra8p0\\LocalCache\\local-packages\\Python310\\site-packages\\pandas\\io\\parsers\\readers.py:1729\u001b[0m, in \u001b[0;36mTextFileReader._make_engine\u001b[1;34m(self, f, engine)\u001b[0m\n\u001b[0;32m   1727\u001b[0m     is_text \u001b[39m=\u001b[39m \u001b[39mFalse\u001b[39;00m\n\u001b[0;32m   1728\u001b[0m     mode \u001b[39m=\u001b[39m \u001b[39m\"\u001b[39m\u001b[39mrb\u001b[39m\u001b[39m\"\u001b[39m\n\u001b[1;32m-> 1729\u001b[0m \u001b[39mself\u001b[39m\u001b[39m.\u001b[39mhandles \u001b[39m=\u001b[39m get_handle(\n\u001b[0;32m   1730\u001b[0m     f,\n\u001b[0;32m   1731\u001b[0m     mode,\n\u001b[0;32m   1732\u001b[0m     encoding\u001b[39m=\u001b[39;49m\u001b[39mself\u001b[39;49m\u001b[39m.\u001b[39;49moptions\u001b[39m.\u001b[39;49mget(\u001b[39m\"\u001b[39;49m\u001b[39mencoding\u001b[39;49m\u001b[39m\"\u001b[39;49m, \u001b[39mNone\u001b[39;49;00m),\n\u001b[0;32m   1733\u001b[0m     compression\u001b[39m=\u001b[39;49m\u001b[39mself\u001b[39;49m\u001b[39m.\u001b[39;49moptions\u001b[39m.\u001b[39;49mget(\u001b[39m\"\u001b[39;49m\u001b[39mcompression\u001b[39;49m\u001b[39m\"\u001b[39;49m, \u001b[39mNone\u001b[39;49;00m),\n\u001b[0;32m   1734\u001b[0m     memory_map\u001b[39m=\u001b[39;49m\u001b[39mself\u001b[39;49m\u001b[39m.\u001b[39;49moptions\u001b[39m.\u001b[39;49mget(\u001b[39m\"\u001b[39;49m\u001b[39mmemory_map\u001b[39;49m\u001b[39m\"\u001b[39;49m, \u001b[39mFalse\u001b[39;49;00m),\n\u001b[0;32m   1735\u001b[0m     is_text\u001b[39m=\u001b[39;49mis_text,\n\u001b[0;32m   1736\u001b[0m     errors\u001b[39m=\u001b[39;49m\u001b[39mself\u001b[39;49m\u001b[39m.\u001b[39;49moptions\u001b[39m.\u001b[39;49mget(\u001b[39m\"\u001b[39;49m\u001b[39mencoding_errors\u001b[39;49m\u001b[39m\"\u001b[39;49m, \u001b[39m\"\u001b[39;49m\u001b[39mstrict\u001b[39;49m\u001b[39m\"\u001b[39;49m),\n\u001b[0;32m   1737\u001b[0m     storage_options\u001b[39m=\u001b[39;49m\u001b[39mself\u001b[39;49m\u001b[39m.\u001b[39;49moptions\u001b[39m.\u001b[39;49mget(\u001b[39m\"\u001b[39;49m\u001b[39mstorage_options\u001b[39;49m\u001b[39m\"\u001b[39;49m, \u001b[39mNone\u001b[39;49;00m),\n\u001b[0;32m   1738\u001b[0m )\n\u001b[0;32m   1739\u001b[0m \u001b[39massert\u001b[39;00m \u001b[39mself\u001b[39m\u001b[39m.\u001b[39mhandles \u001b[39mis\u001b[39;00m \u001b[39mnot\u001b[39;00m \u001b[39mNone\u001b[39;00m\n\u001b[0;32m   1740\u001b[0m f \u001b[39m=\u001b[39m \u001b[39mself\u001b[39m\u001b[39m.\u001b[39mhandles\u001b[39m.\u001b[39mhandle\n",
            "File \u001b[1;32m~\\AppData\\Local\\Packages\\PythonSoftwareFoundation.Python.3.10_qbz5n2kfra8p0\\LocalCache\\local-packages\\Python310\\site-packages\\pandas\\io\\common.py:857\u001b[0m, in \u001b[0;36mget_handle\u001b[1;34m(path_or_buf, mode, encoding, compression, memory_map, is_text, errors, storage_options)\u001b[0m\n\u001b[0;32m    852\u001b[0m \u001b[39melif\u001b[39;00m \u001b[39misinstance\u001b[39m(handle, \u001b[39mstr\u001b[39m):\n\u001b[0;32m    853\u001b[0m     \u001b[39m# Check whether the filename is to be opened in binary mode.\u001b[39;00m\n\u001b[0;32m    854\u001b[0m     \u001b[39m# Binary mode does not support 'encoding' and 'newline'.\u001b[39;00m\n\u001b[0;32m    855\u001b[0m     \u001b[39mif\u001b[39;00m ioargs\u001b[39m.\u001b[39mencoding \u001b[39mand\u001b[39;00m \u001b[39m\"\u001b[39m\u001b[39mb\u001b[39m\u001b[39m\"\u001b[39m \u001b[39mnot\u001b[39;00m \u001b[39min\u001b[39;00m ioargs\u001b[39m.\u001b[39mmode:\n\u001b[0;32m    856\u001b[0m         \u001b[39m# Encoding\u001b[39;00m\n\u001b[1;32m--> 857\u001b[0m         handle \u001b[39m=\u001b[39m \u001b[39mopen\u001b[39;49m(\n\u001b[0;32m    858\u001b[0m             handle,\n\u001b[0;32m    859\u001b[0m             ioargs\u001b[39m.\u001b[39;49mmode,\n\u001b[0;32m    860\u001b[0m             encoding\u001b[39m=\u001b[39;49mioargs\u001b[39m.\u001b[39;49mencoding,\n\u001b[0;32m    861\u001b[0m             errors\u001b[39m=\u001b[39;49merrors,\n\u001b[0;32m    862\u001b[0m             newline\u001b[39m=\u001b[39;49m\u001b[39m\"\u001b[39;49m\u001b[39m\"\u001b[39;49m,\n\u001b[0;32m    863\u001b[0m         )\n\u001b[0;32m    864\u001b[0m     \u001b[39melse\u001b[39;00m:\n\u001b[0;32m    865\u001b[0m         \u001b[39m# Binary mode\u001b[39;00m\n\u001b[0;32m    866\u001b[0m         handle \u001b[39m=\u001b[39m \u001b[39mopen\u001b[39m(handle, ioargs\u001b[39m.\u001b[39mmode)\n",
            "\u001b[1;31mFileNotFoundError\u001b[0m: [Errno 2] No such file or directory: 'C:\\\\Users\\\\aldabrow\\\\Desktop\\\\PowerBI Excercises\\\\INZ\\\\data\\\\archive\\\\movies_metadata.csv'"
          ]
        }
      ],
      "source": [
        "df_movie = pd.read_csv(path + \"movies_metadata.csv\",  engine='python' , encoding='utf8', error_bad_lines=False)\n",
        "df_movie.head()"
      ]
    },
    {
      "cell_type": "code",
      "execution_count": null,
      "metadata": {
        "colab": {
          "base_uri": "https://localhost:8080/",
          "height": 206
        },
        "id": "DocpI9hrbV8n",
        "outputId": "22da0a0e-45b5-4ce6-e04e-a58f0d1f43ce"
      },
      "outputs": [
        {
          "ename": "MemoryError",
          "evalue": "Unable to allocate 1.00 MiB for an array with shape (131072,) and data type int64",
          "output_type": "error",
          "traceback": [
            "\u001b[1;31m---------------------------------------------------------------------------\u001b[0m",
            "\u001b[1;31mMemoryError\u001b[0m                               Traceback (most recent call last)",
            "\u001b[1;32mc:\\Users\\aldabrow\\Desktop\\PowerBI Excercises\\INZ\\jupter_notebooks\\User_based_CF.ipynb Cell 8\u001b[0m line \u001b[0;36m1\n\u001b[1;32m----> <a href='vscode-notebook-cell:/c%3A/Users/aldabrow/Desktop/PowerBI%20Excercises/INZ/jupter_notebooks/User_based_CF.ipynb#W6sZmlsZQ%3D%3D?line=0'>1</a>\u001b[0m df_rating \u001b[39m=\u001b[39m pd\u001b[39m.\u001b[39;49mread_csv(path \u001b[39m+\u001b[39;49m \u001b[39m\"\u001b[39;49m\u001b[39mratings.csv\u001b[39;49m\u001b[39m\"\u001b[39;49m)\n\u001b[0;32m      <a href='vscode-notebook-cell:/c%3A/Users/aldabrow/Desktop/PowerBI%20Excercises/INZ/jupter_notebooks/User_based_CF.ipynb#W6sZmlsZQ%3D%3D?line=1'>2</a>\u001b[0m df_rating\u001b[39m.\u001b[39mhead()\n",
            "File \u001b[1;32mc:\\Users\\aldabrow\\AppData\\Local\\Programs\\Python\\Python310\\lib\\site-packages\\pandas\\util\\_decorators.py:311\u001b[0m, in \u001b[0;36mdeprecate_nonkeyword_arguments.<locals>.decorate.<locals>.wrapper\u001b[1;34m(*args, **kwargs)\u001b[0m\n\u001b[0;32m    305\u001b[0m \u001b[39mif\u001b[39;00m \u001b[39mlen\u001b[39m(args) \u001b[39m>\u001b[39m num_allow_args:\n\u001b[0;32m    306\u001b[0m     warnings\u001b[39m.\u001b[39mwarn(\n\u001b[0;32m    307\u001b[0m         msg\u001b[39m.\u001b[39mformat(arguments\u001b[39m=\u001b[39marguments),\n\u001b[0;32m    308\u001b[0m         \u001b[39mFutureWarning\u001b[39;00m,\n\u001b[0;32m    309\u001b[0m         stacklevel\u001b[39m=\u001b[39mstacklevel,\n\u001b[0;32m    310\u001b[0m     )\n\u001b[1;32m--> 311\u001b[0m \u001b[39mreturn\u001b[39;00m func(\u001b[39m*\u001b[39margs, \u001b[39m*\u001b[39m\u001b[39m*\u001b[39mkwargs)\n",
            "File \u001b[1;32mc:\\Users\\aldabrow\\AppData\\Local\\Programs\\Python\\Python310\\lib\\site-packages\\pandas\\io\\parsers\\readers.py:678\u001b[0m, in \u001b[0;36mread_csv\u001b[1;34m(filepath_or_buffer, sep, delimiter, header, names, index_col, usecols, squeeze, prefix, mangle_dupe_cols, dtype, engine, converters, true_values, false_values, skipinitialspace, skiprows, skipfooter, nrows, na_values, keep_default_na, na_filter, verbose, skip_blank_lines, parse_dates, infer_datetime_format, keep_date_col, date_parser, dayfirst, cache_dates, iterator, chunksize, compression, thousands, decimal, lineterminator, quotechar, quoting, doublequote, escapechar, comment, encoding, encoding_errors, dialect, error_bad_lines, warn_bad_lines, on_bad_lines, delim_whitespace, low_memory, memory_map, float_precision, storage_options)\u001b[0m\n\u001b[0;32m    663\u001b[0m kwds_defaults \u001b[39m=\u001b[39m _refine_defaults_read(\n\u001b[0;32m    664\u001b[0m     dialect,\n\u001b[0;32m    665\u001b[0m     delimiter,\n\u001b[1;32m   (...)\u001b[0m\n\u001b[0;32m    674\u001b[0m     defaults\u001b[39m=\u001b[39m{\u001b[39m\"\u001b[39m\u001b[39mdelimiter\u001b[39m\u001b[39m\"\u001b[39m: \u001b[39m\"\u001b[39m\u001b[39m,\u001b[39m\u001b[39m\"\u001b[39m},\n\u001b[0;32m    675\u001b[0m )\n\u001b[0;32m    676\u001b[0m kwds\u001b[39m.\u001b[39mupdate(kwds_defaults)\n\u001b[1;32m--> 678\u001b[0m \u001b[39mreturn\u001b[39;00m _read(filepath_or_buffer, kwds)\n",
            "File \u001b[1;32mc:\\Users\\aldabrow\\AppData\\Local\\Programs\\Python\\Python310\\lib\\site-packages\\pandas\\io\\parsers\\readers.py:581\u001b[0m, in \u001b[0;36m_read\u001b[1;34m(filepath_or_buffer, kwds)\u001b[0m\n\u001b[0;32m    578\u001b[0m     \u001b[39mreturn\u001b[39;00m parser\n\u001b[0;32m    580\u001b[0m \u001b[39mwith\u001b[39;00m parser:\n\u001b[1;32m--> 581\u001b[0m     \u001b[39mreturn\u001b[39;00m parser\u001b[39m.\u001b[39;49mread(nrows)\n",
            "File \u001b[1;32mc:\\Users\\aldabrow\\AppData\\Local\\Programs\\Python\\Python310\\lib\\site-packages\\pandas\\io\\parsers\\readers.py:1253\u001b[0m, in \u001b[0;36mTextFileReader.read\u001b[1;34m(self, nrows)\u001b[0m\n\u001b[0;32m   1251\u001b[0m nrows \u001b[39m=\u001b[39m validate_integer(\u001b[39m\"\u001b[39m\u001b[39mnrows\u001b[39m\u001b[39m\"\u001b[39m, nrows)\n\u001b[0;32m   1252\u001b[0m \u001b[39mtry\u001b[39;00m:\n\u001b[1;32m-> 1253\u001b[0m     index, columns, col_dict \u001b[39m=\u001b[39m \u001b[39mself\u001b[39;49m\u001b[39m.\u001b[39;49m_engine\u001b[39m.\u001b[39;49mread(nrows)\n\u001b[0;32m   1254\u001b[0m \u001b[39mexcept\u001b[39;00m \u001b[39mException\u001b[39;00m:\n\u001b[0;32m   1255\u001b[0m     \u001b[39mself\u001b[39m\u001b[39m.\u001b[39mclose()\n",
            "File \u001b[1;32mc:\\Users\\aldabrow\\AppData\\Local\\Programs\\Python\\Python310\\lib\\site-packages\\pandas\\io\\parsers\\c_parser_wrapper.py:225\u001b[0m, in \u001b[0;36mCParserWrapper.read\u001b[1;34m(self, nrows)\u001b[0m\n\u001b[0;32m    223\u001b[0m \u001b[39mtry\u001b[39;00m:\n\u001b[0;32m    224\u001b[0m     \u001b[39mif\u001b[39;00m \u001b[39mself\u001b[39m\u001b[39m.\u001b[39mlow_memory:\n\u001b[1;32m--> 225\u001b[0m         chunks \u001b[39m=\u001b[39m \u001b[39mself\u001b[39;49m\u001b[39m.\u001b[39;49m_reader\u001b[39m.\u001b[39;49mread_low_memory(nrows)\n\u001b[0;32m    226\u001b[0m         \u001b[39m# destructive to chunks\u001b[39;00m\n\u001b[0;32m    227\u001b[0m         data \u001b[39m=\u001b[39m _concatenate_chunks(chunks)\n",
            "File \u001b[1;32mc:\\Users\\aldabrow\\AppData\\Local\\Programs\\Python\\Python310\\lib\\site-packages\\pandas\\_libs\\parsers.pyx:805\u001b[0m, in \u001b[0;36mpandas._libs.parsers.TextReader.read_low_memory\u001b[1;34m()\u001b[0m\n",
            "File \u001b[1;32mc:\\Users\\aldabrow\\AppData\\Local\\Programs\\Python\\Python310\\lib\\site-packages\\pandas\\_libs\\parsers.pyx:883\u001b[0m, in \u001b[0;36mpandas._libs.parsers.TextReader._read_rows\u001b[1;34m()\u001b[0m\n",
            "File \u001b[1;32mc:\\Users\\aldabrow\\AppData\\Local\\Programs\\Python\\Python310\\lib\\site-packages\\pandas\\_libs\\parsers.pyx:1026\u001b[0m, in \u001b[0;36mpandas._libs.parsers.TextReader._convert_column_data\u001b[1;34m()\u001b[0m\n",
            "File \u001b[1;32mc:\\Users\\aldabrow\\AppData\\Local\\Programs\\Python\\Python310\\lib\\site-packages\\pandas\\_libs\\parsers.pyx:1072\u001b[0m, in \u001b[0;36mpandas._libs.parsers.TextReader._convert_tokens\u001b[1;34m()\u001b[0m\n",
            "File \u001b[1;32mc:\\Users\\aldabrow\\AppData\\Local\\Programs\\Python\\Python310\\lib\\site-packages\\pandas\\_libs\\parsers.pyx:1172\u001b[0m, in \u001b[0;36mpandas._libs.parsers.TextReader._convert_with_dtype\u001b[1;34m()\u001b[0m\n",
            "File \u001b[1;32mc:\\Users\\aldabrow\\AppData\\Local\\Programs\\Python\\Python310\\lib\\site-packages\\pandas\\_libs\\parsers.pyx:1731\u001b[0m, in \u001b[0;36mpandas._libs.parsers._try_int64\u001b[1;34m()\u001b[0m\n",
            "\u001b[1;31mMemoryError\u001b[0m: Unable to allocate 1.00 MiB for an array with shape (131072,) and data type int64"
          ]
        }
      ],
      "source": [
        "df_rating = pd.read_csv(path + \"ratings.csv\")\n",
        "df_rating.head()"
      ]
    },
    {
      "cell_type": "markdown",
      "metadata": {},
      "source": [
        "3. Transformacja i oczyszczenie danych"
      ]
    },
    {
      "cell_type": "code",
      "execution_count": null,
      "metadata": {
        "colab": {
          "base_uri": "https://localhost:8080/"
        },
        "id": "lltyEUmydwnU",
        "outputId": "86fee734-ba04-4b15-c254-2e0f08b53794"
      },
      "outputs": [
        {
          "data": {
            "text/plain": [
              "(45466, 2)"
            ]
          },
          "execution_count": 30,
          "metadata": {},
          "output_type": "execute_result"
        }
      ],
      "source": [
        "df_movie = df_movie[['id', 'title']]\n",
        "df_movie = df_movie.rename(columns={'id': 'movieId'})\n",
        "df_movie.shape"
      ]
    },
    {
      "cell_type": "code",
      "execution_count": null,
      "metadata": {},
      "outputs": [
        {
          "data": {
            "text/plain": [
              "(26024289, 3)"
            ]
          },
          "execution_count": 31,
          "metadata": {},
          "output_type": "execute_result"
        }
      ],
      "source": [
        "df_rating = df_rating.drop(columns=['timestamp'])\n",
        "df_rating.shape"
      ]
    },
    {
      "cell_type": "code",
      "execution_count": null,
      "metadata": {
        "colab": {
          "base_uri": "https://localhost:8080/",
          "height": 206
        },
        "id": "QlkmFvD9bV8n",
        "outputId": "a7ebbce5-eb41-48c8-fd24-adfe31878826"
      },
      "outputs": [
        {
          "data": {
            "text/html": [
              "<div>\n",
              "<style scoped>\n",
              "    .dataframe tbody tr th:only-of-type {\n",
              "        vertical-align: middle;\n",
              "    }\n",
              "\n",
              "    .dataframe tbody tr th {\n",
              "        vertical-align: top;\n",
              "    }\n",
              "\n",
              "    .dataframe thead th {\n",
              "        text-align: right;\n",
              "    }\n",
              "</style>\n",
              "<table border=\"1\" class=\"dataframe\">\n",
              "  <thead>\n",
              "    <tr style=\"text-align: right;\">\n",
              "      <th></th>\n",
              "      <th>movieId</th>\n",
              "      <th>title</th>\n",
              "      <th>userId</th>\n",
              "      <th>rating</th>\n",
              "    </tr>\n",
              "  </thead>\n",
              "  <tbody>\n",
              "    <tr>\n",
              "      <th>0</th>\n",
              "      <td>862.0</td>\n",
              "      <td>Toy Story</td>\n",
              "      <td>1923</td>\n",
              "      <td>3.0</td>\n",
              "    </tr>\n",
              "    <tr>\n",
              "      <th>1</th>\n",
              "      <td>862.0</td>\n",
              "      <td>Toy Story</td>\n",
              "      <td>2103</td>\n",
              "      <td>5.0</td>\n",
              "    </tr>\n",
              "    <tr>\n",
              "      <th>2</th>\n",
              "      <td>862.0</td>\n",
              "      <td>Toy Story</td>\n",
              "      <td>5380</td>\n",
              "      <td>1.0</td>\n",
              "    </tr>\n",
              "    <tr>\n",
              "      <th>3</th>\n",
              "      <td>862.0</td>\n",
              "      <td>Toy Story</td>\n",
              "      <td>6177</td>\n",
              "      <td>4.0</td>\n",
              "    </tr>\n",
              "    <tr>\n",
              "      <th>4</th>\n",
              "      <td>862.0</td>\n",
              "      <td>Toy Story</td>\n",
              "      <td>6525</td>\n",
              "      <td>4.0</td>\n",
              "    </tr>\n",
              "  </tbody>\n",
              "</table>\n",
              "</div>"
            ],
            "text/plain": [
              "   movieId      title  userId  rating\n",
              "0    862.0  Toy Story    1923     3.0\n",
              "1    862.0  Toy Story    2103     5.0\n",
              "2    862.0  Toy Story    5380     1.0\n",
              "3    862.0  Toy Story    6177     4.0\n",
              "4    862.0  Toy Story    6525     4.0"
            ]
          },
          "execution_count": 32,
          "metadata": {},
          "output_type": "execute_result"
        }
      ],
      "source": [
        "#convert the movieId column in the df_movie dataframe to numeric\n",
        "df_movie['movieId'] = pd.to_numeric(df_movie['movieId'], errors='coerce')\n",
        "\n",
        "#merge the two dataframes on the movieId column and id column\n",
        "df_movie_rating = pd.merge(df_movie, df_rating, on='movieId')\n",
        "df_movie_rating.head()"
      ]
    },
    {
      "cell_type": "code",
      "execution_count": null,
      "metadata": {
        "colab": {
          "base_uri": "https://localhost:8080/"
        },
        "id": "IZQ5vOAxbV8o",
        "outputId": "6f361180-f6e6-4d68-9534-a8e9f71265ba"
      },
      "outputs": [
        {
          "data": {
            "text/plain": [
              "(11437637, 4)"
            ]
          },
          "execution_count": 33,
          "metadata": {},
          "output_type": "execute_result"
        }
      ],
      "source": [
        "df_movie_rating.shape"
      ]
    },
    {
      "cell_type": "code",
      "execution_count": null,
      "metadata": {
        "colab": {
          "base_uri": "https://localhost:8080/"
        },
        "id": "IWCuprAHbV8p",
        "outputId": "27d64fe7-36be-4389-dcce-b5d79215d890"
      },
      "outputs": [
        {
          "data": {
            "text/plain": [
              "(11437637, 4)"
            ]
          },
          "execution_count": 34,
          "metadata": {},
          "output_type": "execute_result"
        }
      ],
      "source": [
        "#drop the rows with null values\n",
        "df_movie_rating = df_movie_rating.dropna()\n",
        "df_movie_rating.shape"
      ]
    },
    {
      "cell_type": "code",
      "execution_count": null,
      "metadata": {
        "colab": {
          "base_uri": "https://localhost:8080/",
          "height": 238
        },
        "id": "4BTU_5M3bV8q",
        "outputId": "02cff5c6-e411-457b-ac6d-48e7a7dfd36d"
      },
      "outputs": [
        {
          "data": {
            "text/html": [
              "<div>\n",
              "<style scoped>\n",
              "    .dataframe tbody tr th:only-of-type {\n",
              "        vertical-align: middle;\n",
              "    }\n",
              "\n",
              "    .dataframe tbody tr th {\n",
              "        vertical-align: top;\n",
              "    }\n",
              "\n",
              "    .dataframe thead th {\n",
              "        text-align: right;\n",
              "    }\n",
              "</style>\n",
              "<table border=\"1\" class=\"dataframe\">\n",
              "  <thead>\n",
              "    <tr style=\"text-align: right;\">\n",
              "      <th></th>\n",
              "      <th>totalUniqueUsers</th>\n",
              "      <th>totalMovieRating</th>\n",
              "      <th>avgUserRat</th>\n",
              "    </tr>\n",
              "    <tr>\n",
              "      <th>title</th>\n",
              "      <th></th>\n",
              "      <th></th>\n",
              "      <th></th>\n",
              "    </tr>\n",
              "  </thead>\n",
              "  <tbody>\n",
              "    <tr>\n",
              "      <th>The Million Dollar Hotel</th>\n",
              "      <td>91082</td>\n",
              "      <td>403403.5</td>\n",
              "      <td>4.429015</td>\n",
              "    </tr>\n",
              "    <tr>\n",
              "      <th>Terminator 3: Rise of the Machines</th>\n",
              "      <td>87901</td>\n",
              "      <td>366545.0</td>\n",
              "      <td>4.169975</td>\n",
              "    </tr>\n",
              "    <tr>\n",
              "      <th>Solaris</th>\n",
              "      <td>84318</td>\n",
              "      <td>349836.5</td>\n",
              "      <td>4.149013</td>\n",
              "    </tr>\n",
              "    <tr>\n",
              "      <th>The 39 Steps</th>\n",
              "      <td>77045</td>\n",
              "      <td>318373.0</td>\n",
              "      <td>4.132299</td>\n",
              "    </tr>\n",
              "    <tr>\n",
              "      <th>Once Were Warriors</th>\n",
              "      <td>67662</td>\n",
              "      <td>288682.0</td>\n",
              "      <td>4.266531</td>\n",
              "    </tr>\n",
              "  </tbody>\n",
              "</table>\n",
              "</div>"
            ],
            "text/plain": [
              "                                    totalUniqueUsers  totalMovieRating  \\\n",
              "title                                                                    \n",
              "The Million Dollar Hotel                       91082          403403.5   \n",
              "Terminator 3: Rise of the Machines             87901          366545.0   \n",
              "Solaris                                        84318          349836.5   \n",
              "The 39 Steps                                   77045          318373.0   \n",
              "Once Were Warriors                             67662          288682.0   \n",
              "\n",
              "                                    avgUserRat  \n",
              "title                                           \n",
              "The Million Dollar Hotel              4.429015  \n",
              "Terminator 3: Rise of the Machines    4.169975  \n",
              "Solaris                               4.149013  \n",
              "The 39 Steps                          4.132299  \n",
              "Once Were Warriors                    4.266531  "
            ]
          },
          "execution_count": 35,
          "metadata": {},
          "output_type": "execute_result"
        }
      ],
      "source": [
        "movie_rank = df_movie_rating.groupby(['title']) \\\n",
        "  .agg({'userId' : 'count', 'rating' : 'sum'}) \\\n",
        "  .rename(columns={\"userId\" : 'totalUniqueUsers', \"rating\" : \"totalMovieRating\"}) \\\n",
        "  .sort_values(['totalMovieRating'], ascending=False)\n",
        "\n",
        "movie_rank['avgUserRat'] = movie_rank['totalMovieRating'] / movie_rank['totalUniqueUsers']\n",
        "movie_rank.head()"
      ]
    },
    {
      "cell_type": "code",
      "execution_count": null,
      "metadata": {
        "colab": {
          "base_uri": "https://localhost:8080/",
          "height": 206
        },
        "id": "2-VV1htrbV8q",
        "outputId": "2e972ecd-5050-4001-e7a3-169c439bb24d"
      },
      "outputs": [
        {
          "ename": "MemoryError",
          "evalue": "Unable to allocate 87.3 MiB for an array with shape (11437637, 1) and data type float64",
          "output_type": "error",
          "traceback": [
            "\u001b[1;31m---------------------------------------------------------------------------\u001b[0m",
            "\u001b[1;31mMemoryError\u001b[0m                               Traceback (most recent call last)",
            "\u001b[1;32mc:\\Users\\aldabrow\\Desktop\\PowerBI Excercises\\INZ\\jupter_notebooks\\User_based_CF.ipynb Cell 16\u001b[0m line \u001b[0;36m1\n\u001b[1;32m----> <a href='vscode-notebook-cell:/c%3A/Users/aldabrow/Desktop/PowerBI%20Excercises/INZ/jupter_notebooks/User_based_CF.ipynb#X20sZmlsZQ%3D%3D?line=0'>1</a>\u001b[0m df_movie_rating \u001b[39m=\u001b[39m df_movie_rating\u001b[39m.\u001b[39;49mjoin(movie_rank, on\u001b[39m=\u001b[39;49m\u001b[39m'\u001b[39;49m\u001b[39mtitle\u001b[39;49m\u001b[39m'\u001b[39;49m, how\u001b[39m=\u001b[39;49m\u001b[39m'\u001b[39;49m\u001b[39minner\u001b[39;49m\u001b[39m'\u001b[39;49m) \\\n\u001b[0;32m      <a href='vscode-notebook-cell:/c%3A/Users/aldabrow/Desktop/PowerBI%20Excercises/INZ/jupter_notebooks/User_based_CF.ipynb#X20sZmlsZQ%3D%3D?line=1'>2</a>\u001b[0m     \u001b[39m.\u001b[39;49msort_values([\u001b[39m'\u001b[39;49m\u001b[39mrating\u001b[39;49m\u001b[39m'\u001b[39;49m], ascending\u001b[39m=\u001b[39;49m\u001b[39mFalse\u001b[39;49;00m)\n\u001b[0;32m      <a href='vscode-notebook-cell:/c%3A/Users/aldabrow/Desktop/PowerBI%20Excercises/INZ/jupter_notebooks/User_based_CF.ipynb#X20sZmlsZQ%3D%3D?line=2'>3</a>\u001b[0m df_movie_rating\u001b[39m.\u001b[39mhead()\n",
            "File \u001b[1;32mc:\\Users\\aldabrow\\AppData\\Local\\Programs\\Python\\Python310\\lib\\site-packages\\pandas\\util\\_decorators.py:311\u001b[0m, in \u001b[0;36mdeprecate_nonkeyword_arguments.<locals>.decorate.<locals>.wrapper\u001b[1;34m(*args, **kwargs)\u001b[0m\n\u001b[0;32m    305\u001b[0m \u001b[39mif\u001b[39;00m \u001b[39mlen\u001b[39m(args) \u001b[39m>\u001b[39m num_allow_args:\n\u001b[0;32m    306\u001b[0m     warnings\u001b[39m.\u001b[39mwarn(\n\u001b[0;32m    307\u001b[0m         msg\u001b[39m.\u001b[39mformat(arguments\u001b[39m=\u001b[39marguments),\n\u001b[0;32m    308\u001b[0m         \u001b[39mFutureWarning\u001b[39;00m,\n\u001b[0;32m    309\u001b[0m         stacklevel\u001b[39m=\u001b[39mstacklevel,\n\u001b[0;32m    310\u001b[0m     )\n\u001b[1;32m--> 311\u001b[0m \u001b[39mreturn\u001b[39;00m func(\u001b[39m*\u001b[39margs, \u001b[39m*\u001b[39m\u001b[39m*\u001b[39mkwargs)\n",
            "File \u001b[1;32mc:\\Users\\aldabrow\\AppData\\Local\\Programs\\Python\\Python310\\lib\\site-packages\\pandas\\core\\frame.py:6339\u001b[0m, in \u001b[0;36mDataFrame.sort_values\u001b[1;34m(self, by, axis, ascending, inplace, kind, na_position, ignore_index, key)\u001b[0m\n\u001b[0;32m   6336\u001b[0m \u001b[39melse\u001b[39;00m:\n\u001b[0;32m   6337\u001b[0m     \u001b[39mreturn\u001b[39;00m \u001b[39mself\u001b[39m\u001b[39m.\u001b[39mcopy()\n\u001b[1;32m-> 6339\u001b[0m new_data \u001b[39m=\u001b[39m \u001b[39mself\u001b[39;49m\u001b[39m.\u001b[39;49m_mgr\u001b[39m.\u001b[39;49mtake(\n\u001b[0;32m   6340\u001b[0m     indexer, axis\u001b[39m=\u001b[39;49m\u001b[39mself\u001b[39;49m\u001b[39m.\u001b[39;49m_get_block_manager_axis(axis), verify\u001b[39m=\u001b[39;49m\u001b[39mFalse\u001b[39;49;00m\n\u001b[0;32m   6341\u001b[0m )\n\u001b[0;32m   6343\u001b[0m \u001b[39mif\u001b[39;00m ignore_index:\n\u001b[0;32m   6344\u001b[0m     new_data\u001b[39m.\u001b[39mset_axis(\n\u001b[0;32m   6345\u001b[0m         \u001b[39mself\u001b[39m\u001b[39m.\u001b[39m_get_block_manager_axis(axis), default_index(\u001b[39mlen\u001b[39m(indexer))\n\u001b[0;32m   6346\u001b[0m     )\n",
            "File \u001b[1;32mc:\\Users\\aldabrow\\AppData\\Local\\Programs\\Python\\Python310\\lib\\site-packages\\pandas\\core\\internals\\managers.py:897\u001b[0m, in \u001b[0;36mBaseBlockManager.take\u001b[1;34m(self, indexer, axis, verify)\u001b[0m\n\u001b[0;32m    894\u001b[0m indexer \u001b[39m=\u001b[39m maybe_convert_indices(indexer, n, verify\u001b[39m=\u001b[39mverify)\n\u001b[0;32m    896\u001b[0m new_labels \u001b[39m=\u001b[39m \u001b[39mself\u001b[39m\u001b[39m.\u001b[39maxes[axis]\u001b[39m.\u001b[39mtake(indexer)\n\u001b[1;32m--> 897\u001b[0m \u001b[39mreturn\u001b[39;00m \u001b[39mself\u001b[39;49m\u001b[39m.\u001b[39;49mreindex_indexer(\n\u001b[0;32m    898\u001b[0m     new_axis\u001b[39m=\u001b[39;49mnew_labels,\n\u001b[0;32m    899\u001b[0m     indexer\u001b[39m=\u001b[39;49mindexer,\n\u001b[0;32m    900\u001b[0m     axis\u001b[39m=\u001b[39;49maxis,\n\u001b[0;32m    901\u001b[0m     allow_dups\u001b[39m=\u001b[39;49m\u001b[39mTrue\u001b[39;49;00m,\n\u001b[0;32m    902\u001b[0m     consolidate\u001b[39m=\u001b[39;49m\u001b[39mFalse\u001b[39;49;00m,\n\u001b[0;32m    903\u001b[0m )\n",
            "File \u001b[1;32mc:\\Users\\aldabrow\\AppData\\Local\\Programs\\Python\\Python310\\lib\\site-packages\\pandas\\core\\internals\\managers.py:689\u001b[0m, in \u001b[0;36mBaseBlockManager.reindex_indexer\u001b[1;34m(self, new_axis, indexer, axis, fill_value, allow_dups, copy, consolidate, only_slice, use_na_proxy)\u001b[0m\n\u001b[0;32m    682\u001b[0m     new_blocks \u001b[39m=\u001b[39m \u001b[39mself\u001b[39m\u001b[39m.\u001b[39m_slice_take_blocks_ax0(\n\u001b[0;32m    683\u001b[0m         indexer,\n\u001b[0;32m    684\u001b[0m         fill_value\u001b[39m=\u001b[39mfill_value,\n\u001b[0;32m    685\u001b[0m         only_slice\u001b[39m=\u001b[39monly_slice,\n\u001b[0;32m    686\u001b[0m         use_na_proxy\u001b[39m=\u001b[39muse_na_proxy,\n\u001b[0;32m    687\u001b[0m     )\n\u001b[0;32m    688\u001b[0m \u001b[39melse\u001b[39;00m:\n\u001b[1;32m--> 689\u001b[0m     new_blocks \u001b[39m=\u001b[39m [\n\u001b[0;32m    690\u001b[0m         blk\u001b[39m.\u001b[39mtake_nd(\n\u001b[0;32m    691\u001b[0m             indexer,\n\u001b[0;32m    692\u001b[0m             axis\u001b[39m=\u001b[39m\u001b[39m1\u001b[39m,\n\u001b[0;32m    693\u001b[0m             fill_value\u001b[39m=\u001b[39m(\n\u001b[0;32m    694\u001b[0m                 fill_value \u001b[39mif\u001b[39;00m fill_value \u001b[39mis\u001b[39;00m \u001b[39mnot\u001b[39;00m \u001b[39mNone\u001b[39;00m \u001b[39melse\u001b[39;00m blk\u001b[39m.\u001b[39mfill_value\n\u001b[0;32m    695\u001b[0m             ),\n\u001b[0;32m    696\u001b[0m         )\n\u001b[0;32m    697\u001b[0m         \u001b[39mfor\u001b[39;00m blk \u001b[39min\u001b[39;00m \u001b[39mself\u001b[39m\u001b[39m.\u001b[39mblocks\n\u001b[0;32m    698\u001b[0m     ]\n\u001b[0;32m    700\u001b[0m new_axes \u001b[39m=\u001b[39m \u001b[39mlist\u001b[39m(\u001b[39mself\u001b[39m\u001b[39m.\u001b[39maxes)\n\u001b[0;32m    701\u001b[0m new_axes[axis] \u001b[39m=\u001b[39m new_axis\n",
            "File \u001b[1;32mc:\\Users\\aldabrow\\AppData\\Local\\Programs\\Python\\Python310\\lib\\site-packages\\pandas\\core\\internals\\managers.py:690\u001b[0m, in \u001b[0;36m<listcomp>\u001b[1;34m(.0)\u001b[0m\n\u001b[0;32m    682\u001b[0m     new_blocks \u001b[39m=\u001b[39m \u001b[39mself\u001b[39m\u001b[39m.\u001b[39m_slice_take_blocks_ax0(\n\u001b[0;32m    683\u001b[0m         indexer,\n\u001b[0;32m    684\u001b[0m         fill_value\u001b[39m=\u001b[39mfill_value,\n\u001b[0;32m    685\u001b[0m         only_slice\u001b[39m=\u001b[39monly_slice,\n\u001b[0;32m    686\u001b[0m         use_na_proxy\u001b[39m=\u001b[39muse_na_proxy,\n\u001b[0;32m    687\u001b[0m     )\n\u001b[0;32m    688\u001b[0m \u001b[39melse\u001b[39;00m:\n\u001b[0;32m    689\u001b[0m     new_blocks \u001b[39m=\u001b[39m [\n\u001b[1;32m--> 690\u001b[0m         blk\u001b[39m.\u001b[39;49mtake_nd(\n\u001b[0;32m    691\u001b[0m             indexer,\n\u001b[0;32m    692\u001b[0m             axis\u001b[39m=\u001b[39;49m\u001b[39m1\u001b[39;49m,\n\u001b[0;32m    693\u001b[0m             fill_value\u001b[39m=\u001b[39;49m(\n\u001b[0;32m    694\u001b[0m                 fill_value \u001b[39mif\u001b[39;49;00m fill_value \u001b[39mis\u001b[39;49;00m \u001b[39mnot\u001b[39;49;00m \u001b[39mNone\u001b[39;49;00m \u001b[39melse\u001b[39;49;00m blk\u001b[39m.\u001b[39;49mfill_value\n\u001b[0;32m    695\u001b[0m             ),\n\u001b[0;32m    696\u001b[0m         )\n\u001b[0;32m    697\u001b[0m         \u001b[39mfor\u001b[39;00m blk \u001b[39min\u001b[39;00m \u001b[39mself\u001b[39m\u001b[39m.\u001b[39mblocks\n\u001b[0;32m    698\u001b[0m     ]\n\u001b[0;32m    700\u001b[0m new_axes \u001b[39m=\u001b[39m \u001b[39mlist\u001b[39m(\u001b[39mself\u001b[39m\u001b[39m.\u001b[39maxes)\n\u001b[0;32m    701\u001b[0m new_axes[axis] \u001b[39m=\u001b[39m new_axis\n",
            "File \u001b[1;32mc:\\Users\\aldabrow\\AppData\\Local\\Programs\\Python\\Python310\\lib\\site-packages\\pandas\\core\\internals\\blocks.py:1139\u001b[0m, in \u001b[0;36mBlock.take_nd\u001b[1;34m(self, indexer, axis, new_mgr_locs, fill_value)\u001b[0m\n\u001b[0;32m   1136\u001b[0m \u001b[39melse\u001b[39;00m:\n\u001b[0;32m   1137\u001b[0m     allow_fill \u001b[39m=\u001b[39m \u001b[39mTrue\u001b[39;00m\n\u001b[1;32m-> 1139\u001b[0m new_values \u001b[39m=\u001b[39m algos\u001b[39m.\u001b[39;49mtake_nd(\n\u001b[0;32m   1140\u001b[0m     values, indexer, axis\u001b[39m=\u001b[39;49maxis, allow_fill\u001b[39m=\u001b[39;49mallow_fill, fill_value\u001b[39m=\u001b[39;49mfill_value\n\u001b[0;32m   1141\u001b[0m )\n\u001b[0;32m   1143\u001b[0m \u001b[39m# Called from three places in managers, all of which satisfy\u001b[39;00m\n\u001b[0;32m   1144\u001b[0m \u001b[39m#  this assertion\u001b[39;00m\n\u001b[0;32m   1145\u001b[0m \u001b[39massert\u001b[39;00m \u001b[39mnot\u001b[39;00m (axis \u001b[39m==\u001b[39m \u001b[39m0\u001b[39m \u001b[39mand\u001b[39;00m new_mgr_locs \u001b[39mis\u001b[39;00m \u001b[39mNone\u001b[39;00m)\n",
            "File \u001b[1;32mc:\\Users\\aldabrow\\AppData\\Local\\Programs\\Python\\Python310\\lib\\site-packages\\pandas\\core\\array_algos\\take.py:117\u001b[0m, in \u001b[0;36mtake_nd\u001b[1;34m(arr, indexer, axis, fill_value, allow_fill)\u001b[0m\n\u001b[0;32m    114\u001b[0m     \u001b[39mreturn\u001b[39;00m arr\u001b[39m.\u001b[39mtake(indexer, fill_value\u001b[39m=\u001b[39mfill_value, allow_fill\u001b[39m=\u001b[39mallow_fill)\n\u001b[0;32m    116\u001b[0m arr \u001b[39m=\u001b[39m np\u001b[39m.\u001b[39masarray(arr)\n\u001b[1;32m--> 117\u001b[0m \u001b[39mreturn\u001b[39;00m _take_nd_ndarray(arr, indexer, axis, fill_value, allow_fill)\n",
            "File \u001b[1;32mc:\\Users\\aldabrow\\AppData\\Local\\Programs\\Python\\Python310\\lib\\site-packages\\pandas\\core\\array_algos\\take.py:158\u001b[0m, in \u001b[0;36m_take_nd_ndarray\u001b[1;34m(arr, indexer, axis, fill_value, allow_fill)\u001b[0m\n\u001b[0;32m    156\u001b[0m     out \u001b[39m=\u001b[39m np\u001b[39m.\u001b[39mempty(out_shape, dtype\u001b[39m=\u001b[39mdtype, order\u001b[39m=\u001b[39m\u001b[39m\"\u001b[39m\u001b[39mF\u001b[39m\u001b[39m\"\u001b[39m)\n\u001b[0;32m    157\u001b[0m \u001b[39melse\u001b[39;00m:\n\u001b[1;32m--> 158\u001b[0m     out \u001b[39m=\u001b[39m np\u001b[39m.\u001b[39;49mempty(out_shape, dtype\u001b[39m=\u001b[39;49mdtype)\n\u001b[0;32m    160\u001b[0m func \u001b[39m=\u001b[39m _get_take_nd_function(\n\u001b[0;32m    161\u001b[0m     arr\u001b[39m.\u001b[39mndim, arr\u001b[39m.\u001b[39mdtype, out\u001b[39m.\u001b[39mdtype, axis\u001b[39m=\u001b[39maxis, mask_info\u001b[39m=\u001b[39mmask_info\n\u001b[0;32m    162\u001b[0m )\n\u001b[0;32m    163\u001b[0m func(arr, indexer, out, fill_value)\n",
            "\u001b[1;31mMemoryError\u001b[0m: Unable to allocate 87.3 MiB for an array with shape (11437637, 1) and data type float64"
          ]
        }
      ],
      "source": [
        "df_movie_rating = df_movie_rating.join(movie_rank, on='title', how='inner') \\\n",
        "    .sort_values(['rating'], ascending=False)\n",
        "df_movie_rating.head()"
      ]
    },
    {
      "cell_type": "markdown",
      "metadata": {},
      "source": [
        "Zmniejszenie zbioru danych o użytkowników którzy ocenili mniej niż 50 filmów i filmów ktore zostały ocenione mniej niż 100 razy"
      ]
    },
    {
      "cell_type": "code",
      "execution_count": null,
      "metadata": {
        "colab": {
          "base_uri": "https://localhost:8080/"
        },
        "id": "K_OAsBX1bV8r",
        "outputId": "7358fd42-c11c-4ac2-ebb3-776e4d882ad7"
      },
      "outputs": [
        {
          "data": {
            "text/plain": [
              "(8268572, 7)"
            ]
          },
          "execution_count": 14,
          "metadata": {},
          "output_type": "execute_result"
        }
      ],
      "source": [
        "#smaller dataset by users who have rated a minimum number of movies \n",
        "filtered_users = df_movie_rating['userId'].value_counts()\n",
        "filtered_users = filtered_users[filtered_users >= 50].index\n",
        "df_movie_rating = df_movie_rating[df_movie_rating['userId'].isin(filtered_users)]\n",
        "\n",
        "filtered_movies = df_movie_rating['movieId'].value_counts()\n",
        "filtered_movies = filtered_movies[filtered_movies >= 100].index\n",
        "df_movie_rating = df_movie_rating[df_movie_rating['movieId'].isin(filtered_movies)]\n",
        "df_movie_rating.shape"
      ]
    },
    {
      "cell_type": "markdown",
      "metadata": {},
      "source": [
        "Normalizacja ratingu do przedzialu [0,1]"
      ]
    },
    {
      "cell_type": "code",
      "execution_count": null,
      "metadata": {
        "colab": {
          "base_uri": "https://localhost:8080/",
          "height": 206
        },
        "id": "Ubg4jOPKbV8r",
        "outputId": "34217a72-cc20-4017-8e5d-b33f00cb060c"
      },
      "outputs": [
        {
          "data": {
            "text/html": [
              "<div>\n",
              "<style scoped>\n",
              "    .dataframe tbody tr th:only-of-type {\n",
              "        vertical-align: middle;\n",
              "    }\n",
              "\n",
              "    .dataframe tbody tr th {\n",
              "        vertical-align: top;\n",
              "    }\n",
              "\n",
              "    .dataframe thead th {\n",
              "        text-align: right;\n",
              "    }\n",
              "</style>\n",
              "<table border=\"1\" class=\"dataframe\">\n",
              "  <thead>\n",
              "    <tr style=\"text-align: right;\">\n",
              "      <th></th>\n",
              "      <th>movieId</th>\n",
              "      <th>title</th>\n",
              "      <th>userId</th>\n",
              "      <th>rating</th>\n",
              "      <th>totalUniqueUsers</th>\n",
              "      <th>totalMovieRating</th>\n",
              "      <th>avgUserRat</th>\n",
              "      <th>normalized_rating</th>\n",
              "    </tr>\n",
              "  </thead>\n",
              "  <tbody>\n",
              "    <tr>\n",
              "      <th>5812604</th>\n",
              "      <td>153.0</td>\n",
              "      <td>Lost in Translation</td>\n",
              "      <td>238314</td>\n",
              "      <td>5.0</td>\n",
              "      <td>38187</td>\n",
              "      <td>110989.5</td>\n",
              "      <td>2.906473</td>\n",
              "      <td>1.0</td>\n",
              "    </tr>\n",
              "    <tr>\n",
              "      <th>1736891</th>\n",
              "      <td>2058.0</td>\n",
              "      <td>Addicted to Love</td>\n",
              "      <td>177528</td>\n",
              "      <td>5.0</td>\n",
              "      <td>10200</td>\n",
              "      <td>36550.5</td>\n",
              "      <td>3.583382</td>\n",
              "      <td>1.0</td>\n",
              "    </tr>\n",
              "    <tr>\n",
              "      <th>6067332</th>\n",
              "      <td>2297.0</td>\n",
              "      <td>Kafka</td>\n",
              "      <td>11336</td>\n",
              "      <td>5.0</td>\n",
              "      <td>4842</td>\n",
              "      <td>16047.5</td>\n",
              "      <td>3.314230</td>\n",
              "      <td>1.0</td>\n",
              "    </tr>\n",
              "    <tr>\n",
              "      <th>6067333</th>\n",
              "      <td>2297.0</td>\n",
              "      <td>Kafka</td>\n",
              "      <td>11379</td>\n",
              "      <td>5.0</td>\n",
              "      <td>4842</td>\n",
              "      <td>16047.5</td>\n",
              "      <td>3.314230</td>\n",
              "      <td>1.0</td>\n",
              "    </tr>\n",
              "    <tr>\n",
              "      <th>6067334</th>\n",
              "      <td>2297.0</td>\n",
              "      <td>Kafka</td>\n",
              "      <td>11443</td>\n",
              "      <td>5.0</td>\n",
              "      <td>4842</td>\n",
              "      <td>16047.5</td>\n",
              "      <td>3.314230</td>\n",
              "      <td>1.0</td>\n",
              "    </tr>\n",
              "  </tbody>\n",
              "</table>\n",
              "</div>"
            ],
            "text/plain": [
              "         movieId                title  userId  rating  totalUniqueUsers  \\\n",
              "5812604    153.0  Lost in Translation  238314     5.0             38187   \n",
              "1736891   2058.0     Addicted to Love  177528     5.0             10200   \n",
              "6067332   2297.0                Kafka   11336     5.0              4842   \n",
              "6067333   2297.0                Kafka   11379     5.0              4842   \n",
              "6067334   2297.0                Kafka   11443     5.0              4842   \n",
              "\n",
              "         totalMovieRating  avgUserRat  normalized_rating  \n",
              "5812604          110989.5    2.906473                1.0  \n",
              "1736891           36550.5    3.583382                1.0  \n",
              "6067332           16047.5    3.314230                1.0  \n",
              "6067333           16047.5    3.314230                1.0  \n",
              "6067334           16047.5    3.314230                1.0  "
            ]
          },
          "execution_count": 15,
          "metadata": {},
          "output_type": "execute_result"
        }
      ],
      "source": [
        "#scale the rating column to be between 0 and 1\n",
        "min_rating = df_movie_rating['rating'].min()\n",
        "max_rating = df_movie_rating['rating'].max()\n",
        "\n",
        "# Normalize ratings to the range [0, 1]\n",
        "df_movie_rating['normalized_rating'] = (df_movie_rating['rating'] - min_rating) / (max_rating - min_rating)\n",
        "df_movie_rating.head()"
      ]
    },
    {
      "cell_type": "markdown",
      "metadata": {},
      "source": [
        "5. Tabela przestawna user-item"
      ]
    },
    {
      "cell_type": "code",
      "execution_count": null,
      "metadata": {
        "colab": {
          "base_uri": "https://localhost:8080/",
          "height": 284
        },
        "id": "a4Z88dl2bV8s",
        "outputId": "8a377478-b298-46c0-b788-6b3ff10b30b6"
      },
      "outputs": [
        {
          "data": {
            "text/html": [
              "<div>\n",
              "<style scoped>\n",
              "    .dataframe tbody tr th:only-of-type {\n",
              "        vertical-align: middle;\n",
              "    }\n",
              "\n",
              "    .dataframe tbody tr th {\n",
              "        vertical-align: top;\n",
              "    }\n",
              "\n",
              "    .dataframe thead th {\n",
              "        text-align: right;\n",
              "    }\n",
              "</style>\n",
              "<table border=\"1\" class=\"dataframe\">\n",
              "  <thead>\n",
              "    <tr style=\"text-align: right;\">\n",
              "      <th>title</th>\n",
              "      <th>!Women Art Revolution</th>\n",
              "      <th>$5 a Day</th>\n",
              "      <th>'Gator Bait</th>\n",
              "      <th>'Twas the Night Before Christmas</th>\n",
              "      <th>...And the Pursuit of Happiness</th>\n",
              "      <th>10 Items or Less</th>\n",
              "      <th>10 Things I Hate About You</th>\n",
              "      <th>10,000 BC</th>\n",
              "      <th>11'09''01 - September 11</th>\n",
              "      <th>12 Angry Men</th>\n",
              "      <th>...</th>\n",
              "      <th>Zombie Flesh Eaters</th>\n",
              "      <th>Zombie Holocaust</th>\n",
              "      <th>Zozo</th>\n",
              "      <th>eXistenZ</th>\n",
              "      <th>xXx</th>\n",
              "      <th>¡A volar joven!</th>\n",
              "      <th>À nos amours</th>\n",
              "      <th>Ödipussi</th>\n",
              "      <th>Şaban Oğlu Şaban</th>\n",
              "      <th>Šíleně smutná princezna</th>\n",
              "    </tr>\n",
              "    <tr>\n",
              "      <th>userId</th>\n",
              "      <th></th>\n",
              "      <th></th>\n",
              "      <th></th>\n",
              "      <th></th>\n",
              "      <th></th>\n",
              "      <th></th>\n",
              "      <th></th>\n",
              "      <th></th>\n",
              "      <th></th>\n",
              "      <th></th>\n",
              "      <th></th>\n",
              "      <th></th>\n",
              "      <th></th>\n",
              "      <th></th>\n",
              "      <th></th>\n",
              "      <th></th>\n",
              "      <th></th>\n",
              "      <th></th>\n",
              "      <th></th>\n",
              "      <th></th>\n",
              "      <th></th>\n",
              "    </tr>\n",
              "  </thead>\n",
              "  <tbody>\n",
              "    <tr>\n",
              "      <th>8</th>\n",
              "      <td>NaN</td>\n",
              "      <td>NaN</td>\n",
              "      <td>NaN</td>\n",
              "      <td>NaN</td>\n",
              "      <td>NaN</td>\n",
              "      <td>NaN</td>\n",
              "      <td>NaN</td>\n",
              "      <td>NaN</td>\n",
              "      <td>NaN</td>\n",
              "      <td>NaN</td>\n",
              "      <td>...</td>\n",
              "      <td>NaN</td>\n",
              "      <td>NaN</td>\n",
              "      <td>NaN</td>\n",
              "      <td>NaN</td>\n",
              "      <td>NaN</td>\n",
              "      <td>NaN</td>\n",
              "      <td>NaN</td>\n",
              "      <td>NaN</td>\n",
              "      <td>NaN</td>\n",
              "      <td>NaN</td>\n",
              "    </tr>\n",
              "    <tr>\n",
              "      <th>11</th>\n",
              "      <td>NaN</td>\n",
              "      <td>NaN</td>\n",
              "      <td>NaN</td>\n",
              "      <td>NaN</td>\n",
              "      <td>NaN</td>\n",
              "      <td>NaN</td>\n",
              "      <td>NaN</td>\n",
              "      <td>NaN</td>\n",
              "      <td>NaN</td>\n",
              "      <td>NaN</td>\n",
              "      <td>...</td>\n",
              "      <td>NaN</td>\n",
              "      <td>NaN</td>\n",
              "      <td>NaN</td>\n",
              "      <td>NaN</td>\n",
              "      <td>NaN</td>\n",
              "      <td>NaN</td>\n",
              "      <td>NaN</td>\n",
              "      <td>NaN</td>\n",
              "      <td>NaN</td>\n",
              "      <td>NaN</td>\n",
              "    </tr>\n",
              "    <tr>\n",
              "      <th>12</th>\n",
              "      <td>NaN</td>\n",
              "      <td>NaN</td>\n",
              "      <td>NaN</td>\n",
              "      <td>NaN</td>\n",
              "      <td>NaN</td>\n",
              "      <td>NaN</td>\n",
              "      <td>NaN</td>\n",
              "      <td>NaN</td>\n",
              "      <td>NaN</td>\n",
              "      <td>NaN</td>\n",
              "      <td>...</td>\n",
              "      <td>NaN</td>\n",
              "      <td>NaN</td>\n",
              "      <td>NaN</td>\n",
              "      <td>NaN</td>\n",
              "      <td>NaN</td>\n",
              "      <td>NaN</td>\n",
              "      <td>NaN</td>\n",
              "      <td>NaN</td>\n",
              "      <td>NaN</td>\n",
              "      <td>NaN</td>\n",
              "    </tr>\n",
              "    <tr>\n",
              "      <th>15</th>\n",
              "      <td>NaN</td>\n",
              "      <td>NaN</td>\n",
              "      <td>NaN</td>\n",
              "      <td>NaN</td>\n",
              "      <td>NaN</td>\n",
              "      <td>NaN</td>\n",
              "      <td>NaN</td>\n",
              "      <td>NaN</td>\n",
              "      <td>NaN</td>\n",
              "      <td>NaN</td>\n",
              "      <td>...</td>\n",
              "      <td>NaN</td>\n",
              "      <td>NaN</td>\n",
              "      <td>NaN</td>\n",
              "      <td>NaN</td>\n",
              "      <td>NaN</td>\n",
              "      <td>NaN</td>\n",
              "      <td>NaN</td>\n",
              "      <td>NaN</td>\n",
              "      <td>NaN</td>\n",
              "      <td>NaN</td>\n",
              "    </tr>\n",
              "    <tr>\n",
              "      <th>16</th>\n",
              "      <td>NaN</td>\n",
              "      <td>NaN</td>\n",
              "      <td>NaN</td>\n",
              "      <td>NaN</td>\n",
              "      <td>NaN</td>\n",
              "      <td>NaN</td>\n",
              "      <td>NaN</td>\n",
              "      <td>NaN</td>\n",
              "      <td>NaN</td>\n",
              "      <td>NaN</td>\n",
              "      <td>...</td>\n",
              "      <td>NaN</td>\n",
              "      <td>NaN</td>\n",
              "      <td>NaN</td>\n",
              "      <td>NaN</td>\n",
              "      <td>NaN</td>\n",
              "      <td>NaN</td>\n",
              "      <td>NaN</td>\n",
              "      <td>NaN</td>\n",
              "      <td>NaN</td>\n",
              "      <td>NaN</td>\n",
              "    </tr>\n",
              "  </tbody>\n",
              "</table>\n",
              "<p>5 rows × 2924 columns</p>\n",
              "</div>"
            ],
            "text/plain": [
              "title   !Women Art Revolution  $5 a Day  'Gator Bait  \\\n",
              "userId                                                 \n",
              "8                         NaN       NaN          NaN   \n",
              "11                        NaN       NaN          NaN   \n",
              "12                        NaN       NaN          NaN   \n",
              "15                        NaN       NaN          NaN   \n",
              "16                        NaN       NaN          NaN   \n",
              "\n",
              "title   'Twas the Night Before Christmas  ...And the Pursuit of Happiness  \\\n",
              "userId                                                                      \n",
              "8                                    NaN                              NaN   \n",
              "11                                   NaN                              NaN   \n",
              "12                                   NaN                              NaN   \n",
              "15                                   NaN                              NaN   \n",
              "16                                   NaN                              NaN   \n",
              "\n",
              "title   10 Items or Less  10 Things I Hate About You  10,000 BC  \\\n",
              "userId                                                            \n",
              "8                    NaN                         NaN        NaN   \n",
              "11                   NaN                         NaN        NaN   \n",
              "12                   NaN                         NaN        NaN   \n",
              "15                   NaN                         NaN        NaN   \n",
              "16                   NaN                         NaN        NaN   \n",
              "\n",
              "title   11'09''01 - September 11  12 Angry Men  ...  Zombie Flesh Eaters  \\\n",
              "userId                                          ...                        \n",
              "8                            NaN           NaN  ...                  NaN   \n",
              "11                           NaN           NaN  ...                  NaN   \n",
              "12                           NaN           NaN  ...                  NaN   \n",
              "15                           NaN           NaN  ...                  NaN   \n",
              "16                           NaN           NaN  ...                  NaN   \n",
              "\n",
              "title   Zombie Holocaust  Zozo  eXistenZ  xXx  ¡A volar joven!  À nos amours  \\\n",
              "userId                                                                         \n",
              "8                    NaN   NaN       NaN  NaN              NaN           NaN   \n",
              "11                   NaN   NaN       NaN  NaN              NaN           NaN   \n",
              "12                   NaN   NaN       NaN  NaN              NaN           NaN   \n",
              "15                   NaN   NaN       NaN  NaN              NaN           NaN   \n",
              "16                   NaN   NaN       NaN  NaN              NaN           NaN   \n",
              "\n",
              "title   Ödipussi  Şaban Oğlu Şaban  Šíleně smutná princezna  \n",
              "userId                                                       \n",
              "8            NaN               NaN                      NaN  \n",
              "11           NaN               NaN                      NaN  \n",
              "12           NaN               NaN                      NaN  \n",
              "15           NaN               NaN                      NaN  \n",
              "16           NaN               NaN                      NaN  \n",
              "\n",
              "[5 rows x 2924 columns]"
            ]
          },
          "execution_count": 16,
          "metadata": {},
          "output_type": "execute_result"
        }
      ],
      "source": [
        "#pivot the dataframe to get the movie titles as the columns and the userId as the rows and the ratings as the values\n",
        "df_movie_rating_pivot = df_movie_rating.pivot_table(index='userId', columns='title', values='normalized_rating')\n",
        "df_movie_rating_pivot.head()"
      ]
    },
    {
      "cell_type": "code",
      "execution_count": null,
      "metadata": {
        "colab": {
          "base_uri": "https://localhost:8080/"
        },
        "id": "dP8S7DWqbV8s",
        "outputId": "2bded637-772e-417f-8cb2-efc3797b0685"
      },
      "outputs": [
        {
          "data": {
            "text/plain": [
              "(61472, 2924)"
            ]
          },
          "execution_count": 17,
          "metadata": {},
          "output_type": "execute_result"
        }
      ],
      "source": [
        "df_movie_rating_pivot.shape"
      ]
    },
    {
      "cell_type": "code",
      "execution_count": null,
      "metadata": {
        "colab": {
          "base_uri": "https://localhost:8080/",
          "height": 284
        },
        "id": "zRlMaFFnbV8s",
        "outputId": "3dceab0d-9197-4296-bc18-c58b38b7bc71"
      },
      "outputs": [
        {
          "data": {
            "text/html": [
              "<div>\n",
              "<style scoped>\n",
              "    .dataframe tbody tr th:only-of-type {\n",
              "        vertical-align: middle;\n",
              "    }\n",
              "\n",
              "    .dataframe tbody tr th {\n",
              "        vertical-align: top;\n",
              "    }\n",
              "\n",
              "    .dataframe thead th {\n",
              "        text-align: right;\n",
              "    }\n",
              "</style>\n",
              "<table border=\"1\" class=\"dataframe\">\n",
              "  <thead>\n",
              "    <tr style=\"text-align: right;\">\n",
              "      <th>title</th>\n",
              "      <th>!Women Art Revolution</th>\n",
              "      <th>$5 a Day</th>\n",
              "      <th>'Gator Bait</th>\n",
              "      <th>'Twas the Night Before Christmas</th>\n",
              "      <th>...And the Pursuit of Happiness</th>\n",
              "      <th>10 Items or Less</th>\n",
              "      <th>10 Things I Hate About You</th>\n",
              "      <th>10,000 BC</th>\n",
              "      <th>11'09''01 - September 11</th>\n",
              "      <th>12 Angry Men</th>\n",
              "      <th>...</th>\n",
              "      <th>Zombie Flesh Eaters</th>\n",
              "      <th>Zombie Holocaust</th>\n",
              "      <th>Zozo</th>\n",
              "      <th>eXistenZ</th>\n",
              "      <th>xXx</th>\n",
              "      <th>¡A volar joven!</th>\n",
              "      <th>À nos amours</th>\n",
              "      <th>Ödipussi</th>\n",
              "      <th>Şaban Oğlu Şaban</th>\n",
              "      <th>Šíleně smutná princezna</th>\n",
              "    </tr>\n",
              "    <tr>\n",
              "      <th>userId</th>\n",
              "      <th></th>\n",
              "      <th></th>\n",
              "      <th></th>\n",
              "      <th></th>\n",
              "      <th></th>\n",
              "      <th></th>\n",
              "      <th></th>\n",
              "      <th></th>\n",
              "      <th></th>\n",
              "      <th></th>\n",
              "      <th></th>\n",
              "      <th></th>\n",
              "      <th></th>\n",
              "      <th></th>\n",
              "      <th></th>\n",
              "      <th></th>\n",
              "      <th></th>\n",
              "      <th></th>\n",
              "      <th></th>\n",
              "      <th></th>\n",
              "      <th></th>\n",
              "    </tr>\n",
              "  </thead>\n",
              "  <tbody>\n",
              "    <tr>\n",
              "      <th>8</th>\n",
              "      <td>0.0</td>\n",
              "      <td>0.0</td>\n",
              "      <td>0.0</td>\n",
              "      <td>0.0</td>\n",
              "      <td>0.0</td>\n",
              "      <td>0.0</td>\n",
              "      <td>0.0</td>\n",
              "      <td>0.0</td>\n",
              "      <td>0.0</td>\n",
              "      <td>0.0</td>\n",
              "      <td>...</td>\n",
              "      <td>0.0</td>\n",
              "      <td>0.0</td>\n",
              "      <td>0.0</td>\n",
              "      <td>0.0</td>\n",
              "      <td>0.0</td>\n",
              "      <td>0.0</td>\n",
              "      <td>0.0</td>\n",
              "      <td>0.0</td>\n",
              "      <td>0.0</td>\n",
              "      <td>0.0</td>\n",
              "    </tr>\n",
              "    <tr>\n",
              "      <th>11</th>\n",
              "      <td>0.0</td>\n",
              "      <td>0.0</td>\n",
              "      <td>0.0</td>\n",
              "      <td>0.0</td>\n",
              "      <td>0.0</td>\n",
              "      <td>0.0</td>\n",
              "      <td>0.0</td>\n",
              "      <td>0.0</td>\n",
              "      <td>0.0</td>\n",
              "      <td>0.0</td>\n",
              "      <td>...</td>\n",
              "      <td>0.0</td>\n",
              "      <td>0.0</td>\n",
              "      <td>0.0</td>\n",
              "      <td>0.0</td>\n",
              "      <td>0.0</td>\n",
              "      <td>0.0</td>\n",
              "      <td>0.0</td>\n",
              "      <td>0.0</td>\n",
              "      <td>0.0</td>\n",
              "      <td>0.0</td>\n",
              "    </tr>\n",
              "    <tr>\n",
              "      <th>12</th>\n",
              "      <td>0.0</td>\n",
              "      <td>0.0</td>\n",
              "      <td>0.0</td>\n",
              "      <td>0.0</td>\n",
              "      <td>0.0</td>\n",
              "      <td>0.0</td>\n",
              "      <td>0.0</td>\n",
              "      <td>0.0</td>\n",
              "      <td>0.0</td>\n",
              "      <td>0.0</td>\n",
              "      <td>...</td>\n",
              "      <td>0.0</td>\n",
              "      <td>0.0</td>\n",
              "      <td>0.0</td>\n",
              "      <td>0.0</td>\n",
              "      <td>0.0</td>\n",
              "      <td>0.0</td>\n",
              "      <td>0.0</td>\n",
              "      <td>0.0</td>\n",
              "      <td>0.0</td>\n",
              "      <td>0.0</td>\n",
              "    </tr>\n",
              "    <tr>\n",
              "      <th>15</th>\n",
              "      <td>0.0</td>\n",
              "      <td>0.0</td>\n",
              "      <td>0.0</td>\n",
              "      <td>0.0</td>\n",
              "      <td>0.0</td>\n",
              "      <td>0.0</td>\n",
              "      <td>0.0</td>\n",
              "      <td>0.0</td>\n",
              "      <td>0.0</td>\n",
              "      <td>0.0</td>\n",
              "      <td>...</td>\n",
              "      <td>0.0</td>\n",
              "      <td>0.0</td>\n",
              "      <td>0.0</td>\n",
              "      <td>0.0</td>\n",
              "      <td>0.0</td>\n",
              "      <td>0.0</td>\n",
              "      <td>0.0</td>\n",
              "      <td>0.0</td>\n",
              "      <td>0.0</td>\n",
              "      <td>0.0</td>\n",
              "    </tr>\n",
              "    <tr>\n",
              "      <th>16</th>\n",
              "      <td>0.0</td>\n",
              "      <td>0.0</td>\n",
              "      <td>0.0</td>\n",
              "      <td>0.0</td>\n",
              "      <td>0.0</td>\n",
              "      <td>0.0</td>\n",
              "      <td>0.0</td>\n",
              "      <td>0.0</td>\n",
              "      <td>0.0</td>\n",
              "      <td>0.0</td>\n",
              "      <td>...</td>\n",
              "      <td>0.0</td>\n",
              "      <td>0.0</td>\n",
              "      <td>0.0</td>\n",
              "      <td>0.0</td>\n",
              "      <td>0.0</td>\n",
              "      <td>0.0</td>\n",
              "      <td>0.0</td>\n",
              "      <td>0.0</td>\n",
              "      <td>0.0</td>\n",
              "      <td>0.0</td>\n",
              "    </tr>\n",
              "  </tbody>\n",
              "</table>\n",
              "<p>5 rows × 2924 columns</p>\n",
              "</div>"
            ],
            "text/plain": [
              "title   !Women Art Revolution  $5 a Day  'Gator Bait  \\\n",
              "userId                                                 \n",
              "8                         0.0       0.0          0.0   \n",
              "11                        0.0       0.0          0.0   \n",
              "12                        0.0       0.0          0.0   \n",
              "15                        0.0       0.0          0.0   \n",
              "16                        0.0       0.0          0.0   \n",
              "\n",
              "title   'Twas the Night Before Christmas  ...And the Pursuit of Happiness  \\\n",
              "userId                                                                      \n",
              "8                                    0.0                              0.0   \n",
              "11                                   0.0                              0.0   \n",
              "12                                   0.0                              0.0   \n",
              "15                                   0.0                              0.0   \n",
              "16                                   0.0                              0.0   \n",
              "\n",
              "title   10 Items or Less  10 Things I Hate About You  10,000 BC  \\\n",
              "userId                                                            \n",
              "8                    0.0                         0.0        0.0   \n",
              "11                   0.0                         0.0        0.0   \n",
              "12                   0.0                         0.0        0.0   \n",
              "15                   0.0                         0.0        0.0   \n",
              "16                   0.0                         0.0        0.0   \n",
              "\n",
              "title   11'09''01 - September 11  12 Angry Men  ...  Zombie Flesh Eaters  \\\n",
              "userId                                          ...                        \n",
              "8                            0.0           0.0  ...                  0.0   \n",
              "11                           0.0           0.0  ...                  0.0   \n",
              "12                           0.0           0.0  ...                  0.0   \n",
              "15                           0.0           0.0  ...                  0.0   \n",
              "16                           0.0           0.0  ...                  0.0   \n",
              "\n",
              "title   Zombie Holocaust  Zozo  eXistenZ  xXx  ¡A volar joven!  À nos amours  \\\n",
              "userId                                                                         \n",
              "8                    0.0   0.0       0.0  0.0              0.0           0.0   \n",
              "11                   0.0   0.0       0.0  0.0              0.0           0.0   \n",
              "12                   0.0   0.0       0.0  0.0              0.0           0.0   \n",
              "15                   0.0   0.0       0.0  0.0              0.0           0.0   \n",
              "16                   0.0   0.0       0.0  0.0              0.0           0.0   \n",
              "\n",
              "title   Ödipussi  Şaban Oğlu Şaban  Šíleně smutná princezna  \n",
              "userId                                                       \n",
              "8            0.0               0.0                      0.0  \n",
              "11           0.0               0.0                      0.0  \n",
              "12           0.0               0.0                      0.0  \n",
              "15           0.0               0.0                      0.0  \n",
              "16           0.0               0.0                      0.0  \n",
              "\n",
              "[5 rows x 2924 columns]"
            ]
          },
          "execution_count": 18,
          "metadata": {},
          "output_type": "execute_result"
        }
      ],
      "source": [
        "#fill the null values with 0\n",
        "df_movie_rating_pivot.fillna(0, inplace=True)\n",
        "df_movie_rating_pivot.head()"
      ]
    },
    {
      "cell_type": "code",
      "execution_count": null,
      "metadata": {},
      "outputs": [
        {
          "data": {
            "text/plain": [
              "(61472, 2924)"
            ]
          },
          "execution_count": 19,
          "metadata": {},
          "output_type": "execute_result"
        }
      ],
      "source": [
        "df_movie_rating_pivot.shape"
      ]
    },
    {
      "cell_type": "code",
      "execution_count": null,
      "metadata": {},
      "outputs": [],
      "source": [
        "import numpy as np\n",
        "from sklearn.model_selection import train_test_split\n",
        "\n",
        "def train_test_split(ratings, min_user_ratings=35, delete_rating_count=15):\n",
        "    train = ratings.copy()\n",
        "    validation = np.zeros_like(ratings)\n",
        "\n",
        "    for user in range(ratings.shape[0]):\n",
        "        user_ratings = ratings[user, :]\n",
        "        n_user_ratings = np.sum(user_ratings != 0)\n",
        "\n",
        "        if n_user_ratings >= min_user_ratings:\n",
        "            indices = np.where(user_ratings != 0)[0]\n",
        "            val_ratings = np.random.choice(indices, size=delete_rating_count, replace=False)\n",
        "\n",
        "            train[user, val_ratings] = 0\n",
        "            validation[user, val_ratings] = ratings[user, val_ratings]\n",
        "\n",
        "    return train, validation\n"
      ]
    },
    {
      "cell_type": "code",
      "execution_count": null,
      "metadata": {},
      "outputs": [],
      "source": [
        "train, val = train_test_split(df_movie_rating_pivot.values)"
      ]
    },
    {
      "cell_type": "code",
      "execution_count": null,
      "metadata": {},
      "outputs": [
        {
          "name": "stdout",
          "output_type": "stream",
          "text": [
            "(61472, 2924) (61472, 2924)\n"
          ]
        }
      ],
      "source": [
        "print(train.shape, val.shape)"
      ]
    },
    {
      "cell_type": "code",
      "execution_count": null,
      "metadata": {
        "id": "iRh69w-LQZd7"
      },
      "outputs": [],
      "source": [
        "class myRecommender:\n",
        "  def __init__(self, epochs = 100, n_latent_factors = 8, lmbda = 0.1, learning_rate = 0.001, w_0 = 0.02):\n",
        "    self.epochs = epochs\n",
        "    self.n_latent_factors = n_latent_factors\n",
        "    self.lmbda = lmbda\n",
        "    self.learning_rate = learning_rate\n",
        "    self.w_0 = w_0\n",
        "\n",
        "  def fit_the_data(self, Xtrain, val):\n",
        "    self.n_users, self.n_movies = Xtrain.shape[0], Xtrain.shape[1]\n",
        "    #print(self.n_users, self.n_movies)\n",
        "    self.U = np.random.rand(self.n_users, self.n_latent_factors)\n",
        "    self.V = np.random.rand(self.n_movies, self.n_latent_factors)\n",
        "    self.Vt = self.V.T\n",
        "    #print(self.U.shape, self.V.shape, self.Vt.shape)\n",
        "    #print(self.U, \"\\n\", self.Vt)\n",
        "\n",
        "    self.training_process = []\n",
        "    self.val_process = []\n",
        "\n",
        "    for epoch in range(self.epochs):\n",
        "      for u in range(self.n_users):\n",
        "        for m in range(self.n_movies):\n",
        "          #error = Xtrain[u,m] - np.dot(self.U[u, :], self.Vt[:,m])\n",
        "          #print(np.dot(self.U[u, :], self.Vt[:,m]), error)\n",
        "          error = Xtrain[u,m] - np.dot(self.U[u, :], self.V[m,:])\n",
        "\n",
        "          if Xtrain[u,m] != 0:\n",
        "            weight = 1\n",
        "          else:\n",
        "            weight = self.w_0\n",
        "\n",
        "          self.U[u,:] += self.learning_rate * (error * self.V[m,:] - self.lmbda * self.U[u,:]) * weight\n",
        "          self.V[m,:] += self.learning_rate * (error * self.U[u,:] - self.lmbda * self.V[m,:]) * weight\n",
        "\n",
        "      train_err = sqrt(mean_squared_error(np.dot(self.U, self.Vt), Xtrain))\n",
        "      test_err = sqrt(mean_squared_error(np.dot(self.U, self.Vt), val))\n",
        "      print(\"Epoch: \", epoch , \", train rmse: \", train_err, \", test rmse: \", test_err)\n",
        "      #print(self.U, self.V, np.dot(self.U, self.Vt) )\n",
        "      self.training_process.append((train_err))\n",
        "      self.val_process.append((test_err))\n",
        "\n",
        "    return self\n",
        "\n",
        "  def predict(self, Xtrain, user):\n",
        "    #predicted_rating_dict = {}\n",
        "    #get the prediction matrix\n",
        "    rating_prediction_matrix = np.dot(self.U, self.Vt)\n",
        "    #choose row for given user\n",
        "    user_row = Xtrain[user, :]\n",
        "    #get the index of movies that user did not watch -> rating = 0\n",
        "    index = np.where(user_row == 0)[0]\n",
        "    #return predicted movie ratings for items that given user did not watch\n",
        "    predicted_rating = rating_prediction_matrix[user, index].flatten()\n",
        "    #print(predicted_rating)\n",
        "    #for i,r in zip(index, predicted_rating):\n",
        "      #predicted_rating_dict[i] = r\n",
        "    return predicted_rating\n"
      ]
    },
    {
      "cell_type": "code",
      "execution_count": null,
      "metadata": {
        "colab": {
          "base_uri": "https://localhost:8080/"
        },
        "id": "l1Z9gaR2SYLE",
        "outputId": "e39e22a8-50c2-4709-c435-b4c8f297d997"
      },
      "outputs": [
        {
          "ename": "KeyboardInterrupt",
          "evalue": "",
          "output_type": "error",
          "traceback": [
            "\u001b[1;31m---------------------------------------------------------------------------\u001b[0m",
            "\u001b[1;31mKeyboardInterrupt\u001b[0m                         Traceback (most recent call last)",
            "\u001b[1;32mc:\\Users\\aldabrow\\Desktop\\PowerBI Excercises\\INZ\\jupter_notebooks\\User_based_CF.ipynb Cell 30\u001b[0m line \u001b[0;36m2\n\u001b[0;32m      <a href='vscode-notebook-cell:/c%3A/Users/aldabrow/Desktop/PowerBI%20Excercises/INZ/jupter_notebooks/User_based_CF.ipynb#X36sZmlsZQ%3D%3D?line=0'>1</a>\u001b[0m model \u001b[39m=\u001b[39m myRecommender()\n\u001b[1;32m----> <a href='vscode-notebook-cell:/c%3A/Users/aldabrow/Desktop/PowerBI%20Excercises/INZ/jupter_notebooks/User_based_CF.ipynb#X36sZmlsZQ%3D%3D?line=1'>2</a>\u001b[0m model\u001b[39m.\u001b[39;49mfit_the_data(train, val)\n",
            "\u001b[1;32mc:\\Users\\aldabrow\\Desktop\\PowerBI Excercises\\INZ\\jupter_notebooks\\User_based_CF.ipynb Cell 30\u001b[0m line \u001b[0;36m2\n\u001b[0;32m     <a href='vscode-notebook-cell:/c%3A/Users/aldabrow/Desktop/PowerBI%20Excercises/INZ/jupter_notebooks/User_based_CF.ipynb#X36sZmlsZQ%3D%3D?line=21'>22</a>\u001b[0m \u001b[39mfor\u001b[39;00m u \u001b[39min\u001b[39;00m \u001b[39mrange\u001b[39m(\u001b[39mself\u001b[39m\u001b[39m.\u001b[39mn_users):\n\u001b[0;32m     <a href='vscode-notebook-cell:/c%3A/Users/aldabrow/Desktop/PowerBI%20Excercises/INZ/jupter_notebooks/User_based_CF.ipynb#X36sZmlsZQ%3D%3D?line=22'>23</a>\u001b[0m   \u001b[39mfor\u001b[39;00m m \u001b[39min\u001b[39;00m \u001b[39mrange\u001b[39m(\u001b[39mself\u001b[39m\u001b[39m.\u001b[39mn_movies):\n\u001b[0;32m     <a href='vscode-notebook-cell:/c%3A/Users/aldabrow/Desktop/PowerBI%20Excercises/INZ/jupter_notebooks/User_based_CF.ipynb#X36sZmlsZQ%3D%3D?line=23'>24</a>\u001b[0m     \u001b[39m#error = Xtrain[u,m] - np.dot(self.U[u, :], self.Vt[:,m])\u001b[39;00m\n\u001b[0;32m     <a href='vscode-notebook-cell:/c%3A/Users/aldabrow/Desktop/PowerBI%20Excercises/INZ/jupter_notebooks/User_based_CF.ipynb#X36sZmlsZQ%3D%3D?line=24'>25</a>\u001b[0m     \u001b[39m#print(np.dot(self.U[u, :], self.Vt[:,m]), error)\u001b[39;00m\n\u001b[1;32m---> <a href='vscode-notebook-cell:/c%3A/Users/aldabrow/Desktop/PowerBI%20Excercises/INZ/jupter_notebooks/User_based_CF.ipynb#X36sZmlsZQ%3D%3D?line=25'>26</a>\u001b[0m     error \u001b[39m=\u001b[39m Xtrain[u,m] \u001b[39m-\u001b[39m np\u001b[39m.\u001b[39;49mdot(\u001b[39mself\u001b[39;49m\u001b[39m.\u001b[39;49mU[u, :], \u001b[39mself\u001b[39;49m\u001b[39m.\u001b[39;49mV[m,:])\n\u001b[0;32m     <a href='vscode-notebook-cell:/c%3A/Users/aldabrow/Desktop/PowerBI%20Excercises/INZ/jupter_notebooks/User_based_CF.ipynb#X36sZmlsZQ%3D%3D?line=27'>28</a>\u001b[0m     \u001b[39mif\u001b[39;00m Xtrain[u,m] \u001b[39m!=\u001b[39m \u001b[39m0\u001b[39m:\n\u001b[0;32m     <a href='vscode-notebook-cell:/c%3A/Users/aldabrow/Desktop/PowerBI%20Excercises/INZ/jupter_notebooks/User_based_CF.ipynb#X36sZmlsZQ%3D%3D?line=28'>29</a>\u001b[0m       weight \u001b[39m=\u001b[39m \u001b[39m1\u001b[39m\n",
            "File \u001b[1;32m<__array_function__ internals>:180\u001b[0m, in \u001b[0;36mdot\u001b[1;34m(*args, **kwargs)\u001b[0m\n",
            "\u001b[1;31mKeyboardInterrupt\u001b[0m: "
          ]
        }
      ],
      "source": [
        "model = myRecommender()\n",
        "model.fit_the_data(train, val)"
      ]
    },
    {
      "cell_type": "code",
      "execution_count": null,
      "metadata": {},
      "outputs": [],
      "source": [
        "#save the model\n",
        "import pickle\n",
        "pickle.dump(model, open('finalized_model.sav', 'wb'))"
      ]
    },
    {
      "cell_type": "code",
      "execution_count": null,
      "metadata": {
        "colab": {
          "base_uri": "https://localhost:8080/"
        },
        "id": "O6IMw552uTsp",
        "outputId": "34da02ff-d269-4edf-a0ee-91491038e6ed"
      },
      "outputs": [
        {
          "name": "stdout",
          "output_type": "stream",
          "text": [
            "{0: 0.3332200579278565, 1: 0.026126596521623597, 2: 0.14077408986292553, 3: 0.2877391371135352, 4: -0.09125104247581159, 5: 0.2253398011896821, 6: 0.188444429288807, 7: 0.13330421251241892, 8: 0.2319402742044109, 9: 0.2169775719222345, 10: 0.13060647367928138, 11: 0.007971759226602076, 12: 0.2987581143399534, 13: 0.31673040711187533, 14: 0.3201258060563303, 15: 0.14726034331241317, 16: 0.1365570056075616, 17: -0.009757447563854783, 18: 0.18485003840532327, 19: 0.18813373544349252, 20: 0.13276836039987827, 21: 0.07753338993448024, 22: 0.2474983051790082, 23: 0.3265464492598334, 24: 0.023211309122211206, 25: 0.28609654552119906, 26: 0.35564487244118026, 27: 0.23080813331088929, 28: 0.26682873636189136, 29: 0.30497463953014786, 30: 0.27515973196503307, 31: 0.10738661041791629, 32: 0.3803231341844638, 33: 0.17013245485562487, 34: 0.24407133009782284, 35: 0.07409952437398541, 36: 0.24601150323544796, 37: 0.1742099740649286, 38: 0.21482568778525765, 39: 0.22459267960447718, 40: 0.17394082764292865, 41: 0.24388847661942364, 42: 0.21854183487573955, 43: 0.3141740750627369, 44: 0.23754758089806158, 45: 0.158689888121855, 46: 0.265660523409582, 47: 0.31295891880512006, 48: 0.27119401855515285, 49: 0.059254961125389506, 51: 0.24403942193510658, 52: 0.36815618425798485, 53: 0.3358020808292982, 54: 0.10086248540835221, 55: 0.09750340414365136, 56: 0.2585665989451346, 57: 0.25399959672973876, 58: 0.32749406495133104, 60: 0.2548115198347641, 61: -0.04445974736536695, 62: 0.2117704051518456, 63: 0.30858570061074414, 65: 0.3161020916955184, 66: 0.2031532249978264, 67: 0.18154603140286563, 68: 0.22243052764921128, 69: 0.09250712073090903, 70: 0.15971239341943644, 71: 0.27225817219829723, 72: 0.3367215342372428, 73: 0.1295206998886023, 74: 0.15502086051185596, 75: 0.05117978592780472, 76: 0.09144727670878772, 77: 0.3262786948654365, 78: 0.17970850002046257, 79: 0.276869605467364, 80: 0.2743119864210024, 81: 0.22034258801784704, 82: 0.36410241394123144, 83: 0.193172356907136, 84: 0.02589858355180615, 85: -0.006688961101858843, 86: 0.11443252636232962, 87: 0.30064636962038327, 88: 0.22085206873566213, 89: 0.15032055818518875, 90: 0.3062205132623797, 91: 0.27044436913780295, 92: 0.36236812772815563, 93: 0.3289677567937223, 94: 0.25663510610156987, 95: 0.19234800786100276, 96: 0.1587624270847844, 97: 0.27373257073029017, 98: 0.25560446278445587, 99: 0.40242716918043175, 100: 0.26539137427304366, 101: 0.29263979167579707, 102: 0.12255707026783857, 103: 0.26195642486019316, 104: 0.08270445014902371, 105: 0.36927778735459316, 106: 0.20668511473491344, 107: 0.3867052351330466, 108: 0.11106378116760021, 109: 0.1742239284218066, 110: 0.22226266698047542, 111: 0.22961588110720213, 112: 0.21146882555504457, 113: 0.15968439392730444, 114: 0.23766845354032734, 115: 0.31361706080627927, 116: 0.18639305050679628, 117: 0.21365971325082292, 118: 0.4778374506070992, 119: 0.2640880322915828, 120: 0.1902569252092904, 121: 0.42820159143247727, 122: 0.2642812941873202, 123: 0.41087771124117967, 124: 0.2000366488081488, 125: 0.46489185755131945, 126: 0.25637638291274323, 127: 0.3654890339524393, 128: 0.32471139950249106, 129: 0.18188758418317474, 130: 0.20113192943667382, 131: 0.21587821986261, 132: 0.3783364449066058, 133: 0.16748257347526957, 134: 0.3486903272196433, 135: 0.1799747442064254, 136: 0.23129654017704793, 137: 0.10751230104526556, 138: 0.27841258859633566, 139: 0.24529743809583338, 140: 0.47243824845585286, 141: 0.3108143058007281, 142: 0.1122023909397051, 143: 0.13221476659026662, 144: 0.08585660857875743, 145: 0.2766605017473785, 146: 0.34002240350254437, 147: 0.16095620860755314, 148: 0.00445501920732125, 149: 0.31500332453733115, 150: 0.14910007592651048, 151: 0.19993238213558218, 152: 0.2563556440022635, 153: 0.34740603832636413, 154: 0.13702556393960869, 155: 0.3638913546101394, 156: 0.15719372018005645, 157: 0.3065294660014162, 158: 0.35200197423921936, 159: 0.30301223761270674, 160: 0.3117881956993173, 161: 0.17086898476672446, 162: 0.24808734260619875, 163: 0.15114398879032145, 164: 0.07293677383003767, 165: 0.3954352021677617, 166: 0.18550692189726564, 167: 0.23999505715916988, 168: 0.3140857304509105, 169: 0.298034749546095, 170: 0.2657131157225949, 171: 0.26853165587681455, 172: 0.3710014967939308, 173: 0.19637735929509337, 174: 0.16969617595342018, 175: 0.2410117841882827, 176: 0.2394355310204508, 177: 0.248315705700366, 178: 0.1820783374256885, 179: 0.1801878881053079, 180: 0.3747605905482363, 181: 0.2476688826253306, 182: 0.07572286299107446, 183: 0.2740862334349683, 184: 0.13646733024861052, 185: 0.23531259721824635, 186: 0.31828975848731733, 187: 0.3792498419182281, 188: 0.2660386283305749, 189: 0.3431519997453923, 190: 0.2934129970045501, 191: 0.0590822715326784, 192: 0.45933631134526737, 193: 0.31119991425280513, 194: 0.1862783757023435, 195: 0.23668426471608436, 196: 0.224584064856639, 197: 0.3927610320822086, 198: 0.14514941766576078, 199: 0.2575755259626128, 200: 0.21776821774983632, 201: 0.26906752366735376, 202: 0.4398154977988349, 203: 0.2483477154854815, 204: 0.16372606789986274, 205: 0.32054913915757954, 206: 0.16691378526983774, 207: 0.48418134242632804, 208: 0.15082424825052215, 209: 0.2121302573870208, 210: 0.3846765856961985, 211: 0.420618993253449, 212: 0.2021880897103443, 213: 0.39632550236667313, 214: 0.01073224414896027, 215: 0.2655252222792997, 216: 0.24076991009674029, 217: 0.2570807221472543, 218: 0.11243338159872122, 219: 0.12926685153961817, 220: 0.23473978880991378, 221: 0.04903561461482745, 222: 0.27971047096516516, 223: 0.358826820677551, 224: 0.1613229417040615, 225: 0.26292027453000605, 226: 0.3001966639438671, 227: 0.23308438203654872, 228: 0.3026932969326683, 229: 0.10691440621841175, 230: 0.25212918684561836, 231: 0.26537874845799764, 232: 0.45261526119028583, 233: 0.25077317639083885, 234: 0.11791502909804118, 235: 0.03282511769123612, 236: 0.36952471774738727, 237: 0.0618541285157767, 238: 0.4426053629254917, 239: 0.2591623839983588, 240: 0.1840383930992007, 241: 0.1964314642311536, 242: 0.24690081368663488, 243: 0.36930528032655235, 244: 0.056099058247637876, 245: 0.35376187737421766, 246: 0.14758328159103073, 247: 0.19277961822841516, 248: 0.13021210235191974, 249: 0.3844483611256028, 250: 0.2114837642910348, 251: 0.07180145252353566, 252: 0.1721876948968339, 253: 0.2870617051741688, 254: 0.032113174935143776, 255: 0.1866697946150815, 256: 0.2232779187444045, 257: 0.15098924763602906, 258: 0.34637373376898695, 259: 0.19677789060696374, 260: 0.20163151062966256, 261: 0.18780761771959284, 262: 0.29153333686261873, 263: 0.4332446237989162, 264: 0.1259404671075825, 265: 0.2702968547345187, 266: 0.20000139348827556, 267: 0.3899594795735055, 268: 0.39944524643983254, 269: 0.2710343094324854, 270: 0.23978775513136039, 271: 0.28277768908124257, 272: 0.022452281213922166, 273: 0.13715145543551782, 274: 0.06669875862988842, 275: 0.1337461154715946, 276: 0.36162974399293396, 277: 0.3125651998747319, 278: 0.26260834939511224, 279: 0.3422790381473927, 280: 0.3796749484187392, 281: 0.17255966183145835, 282: 0.13466844652790305, 283: 0.19159589950713654, 284: 0.17400465768769804, 285: 0.47300840780581355, 286: 0.2396219758560304, 287: 0.2711339598069406, 288: 0.13635249045775377, 289: 0.39375605106878053, 290: 0.1647407502977311, 291: 0.1616041853725375, 292: 0.32973717747930653, 293: 0.20516706641676244, 294: 0.2267032956834793, 295: 0.27503647295268496, 296: 0.26642844246717057, 297: 0.2586907813391758, 298: 0.20855482654172636, 299: 0.17772404063754568, 300: 0.3135414544125244, 301: 0.33359857587221503, 302: 0.24160272320438184, 303: 0.2523903321089001, 304: 0.24583485061040783, 305: 0.014666202234687212, 306: 0.07767710059064484, 307: 0.2834468110276362, 308: 0.10215410201852551, 309: 0.09078654940977175, 310: 0.1889033100446869, 311: 0.3436936292746112, 312: 0.14926937070670757, 313: 0.16820631598725272, 314: 0.2800077048758658, 315: 0.3194323311519004, 316: 0.08717073019938734, 317: 0.35124961154442913, 318: 0.2407572551496959, 319: 0.26109636756426374, 320: 0.19339685791100422, 321: 0.1782534803508713, 322: 0.1734854790842749, 323: 0.2867130027604321, 324: 0.16636161439173391, 325: 0.2798629365230897, 326: 0.2304085485124028, 327: 0.21518557816579253, 328: 0.02780580027649791, 329: 0.2653718098911969, 330: 0.24224614933345243, 331: 0.2755654449512407, 332: 0.3075958938677989, 333: 0.36043859650666915, 334: 0.18436942463333078, 335: 0.2253997488157225, 336: 0.3187978136446673, 337: 0.13663582021203752, 338: 0.12179857482296658, 339: 0.13939811244499742, 340: 0.19002364235910707, 341: 0.21067830165632814, 342: -0.0036690218118034215, 343: 0.269396494086277, 344: 0.0864277375414046, 345: 0.18269598506916626, 346: 0.1722910598774749, 347: 0.3321911513419147, 348: 0.19295242813648827, 349: 0.10030783474000675, 350: 0.24287764163831072, 351: 0.3266542805743127, 352: 0.22479814756911728, 353: 0.3151808591777122, 354: 0.19754675839416047, 355: 0.1453771276168569, 356: 0.20759477129942466, 357: 0.15416168622876494, 358: 0.24487893764754762, 359: 0.09051961061150134, 360: 0.23543950456051907, 361: 0.39127218788663637, 362: 0.3273061675995072, 363: 0.09320688254293392, 364: 0.175115965227466, 365: 0.24840268898855272, 366: 0.26676182387426284, 367: 0.2741581529486955, 368: 0.25788335624038, 369: 0.29876702325464516, 370: 0.08644450627756384, 371: 0.33994590854969947, 372: 0.3374256910045561, 373: -0.006217951579992216, 374: 0.26576576759286563, 375: 0.21928832879122392, 376: 0.48610801772669304, 377: 0.2166625828177769, 378: 0.030341981456850842, 379: 0.23796354136417305, 380: 0.041908491601120194, 381: 0.05413572120139713, 382: 0.16783921097929877, 383: 0.3316665728862309, 384: 0.23484727910932537, 385: 0.2607063010481238, 386: 0.1777803066789285, 387: 0.06764970729997856, 388: 0.48657637385403035, 389: 0.1630052966044374, 390: 0.3405193178063024, 391: 0.004626081372070741, 392: 0.3199023607558988, 393: 0.17406921369514264, 394: 0.23785028956797502, 395: 0.31783159844694703, 396: 0.3239104140297287, 397: 0.300643975276184, 398: 0.173062456548398, 399: 0.17319474828444795, 400: 0.3207175630240281, 401: 0.06260449180470681, 402: 0.04706193630097079, 403: 0.1875057917013408, 404: 0.31134306918040966, 405: 0.2330052648588724, 406: 0.2444436351806397, 407: 0.38955139859041404, 408: 0.3031380163833758, 409: 0.2869965883507158, 410: 0.36458338611746505, 411: 0.2651972313971473, 412: 0.3018026211726565, 413: 0.13988194835335407, 414: 0.19640299706734185, 415: 0.3378684790142551, 416: 0.25051427644517604, 417: 0.2892005353311511, 418: 0.29218996857005797, 419: 0.24454029252935722, 420: 0.2583448723465658, 421: 0.20095481737008136, 422: 0.22751036500414346, 423: 0.2526376991237512, 424: 0.20345773443931006, 425: 0.16548590462333082, 426: 0.15533821227135353, 427: 0.2998335623328571, 428: 0.2225819443190657, 429: 0.1327221001438629, 430: 0.35622910604500696, 431: 0.19229239547630977, 432: 0.2784600524275996, 433: 0.33794823520166284, 434: 0.25652181294922033, 435: 0.27079461977178254, 436: 0.31915328856938147, 437: 0.3100054529115295, 438: 0.13476654707704114, 439: 0.37264359945192205, 440: 0.3100475507458616, 441: -0.011424087086393553, 442: 0.2151815670873335, 443: 0.5197157770134043, 444: 0.23331639320410238, 446: 0.5519538162433776, 447: 0.40340848328704115, 448: 0.2936270927968506, 449: 0.31160866180079766, 450: 0.05111352721722456, 451: 0.24432728911450088, 452: 0.022668409054209002, 453: 0.21254062255673375, 454: 0.2772406961246742, 455: 0.17356800697243635, 456: 0.31608065762212034, 457: 0.3255853864371654, 458: 0.1527043846927254, 459: 0.2141637049440011, 460: 0.18668201385819064, 461: 0.40918643777708663, 462: 0.2568418749450704, 463: 0.19573552970644242, 464: 0.17352698025400135, 465: 0.2473256648392707, 466: 0.26810925632307875, 467: 0.2746360861446241, 468: 0.17349341464846385, 469: 0.026542378000133832, 470: 0.2564403099907276, 471: 0.3401493104012469, 472: 0.2853331450089427, 473: 0.258338385127022, 474: 0.19705027016997845, 475: 0.16008747993069836, 476: 0.28555535544993327, 477: 0.26156487161531083, 478: 0.32646866664680263, 479: 0.21859514272861488, 480: 0.2554629033940332, 481: 0.3089645952746598, 482: 0.19663069564762561, 483: 0.22503077386157452, 484: 0.43018480973453577, 485: 0.3233795275754355, 486: 0.4382953712516184, 487: 0.3152129731760571, 488: 0.24986301954807208, 489: 0.11290544748349486, 490: 0.3929610526994182, 491: 0.195722254333839, 492: 0.2818715841788713, 493: 0.036692880488157276, 494: 0.30930170961671066, 495: 0.3221127426406606, 496: 0.2321365089214428, 497: 0.26283480391655134, 498: 0.19596752406296797, 499: 0.3116793806385459, 500: 0.2547191677833449, 501: 0.37303469159086666, 502: 0.28007852902718205, 503: 0.14552847900234964, 504: 0.22290847977011358, 505: 0.2518045808467031, 506: 0.35252291934326574, 507: 0.34797350095592156, 508: 0.2861824751654882, 509: 0.35951549580958475, 510: 0.3616374527609724, 511: 0.2630483148155941, 512: 0.23131541383581, 513: 0.25791159933650376, 514: 0.28310664963571835, 515: 0.32086396836901593, 516: 0.2597140333519705, 517: 0.26958091380266663, 518: 0.37487390882806243, 519: 0.3078945731990305, 520: 0.19721444047161418, 521: 0.09057469843145265, 522: 0.22434713959344801, 523: 0.25405257414148347, 524: 0.29696125734423295, 525: 0.2535080194255054, 526: 0.3087898550954256, 527: 0.20027221431622522, 528: 0.28398962039766074, 529: 0.3059771953553181, 530: 0.3244232954522906, 531: 0.14532023087275098, 532: 0.4556413564164861, 533: 0.19306932553846323, 534: 0.3664072592644529, 535: 0.2683172888514266, 536: 0.043617762347411, 537: 0.10011495222143237, 538: 0.22263178011377083, 539: 0.01433389619791684, 540: 0.31502532066574435, 541: 0.19161883623148912, 542: 0.21310049881671614, 543: 0.2872437462528335, 544: 0.15876606863940712, 545: 0.316191879733771, 546: 0.10108989593028422, 547: 0.26171937299080017, 548: 0.03283225479779384, 549: 0.10316705892147168, 550: 0.16476635458754876, 551: 0.10630627051338723, 552: 0.16486361383343529, 553: 0.2592411639940806, 554: 0.22771748138570125, 555: 0.30706686588700505, 556: 0.16732050851070332, 557: 0.19649997799929922, 558: 0.09935694594488523, 559: 0.27040591122251806, 560: 0.22725186452889493, 562: 0.0576967943793779, 563: 0.3487719537673392, 564: 0.3760317203693483, 565: 0.23475425186806034, 566: 0.14800213126616135, 567: 0.21894532669215697, 568: 0.28732240969364414, 569: 0.1887510424791419, 570: 0.1944720672123014, 571: 0.2520599546309253, 572: 0.09113409627627475, 573: 0.40184834026459654, 574: 0.10341025048549687, 575: 0.1972789830253295, 576: 0.26668315499069734, 577: 0.36239323048397676, 578: 0.294742556737319, 579: 0.07591298140387885, 580: 0.25679712640920394, 581: 0.3923392823933285, 582: 0.07950537211435302, 583: 0.2923369574373539, 584: 0.19015238861420888, 585: 0.3251465732854398, 586: 0.2179531585169697, 587: 0.2461785105691502, 588: 0.12399652833863428, 589: 0.3013163674063765, 590: 0.5032028196310219, 591: -0.006881152168902287, 592: 0.31902442982474455, 593: 0.15468287664320238, 594: 0.3243327913317992, 595: 0.3223198399912795, 596: 0.25263297927922135, 597: 0.31812321906759705, 598: 0.38554884992156396, 599: 0.11082046014428036, 600: 0.21806574094729797, 601: 0.27486632655011967, 602: 0.20925650804849993, 603: 0.30386150510036003, 604: 0.3589370316292469, 605: 0.25015778220347273, 606: 0.14733523965169076, 607: 0.23840499943114882, 608: 0.1224122634400846, 609: 0.2414287668941762, 610: 0.1470147842662692, 611: 0.10530933342630741, 612: 0.24849150421778615, 613: 0.2394309316331718, 614: 0.060115095508909866, 615: 0.257157217453591, 616: 0.022681678592679427, 617: 0.27949936862752567, 618: 0.21746709765897276, 619: 0.2940026558531906, 620: 0.1614237110607343, 621: 0.33489246024584346, 622: 0.28712831763870605, 623: 0.17423777747566052, 624: 0.32443198581984956, 625: 0.20230982694196709, 626: 0.13717366626523098, 627: 0.22962657712954343, 628: 0.13392262647567607, 629: 0.2635965915872494, 630: 0.2750164432131145, 631: 0.1672008185211363, 632: 0.18875233027103383, 633: 0.2790780350213734, 634: 0.24136497262994486, 635: 0.03094628224283019, 636: 0.4886318337219059, 637: 0.17787691630179966, 638: 0.20274593754270423, 639: 0.308401963108798, 640: 0.33142482829203757, 641: 0.14932345162868432, 642: 0.28838586633164265, 643: 0.3607474668777283, 644: 0.2978414584648883, 645: 0.40363986815843006, 646: 0.1343193508934453, 647: 0.27734732523418637, 648: 0.1910652776724857, 649: 0.24165949374796586, 650: 0.24989408019579615, 651: 0.3115132860831492, 652: 0.27128969004271275, 654: 0.2323077080537074, 655: 0.20325756681320759, 656: 0.22017460848324463, 658: 0.007447682596869426, 659: 0.2063032438310489, 660: 0.288403309438043, 661: 0.4234378029416311, 662: 0.4027881314485732, 663: 0.3186021976958713, 664: 0.3245887634699074, 665: 0.14563985514888197, 666: 0.3164586568949367, 667: 0.2286866092835268, 668: 0.3473899414761095, 669: 0.2822904264368404, 670: 0.49650698024482764, 671: 0.19607908472256597, 672: 0.15960828488915108, 673: 0.08100745398592037, 674: 0.3499312681761861, 675: 0.24100099193163727, 676: 0.30903411777481377, 677: 0.3862638696275011, 678: 0.15229027843435025, 679: 0.29348735928073005, 680: 0.3353770918689827, 681: 0.17220391386185613, 682: 0.05398419282063536, 683: 0.07144477124689935, 684: 0.3597830947879347, 685: 0.1736264517770718, 686: 0.3110537263036857, 687: 0.2601752387420408, 688: 0.2279674142621324, 689: 0.2027535307484596, 690: 0.14949579174381147, 691: -0.061443114849705605, 692: 0.3949430428740113, 693: 0.13258295210379453, 694: 0.25060867831911876, 695: 0.11683844514330612, 696: 0.2689279994673494, 697: 0.0387563406165194, 698: 0.2024616790578887, 699: 0.367039044348112, 700: 0.22504272390289565, 701: 0.37231208035128927, 702: 0.07847640711844356, 703: 0.23513192764834417, 704: 0.08052477609319, 705: 0.13861754322634282, 706: 0.20006519711389234, 707: 0.2378189080453835, 708: 0.11369246584790996, 709: 0.2849144376149721, 710: 0.250018294442491, 711: 0.21994205851630771, 712: 0.2165508835486326, 713: -0.023901257812355525, 714: 0.16659287379062857, 715: -0.001148109103520922, 716: 0.19408903104927253, 717: 0.264514100707456, 718: 0.21246078454888623, 719: 0.366379595971338, 720: 0.3304809959505905, 721: 0.41327434325417894, 722: 0.04269231471523905, 723: 0.189387087239742, 724: 0.11973638059818303, 725: 0.17410391250343057, 726: 0.29109530146505475, 727: 0.08117386285566941, 728: 0.41095692997600175, 729: 0.12768858531505559, 730: 0.3520235808499132, 731: 0.06116317054692705, 732: 0.17649952463522517, 733: 0.40733385295374674, 734: 0.1565087363240611, 735: 0.31280397538467075, 736: 0.243130070885666, 737: 0.27371856861623767, 738: 0.3224591658576579, 739: 0.19464786132020567, 740: 0.1934408338683018, 741: 0.2628717694785591, 742: 0.23734801794130705, 743: 0.2563043231247244, 744: 0.3845603534748166, 745: 0.3373515372843829, 746: 0.21730985401328723, 747: 0.1390276445052256, 748: 0.30084234595461007, 749: 0.12554377623277374, 750: 0.07220875436625326, 751: 0.11381050673871076, 752: 0.2942157005735465, 753: 0.21246609675853353, 754: 0.19755378295897824, 755: 0.275680905378098, 756: 0.19783609659302545, 757: 0.24243040512055058, 758: 0.2868948082964902, 759: 0.2838945737897484, 760: 0.17980785888515408, 761: 0.1704193812926664, 762: 0.4260295495468087, 763: 0.2207390465577103, 764: 0.12631282021788023, 765: 0.20434004244597806, 766: 0.10329619083683884, 767: 0.05217971203042504, 768: 0.2200499037993364, 769: 0.2534095481072684, 770: 0.3677491526433687, 771: 0.19808018614945536, 772: 0.1694947431128578, 773: 0.3230595526825219, 774: 0.25639037311922336, 775: 0.21942511186427385, 776: 0.28253553243888474, 777: 0.1971354011991827, 778: 0.35000169180108437, 779: 0.2800898588550823, 780: 0.5388080550707619, 781: 0.08569428890393085, 782: 0.13664675809616508, 783: -0.07487096889412526, 784: 0.3300384084014089, 785: 0.42071315646614876, 786: 0.2965695093445739, 787: 0.32938191092980057, 788: 0.26039458780357105, 789: 0.10635531436617653, 790: 0.2115467335134071, 791: 0.22341483893418154, 792: 0.4872781738057497, 793: 0.26516946399432945, 794: 0.2024933134076453, 795: 0.16219044906410762, 796: 0.13341355193890525, 797: 0.3161188829942685, 798: 0.23766040953372045, 799: 0.3661187291095123, 800: 0.26612757319403485, 801: 0.11022250758005808, 802: 0.1993659420908084, 803: 0.24547513300876073, 804: 0.2612855312181701, 805: 0.18334597412036618, 806: 0.08173992895228377, 807: 0.3206170760401695, 808: 0.338324459399202, 809: 0.3435650017457036, 810: 0.1289269115036185, 811: 0.2488705739271198, 812: 0.23961042640888228, 813: 0.28304702240325846, 814: 0.3982497985520961, 815: 0.20472331673058564, 816: 0.3163101345860851, 817: 0.29425786063629794, 818: 0.28310920540286527, 819: 0.31770830476700196, 820: 0.4274860736945168, 821: 0.13313331006257453, 822: 0.02569175002022721, 823: 0.25200074694585495, 824: 0.260296279019935, 825: 0.3103754567151108, 826: 0.35514027509538615, 827: 0.1274331136545682, 828: 0.2948658230675427, 829: 0.36383029526138505, 830: 0.14984667336115798, 831: 0.22980832550308322, 832: 0.2269844341896363, 833: 0.19675023096528166, 834: 0.22806646064078023, 835: 0.30814648629858665, 836: 0.3054401084875457, 837: 0.2608646229998372, 838: 0.2751985303443648, 839: 0.4321359224372424, 840: 0.2860792800485789, 841: 0.35967039256995126, 842: 0.05441356689864243, 843: 0.17064319132097147, 844: 0.32284409739423486, 845: 0.03574207735217324, 846: 0.11941512344426836, 847: 0.09887592353865766, 848: 0.2207843871789534, 849: 0.34038963186347626, 850: 0.1806986840778873, 851: 0.14109131298430022, 852: 0.11675165578217862, 853: 0.15175716922982366, 854: 0.16670786970320056, 855: 0.2575108263553286, 856: 0.47549485137388375, 857: 0.26345332785280984, 858: 0.17136577954771065, 859: 0.28452986430176913, 860: 0.2657065409585887, 861: 0.24682860935460182, 862: 0.2363940240694806, 863: 0.09304074924726595, 864: 0.005346939711184782, 865: 0.165671501333811, 866: 0.28379266939397013, 867: 0.09189120127492861, 868: 0.3021934179206935, 869: 0.24019086077197732, 870: 0.23056848536851218, 871: 0.16225180479377604, 872: 0.23454881199984093, 873: 0.10451175953515576, 874: 0.1757319200556373, 875: 0.10211768576225196, 876: 0.08979582774947598, 877: 0.25755632312474247, 878: 0.21738624431662587, 879: 0.1410277135720132, 880: 0.19294394777645593, 881: 0.197362647828341, 882: 0.34122498731840156, 883: 0.1855854090357647, 884: 0.24393673841210928, 885: 0.16661032560358227, 886: 0.37969286345452496, 887: 0.44052319930886735, 888: 0.23100991657528866, 889: 0.2989211762962437, 890: 0.20714221443197112, 891: 0.3967585721313845, 892: 0.2512128578306066, 893: 0.1480657779025567, 894: 0.25110800610727096, 895: 0.48358126718127126, 896: 0.2582403084048888, 897: 0.15744120488746696, 898: 0.1958669352638705, 899: 0.43212596508239276, 900: 0.20145926184458984, 901: 0.27251914948148764, 902: 0.30855410297362224, 903: 0.16273978982654935, 904: 0.3126435927848412, 905: 0.3400826450117791, 906: 0.21240637308704768, 907: 0.2306088265501975, 908: 0.1636606151132062, 909: 0.10120694964685888, 910: 0.22624673244769197, 911: 0.33349196163296085, 912: 0.2942319455425528, 913: 0.22901643847663247, 914: 0.3733742816329851, 915: 0.2908110769834561, 916: 0.14913270555685743, 917: 0.16830849769572903, 918: 0.16919360002801526, 919: 0.35337284232462024, 920: 0.3321748644548628, 921: 0.23963952550336612, 922: 0.16818940917339043, 923: 0.15570698115693174, 924: 0.15451999936738323, 925: 0.34917042787721975, 926: 0.17856281792490447, 927: 0.41898229946503174, 928: 0.23260895119090888, 929: 0.19028972638632985, 930: 0.32703972134549986, 931: 0.17909870264095165, 932: 0.25740105797539603, 933: 0.24066014526076518, 934: 0.11005831003426311, 935: 0.1772577419509799, 936: 0.13652491119448992, 937: 0.29486568613581965, 938: 0.3658721230688977, 939: 0.3003157458112577, 940: 0.3481882007252807, 941: 0.23682359182087376, 942: 0.2429519930024993, 943: 0.23848664774182304, 944: 0.21662305966016043}\n"
          ]
        }
      ],
      "source": [
        "#load the model\n",
        "loaded_model = pickle.load(open('finalized_model.sav', 'rb'))"
      ]
    },
    {
      "cell_type": "code",
      "execution_count": null,
      "metadata": {},
      "outputs": [],
      "source": [
        "user_id = 3\n",
        "rating_predictions = loaded_model.predict(train, user_id) #get the predicted ratings for the given user"
      ]
    },
    {
      "cell_type": "code",
      "execution_count": null,
      "metadata": {},
      "outputs": [
        {
          "data": {
            "text/plain": [
              "[(750, 0.6077339846829088),\n",
              " (564, 0.5981368088763257),\n",
              " (506, 0.5836951097507088),\n",
              " (337, 0.5823420192816829),\n",
              " (392, 0.5800410870657374),\n",
              " (344, 0.576056509735938),\n",
              " (212, 0.5754472398991493),\n",
              " (493, 0.5738698883545198),\n",
              " (61, 0.5725950067685768),\n",
              " (783, 0.5687657531286356)]"
            ]
          },
          "execution_count": 85,
          "metadata": {},
          "output_type": "execute_result"
        }
      ],
      "source": [
        "#get recommendations for the given user\n",
        "recommendations = sorted(rating_predictions.items(), key=lambda x: x[1], reverse=True)[:10]\n",
        "recommendations"
      ]
    }
  ],
  "metadata": {
    "colab": {
      "provenance": []
    },
    "kernelspec": {
      "display_name": "Python 3",
      "language": "python",
      "name": "python3"
    },
    "language_info": {
      "codemirror_mode": {
        "name": "ipython",
        "version": 3
      },
      "file_extension": ".py",
      "mimetype": "text/x-python",
      "name": "python",
      "nbconvert_exporter": "python",
      "pygments_lexer": "ipython3",
      "version": "3.10.11"
    },
    "orig_nbformat": 4,
    "vscode": {
      "interpreter": {
        "hash": "bee5d26469ee6a7c180015fdaebd74f90d990baae4741e6a469ae76b16150172"
      }
    }
  },
  "nbformat": 4,
  "nbformat_minor": 0
}
