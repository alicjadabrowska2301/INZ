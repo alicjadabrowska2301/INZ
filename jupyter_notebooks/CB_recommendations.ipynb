{
 "cells": [
  {
   "attachments": {},
   "cell_type": "markdown",
   "metadata": {},
   "source": [
    "### Content-based recommendation system"
   ]
  },
  {
   "cell_type": "markdown",
   "metadata": {},
   "source": [
    "1. Import potrzebnych bibliotek"
   ]
  },
  {
   "cell_type": "code",
   "execution_count": 1,
   "metadata": {},
   "outputs": [],
   "source": [
    "import pandas as pd\n",
    "import numpy as np\n",
    "import psycopg2\n",
    "from sqlalchemy import create_engine, text\n",
    "import sklearn.feature_extraction.text as sk_text\n",
    "import sklearn.metrics.pairwise as sk_pairwise\n",
    "from sklearn.metrics import mean_squared_error, mean_absolute_error"
   ]
  },
  {
   "attachments": {},
   "cell_type": "markdown",
   "metadata": {},
   "source": [
    "2. Wczytanie danych"
   ]
  },
  {
   "cell_type": "code",
   "execution_count": 2,
   "metadata": {},
   "outputs": [],
   "source": [
    "# Connect to PostgreSQL server\n",
    "host= \"localhost\"\n",
    "database=\"movierecommenderdb\"\n",
    "user= \"postgres\"\n",
    "password= \"postgres\"\n",
    "port= \"5432\"\n",
    "\n",
    "\n",
    "alchemyEngine = create_engine(f'postgresql+psycopg2://{user}:{password}@{host}:{port}/{database}')\n",
    " \n",
    "# Connect to PostgreSQL server\n",
    "dbConnection = alchemyEngine.connect()\n",
    "\n",
    "# Read data from PostgreSQL database table and load into a DataFrame instance\n",
    "query_movies = text('SELECT * FROM \"Movies\"')\n",
    "query_credits = text('SELECT * FROM \"Credits\"')\n",
    "query_keywords = text('SELECT * FROM \"Keywords\"')\n",
    "query_ratings = text('SELECT * FROM \"Ratings\"')\n",
    "df_movie = pd.read_sql_query(query_movies, dbConnection)\n",
    "df_credits = pd.read_sql_query(query_credits, dbConnection)\n",
    "df_keywords = pd.read_sql_query(query_keywords, dbConnection)\n",
    "df_ratings = pd.read_sql_query(query_ratings, dbConnection)\n",
    "\n",
    "pd.set_option('display.expand_frame_repr', False)\n",
    "\n",
    "# Close the database connection\n",
    "dbConnection.close()"
   ]
  },
  {
   "cell_type": "code",
   "execution_count": 3,
   "metadata": {},
   "outputs": [
    {
     "data": {
      "text/html": [
       "<div>\n",
       "<style scoped>\n",
       "    .dataframe tbody tr th:only-of-type {\n",
       "        vertical-align: middle;\n",
       "    }\n",
       "\n",
       "    .dataframe tbody tr th {\n",
       "        vertical-align: top;\n",
       "    }\n",
       "\n",
       "    .dataframe thead th {\n",
       "        text-align: right;\n",
       "    }\n",
       "</style>\n",
       "<table border=\"1\" class=\"dataframe\">\n",
       "  <thead>\n",
       "    <tr style=\"text-align: right;\">\n",
       "      <th></th>\n",
       "      <th>cast</th>\n",
       "      <th>director</th>\n",
       "      <th>movieId</th>\n",
       "    </tr>\n",
       "  </thead>\n",
       "  <tbody>\n",
       "    <tr>\n",
       "      <th>0</th>\n",
       "      <td>Tom Hanks, Tim Allen, Don Rickles, Jim Varney,...</td>\n",
       "      <td>John Lasseter</td>\n",
       "      <td>862</td>\n",
       "    </tr>\n",
       "    <tr>\n",
       "      <th>1</th>\n",
       "      <td>Robin Williams, Jonathan Hyde, Kirsten Dunst, ...</td>\n",
       "      <td>Joe Johnston</td>\n",
       "      <td>8844</td>\n",
       "    </tr>\n",
       "    <tr>\n",
       "      <th>2</th>\n",
       "      <td>Al Pacino, Robert De Niro, Val Kilmer, Jon Voi...</td>\n",
       "      <td>Michael Mann</td>\n",
       "      <td>949</td>\n",
       "    </tr>\n",
       "  </tbody>\n",
       "</table>\n",
       "</div>"
      ],
      "text/plain": [
       "                                                cast       director  movieId\n",
       "0  Tom Hanks, Tim Allen, Don Rickles, Jim Varney,...  John Lasseter      862\n",
       "1  Robin Williams, Jonathan Hyde, Kirsten Dunst, ...   Joe Johnston     8844\n",
       "2  Al Pacino, Robert De Niro, Val Kilmer, Jon Voi...   Michael Mann      949"
      ]
     },
     "execution_count": 3,
     "metadata": {},
     "output_type": "execute_result"
    }
   ],
   "source": [
    "df_credits.head(3)"
   ]
  },
  {
   "cell_type": "code",
   "execution_count": 4,
   "metadata": {},
   "outputs": [
    {
     "data": {
      "text/html": [
       "<div>\n",
       "<style scoped>\n",
       "    .dataframe tbody tr th:only-of-type {\n",
       "        vertical-align: middle;\n",
       "    }\n",
       "\n",
       "    .dataframe tbody tr th {\n",
       "        vertical-align: top;\n",
       "    }\n",
       "\n",
       "    .dataframe thead th {\n",
       "        text-align: right;\n",
       "    }\n",
       "</style>\n",
       "<table border=\"1\" class=\"dataframe\">\n",
       "  <thead>\n",
       "    <tr style=\"text-align: right;\">\n",
       "      <th></th>\n",
       "      <th>movieId</th>\n",
       "      <th>keywords</th>\n",
       "    </tr>\n",
       "  </thead>\n",
       "  <tbody>\n",
       "    <tr>\n",
       "      <th>0</th>\n",
       "      <td>862</td>\n",
       "      <td>jealousy, toy, boy, friendship, friends, rival...</td>\n",
       "    </tr>\n",
       "    <tr>\n",
       "      <th>1</th>\n",
       "      <td>8844</td>\n",
       "      <td>board game, disappearance, based on children's...</td>\n",
       "    </tr>\n",
       "    <tr>\n",
       "      <th>2</th>\n",
       "      <td>949</td>\n",
       "      <td>robbery, detective, bank, obsession, chase, sh...</td>\n",
       "    </tr>\n",
       "  </tbody>\n",
       "</table>\n",
       "</div>"
      ],
      "text/plain": [
       "   movieId                                           keywords\n",
       "0      862  jealousy, toy, boy, friendship, friends, rival...\n",
       "1     8844  board game, disappearance, based on children's...\n",
       "2      949  robbery, detective, bank, obsession, chase, sh..."
      ]
     },
     "execution_count": 4,
     "metadata": {},
     "output_type": "execute_result"
    }
   ],
   "source": [
    "df_keywords.head(3)"
   ]
  },
  {
   "cell_type": "code",
   "execution_count": 5,
   "metadata": {},
   "outputs": [
    {
     "data": {
      "text/plain": [
       "Index(['adult', 'belongs_to_collection', 'budget', 'genres', 'homepage',\n",
       "       'movieId', 'imdb_id', 'original_language', 'original_title', 'overview',\n",
       "       'popularity', 'production_companies', 'production_countries',\n",
       "       'release_date', 'revenue', 'runtime', 'spoken_languages', 'status',\n",
       "       'tagline', 'title', 'video', 'vote_average', 'vote_count',\n",
       "       'poster_path', 'IMBD_poster_path', 'IMBD_backdrop_path'],\n",
       "      dtype='object')"
      ]
     },
     "execution_count": 5,
     "metadata": {},
     "output_type": "execute_result"
    }
   ],
   "source": [
    "#sprawdz czy movieId jest unikalne\n",
    "df_movie.columns"
   ]
  },
  {
   "cell_type": "code",
   "execution_count": 6,
   "metadata": {},
   "outputs": [
    {
     "data": {
      "text/html": [
       "<div>\n",
       "<style scoped>\n",
       "    .dataframe tbody tr th:only-of-type {\n",
       "        vertical-align: middle;\n",
       "    }\n",
       "\n",
       "    .dataframe tbody tr th {\n",
       "        vertical-align: top;\n",
       "    }\n",
       "\n",
       "    .dataframe thead th {\n",
       "        text-align: right;\n",
       "    }\n",
       "</style>\n",
       "<table border=\"1\" class=\"dataframe\">\n",
       "  <thead>\n",
       "    <tr style=\"text-align: right;\">\n",
       "      <th></th>\n",
       "      <th>adult</th>\n",
       "      <th>belongs_to_collection</th>\n",
       "      <th>budget</th>\n",
       "      <th>genres</th>\n",
       "      <th>homepage</th>\n",
       "      <th>movieId</th>\n",
       "      <th>imdb_id</th>\n",
       "      <th>original_language</th>\n",
       "      <th>original_title</th>\n",
       "      <th>overview</th>\n",
       "      <th>...</th>\n",
       "      <th>spoken_languages</th>\n",
       "      <th>status</th>\n",
       "      <th>tagline</th>\n",
       "      <th>title</th>\n",
       "      <th>video</th>\n",
       "      <th>vote_average</th>\n",
       "      <th>vote_count</th>\n",
       "      <th>poster_path</th>\n",
       "      <th>IMBD_poster_path</th>\n",
       "      <th>IMBD_backdrop_path</th>\n",
       "    </tr>\n",
       "  </thead>\n",
       "  <tbody>\n",
       "    <tr>\n",
       "      <th>0</th>\n",
       "      <td>False</td>\n",
       "      <td>Toy Story Collection</td>\n",
       "      <td>30000000</td>\n",
       "      <td>Animation, Comedy, Family</td>\n",
       "      <td>http://toystory.disney.com/toy-story</td>\n",
       "      <td>862</td>\n",
       "      <td>tt0114709</td>\n",
       "      <td>en</td>\n",
       "      <td>Toy Story</td>\n",
       "      <td>Led by Woody, Andy's toys live happily in his ...</td>\n",
       "      <td>...</td>\n",
       "      <td>English</td>\n",
       "      <td>Released</td>\n",
       "      <td>None</td>\n",
       "      <td>Toy Story</td>\n",
       "      <td>False</td>\n",
       "      <td>7.7</td>\n",
       "      <td>5415.0</td>\n",
       "      <td>https://image.tmdb.org/t/p/original/uXDfjJbdP4...</td>\n",
       "      <td>https://image.tmdb.org/t/p/w500//7G9915LfUQ2lV...</td>\n",
       "      <td>https://image.tmdb.org/t/p/w500//9FBwqcd9IRruE...</td>\n",
       "    </tr>\n",
       "    <tr>\n",
       "      <th>1</th>\n",
       "      <td>False</td>\n",
       "      <td>None</td>\n",
       "      <td>65000000</td>\n",
       "      <td>Adventure, Fantasy, Family</td>\n",
       "      <td>None</td>\n",
       "      <td>8844</td>\n",
       "      <td>tt0113497</td>\n",
       "      <td>en</td>\n",
       "      <td>Jumanji</td>\n",
       "      <td>When siblings Judy and Peter discover an encha...</td>\n",
       "      <td>...</td>\n",
       "      <td>English, Français</td>\n",
       "      <td>Released</td>\n",
       "      <td>Roll the dice and unleash the excitement!</td>\n",
       "      <td>Jumanji</td>\n",
       "      <td>False</td>\n",
       "      <td>6.9</td>\n",
       "      <td>2413.0</td>\n",
       "      <td>https://image.tmdb.org/t/p/original/nLXYV4WmYU...</td>\n",
       "      <td>None</td>\n",
       "      <td>None</td>\n",
       "    </tr>\n",
       "    <tr>\n",
       "      <th>2</th>\n",
       "      <td>False</td>\n",
       "      <td>None</td>\n",
       "      <td>60000000</td>\n",
       "      <td>Action, Crime, Drama, Thriller</td>\n",
       "      <td>None</td>\n",
       "      <td>949</td>\n",
       "      <td>tt0113277</td>\n",
       "      <td>en</td>\n",
       "      <td>Heat</td>\n",
       "      <td>Obsessive master thief, Neil McCauley leads a ...</td>\n",
       "      <td>...</td>\n",
       "      <td>English, Español</td>\n",
       "      <td>Released</td>\n",
       "      <td>A Los Angeles Crime Saga</td>\n",
       "      <td>Heat</td>\n",
       "      <td>False</td>\n",
       "      <td>7.7</td>\n",
       "      <td>1886.0</td>\n",
       "      <td>https://image.tmdb.org/t/p/original/umSVjVdbVw...</td>\n",
       "      <td>None</td>\n",
       "      <td>None</td>\n",
       "    </tr>\n",
       "  </tbody>\n",
       "</table>\n",
       "<p>3 rows × 26 columns</p>\n",
       "</div>"
      ],
      "text/plain": [
       "   adult belongs_to_collection    budget                          genres                              homepage  movieId    imdb_id original_language original_title                                           overview  ...   spoken_languages    status                                    tagline      title  video  vote_average vote_count                                        poster_path                                   IMBD_poster_path                                 IMBD_backdrop_path\n",
       "0  False  Toy Story Collection  30000000       Animation, Comedy, Family  http://toystory.disney.com/toy-story      862  tt0114709                en      Toy Story  Led by Woody, Andy's toys live happily in his ...  ...            English  Released                                       None  Toy Story  False           7.7     5415.0  https://image.tmdb.org/t/p/original/uXDfjJbdP4...  https://image.tmdb.org/t/p/w500//7G9915LfUQ2lV...  https://image.tmdb.org/t/p/w500//9FBwqcd9IRruE...\n",
       "1  False                  None  65000000      Adventure, Fantasy, Family                                  None     8844  tt0113497                en        Jumanji  When siblings Judy and Peter discover an encha...  ...  English, Français  Released  Roll the dice and unleash the excitement!    Jumanji  False           6.9     2413.0  https://image.tmdb.org/t/p/original/nLXYV4WmYU...                                               None                                               None\n",
       "2  False                  None  60000000  Action, Crime, Drama, Thriller                                  None      949  tt0113277                en           Heat  Obsessive master thief, Neil McCauley leads a ...  ...   English, Español  Released                   A Los Angeles Crime Saga       Heat  False           7.7     1886.0  https://image.tmdb.org/t/p/original/umSVjVdbVw...                                               None                                               None\n",
       "\n",
       "[3 rows x 26 columns]"
      ]
     },
     "execution_count": 6,
     "metadata": {},
     "output_type": "execute_result"
    }
   ],
   "source": [
    "df_movie.head(3)"
   ]
  },
  {
   "cell_type": "code",
   "execution_count": 7,
   "metadata": {},
   "outputs": [
    {
     "data": {
      "text/html": [
       "<div>\n",
       "<style scoped>\n",
       "    .dataframe tbody tr th:only-of-type {\n",
       "        vertical-align: middle;\n",
       "    }\n",
       "\n",
       "    .dataframe tbody tr th {\n",
       "        vertical-align: top;\n",
       "    }\n",
       "\n",
       "    .dataframe thead th {\n",
       "        text-align: right;\n",
       "    }\n",
       "</style>\n",
       "<table border=\"1\" class=\"dataframe\">\n",
       "  <thead>\n",
       "    <tr style=\"text-align: right;\">\n",
       "      <th></th>\n",
       "      <th>userId</th>\n",
       "      <th>movieId</th>\n",
       "      <th>rating</th>\n",
       "      <th>timestamp</th>\n",
       "      <th>normalized_rating</th>\n",
       "      <th>ratingID</th>\n",
       "    </tr>\n",
       "  </thead>\n",
       "  <tbody>\n",
       "    <tr>\n",
       "      <th>0</th>\n",
       "      <td>24</td>\n",
       "      <td>2</td>\n",
       "      <td>3.0</td>\n",
       "      <td>979974023</td>\n",
       "      <td>0.555556</td>\n",
       "      <td>1</td>\n",
       "    </tr>\n",
       "    <tr>\n",
       "      <th>1</th>\n",
       "      <td>24</td>\n",
       "      <td>6</td>\n",
       "      <td>4.0</td>\n",
       "      <td>979870499</td>\n",
       "      <td>0.777778</td>\n",
       "      <td>2</td>\n",
       "    </tr>\n",
       "    <tr>\n",
       "      <th>2</th>\n",
       "      <td>24</td>\n",
       "      <td>16</td>\n",
       "      <td>3.0</td>\n",
       "      <td>979870379</td>\n",
       "      <td>0.555556</td>\n",
       "      <td>3</td>\n",
       "    </tr>\n",
       "  </tbody>\n",
       "</table>\n",
       "</div>"
      ],
      "text/plain": [
       "   userId  movieId  rating  timestamp  normalized_rating  ratingID\n",
       "0      24        2     3.0  979974023           0.555556         1\n",
       "1      24        6     4.0  979870499           0.777778         2\n",
       "2      24       16     3.0  979870379           0.555556         3"
      ]
     },
     "execution_count": 7,
     "metadata": {},
     "output_type": "execute_result"
    }
   ],
   "source": [
    "df_ratings.head(3)"
   ]
  },
  {
   "cell_type": "code",
   "execution_count": 8,
   "metadata": {},
   "outputs": [
    {
     "data": {
      "text/html": [
       "<div>\n",
       "<style scoped>\n",
       "    .dataframe tbody tr th:only-of-type {\n",
       "        vertical-align: middle;\n",
       "    }\n",
       "\n",
       "    .dataframe tbody tr th {\n",
       "        vertical-align: top;\n",
       "    }\n",
       "\n",
       "    .dataframe thead th {\n",
       "        text-align: right;\n",
       "    }\n",
       "</style>\n",
       "<table border=\"1\" class=\"dataframe\">\n",
       "  <thead>\n",
       "    <tr style=\"text-align: right;\">\n",
       "      <th></th>\n",
       "      <th>userId</th>\n",
       "      <th>movieId</th>\n",
       "      <th>title</th>\n",
       "      <th>normalized_rating</th>\n",
       "      <th>rating</th>\n",
       "    </tr>\n",
       "  </thead>\n",
       "  <tbody>\n",
       "    <tr>\n",
       "      <th>0</th>\n",
       "      <td>2103</td>\n",
       "      <td>862</td>\n",
       "      <td>Toy Story</td>\n",
       "      <td>1.000000</td>\n",
       "      <td>5.0</td>\n",
       "    </tr>\n",
       "    <tr>\n",
       "      <th>1</th>\n",
       "      <td>5380</td>\n",
       "      <td>862</td>\n",
       "      <td>Toy Story</td>\n",
       "      <td>0.111111</td>\n",
       "      <td>1.0</td>\n",
       "    </tr>\n",
       "    <tr>\n",
       "      <th>2</th>\n",
       "      <td>6525</td>\n",
       "      <td>862</td>\n",
       "      <td>Toy Story</td>\n",
       "      <td>0.777778</td>\n",
       "      <td>4.0</td>\n",
       "    </tr>\n",
       "  </tbody>\n",
       "</table>\n",
       "</div>"
      ],
      "text/plain": [
       "   userId  movieId      title  normalized_rating  rating\n",
       "0    2103      862  Toy Story           1.000000     5.0\n",
       "1    5380      862  Toy Story           0.111111     1.0\n",
       "2    6525      862  Toy Story           0.777778     4.0"
      ]
     },
     "execution_count": 8,
     "metadata": {},
     "output_type": "execute_result"
    }
   ],
   "source": [
    "#merge movies and ratings\n",
    "df_ratings = pd.merge(df_movie, df_ratings, on='movieId')\n",
    "#let only necessary columns\n",
    "df_ratings = df_ratings[['userId','movieId', 'title', 'normalized_rating', 'rating']]\n",
    "df_ratings.head(3)"
   ]
  },
  {
   "cell_type": "code",
   "execution_count": 9,
   "metadata": {},
   "outputs": [
    {
     "name": "stdout",
     "output_type": "stream",
     "text": [
      "Number of unique users:  16679\n",
      "Number of unique movies:  7293\n"
     ]
    }
   ],
   "source": [
    "#check how many unique users and movies we have\n",
    "print('Number of unique users: ', df_ratings.userId.nunique())\n",
    "print('Number of unique movies: ', df_ratings.movieId.nunique())"
   ]
  },
  {
   "cell_type": "markdown",
   "metadata": {},
   "source": [
    "3. Przygotowanie i czyszczenie danych"
   ]
  },
  {
   "cell_type": "code",
   "execution_count": 10,
   "metadata": {},
   "outputs": [],
   "source": [
    "#merge df_movie, df_credits, df_keywords\n",
    "df_movie = df_movie.merge(df_credits, on='movieId')\n",
    "df_movie = df_movie.merge(df_keywords, on='movieId')\n",
    "df_movies_explore = df_movie.copy()"
   ]
  },
  {
   "cell_type": "code",
   "execution_count": 11,
   "metadata": {},
   "outputs": [
    {
     "data": {
      "text/html": [
       "<div>\n",
       "<style scoped>\n",
       "    .dataframe tbody tr th:only-of-type {\n",
       "        vertical-align: middle;\n",
       "    }\n",
       "\n",
       "    .dataframe tbody tr th {\n",
       "        vertical-align: top;\n",
       "    }\n",
       "\n",
       "    .dataframe thead th {\n",
       "        text-align: right;\n",
       "    }\n",
       "</style>\n",
       "<table border=\"1\" class=\"dataframe\">\n",
       "  <thead>\n",
       "    <tr style=\"text-align: right;\">\n",
       "      <th></th>\n",
       "      <th>movieId</th>\n",
       "      <th>title</th>\n",
       "      <th>overview</th>\n",
       "      <th>genres</th>\n",
       "      <th>keywords</th>\n",
       "      <th>cast</th>\n",
       "      <th>director</th>\n",
       "      <th>poster_path</th>\n",
       "      <th>release_date</th>\n",
       "      <th>popularity</th>\n",
       "    </tr>\n",
       "  </thead>\n",
       "  <tbody>\n",
       "    <tr>\n",
       "      <th>0</th>\n",
       "      <td>862</td>\n",
       "      <td>Toy Story</td>\n",
       "      <td>Led by Woody, Andy's toys live happily in his ...</td>\n",
       "      <td>Animation, Comedy, Family</td>\n",
       "      <td>jealousy, toy, boy, friendship, friends, rival...</td>\n",
       "      <td>Tom Hanks, Tim Allen, Don Rickles, Jim Varney,...</td>\n",
       "      <td>John Lasseter</td>\n",
       "      <td>https://image.tmdb.org/t/p/original/uXDfjJbdP4...</td>\n",
       "      <td>1995.0</td>\n",
       "      <td>21.946943</td>\n",
       "    </tr>\n",
       "    <tr>\n",
       "      <th>1</th>\n",
       "      <td>8844</td>\n",
       "      <td>Jumanji</td>\n",
       "      <td>When siblings Judy and Peter discover an encha...</td>\n",
       "      <td>Adventure, Fantasy, Family</td>\n",
       "      <td>board game, disappearance, based on children's...</td>\n",
       "      <td>Robin Williams, Jonathan Hyde, Kirsten Dunst, ...</td>\n",
       "      <td>Joe Johnston</td>\n",
       "      <td>https://image.tmdb.org/t/p/original/nLXYV4WmYU...</td>\n",
       "      <td>1995.0</td>\n",
       "      <td>17.015539</td>\n",
       "    </tr>\n",
       "    <tr>\n",
       "      <th>2</th>\n",
       "      <td>949</td>\n",
       "      <td>Heat</td>\n",
       "      <td>Obsessive master thief, Neil McCauley leads a ...</td>\n",
       "      <td>Action, Crime, Drama, Thriller</td>\n",
       "      <td>robbery, detective, bank, obsession, chase, sh...</td>\n",
       "      <td>Al Pacino, Robert De Niro, Val Kilmer, Jon Voi...</td>\n",
       "      <td>Michael Mann</td>\n",
       "      <td>https://image.tmdb.org/t/p/original/umSVjVdbVw...</td>\n",
       "      <td>1995.0</td>\n",
       "      <td>17.924927</td>\n",
       "    </tr>\n",
       "    <tr>\n",
       "      <th>3</th>\n",
       "      <td>710</td>\n",
       "      <td>GoldenEye</td>\n",
       "      <td>James Bond must unmask the mysterious head of ...</td>\n",
       "      <td>Adventure, Action, Thriller</td>\n",
       "      <td>cuba, falsely accused, secret identity, comput...</td>\n",
       "      <td>Pierce Brosnan, Sean Bean, Izabella Scorupco, ...</td>\n",
       "      <td>Martin Campbell</td>\n",
       "      <td>https://image.tmdb.org/t/p/original/z0ljRnNxIO...</td>\n",
       "      <td>1995.0</td>\n",
       "      <td>14.686036</td>\n",
       "    </tr>\n",
       "    <tr>\n",
       "      <th>4</th>\n",
       "      <td>1408</td>\n",
       "      <td>Cutthroat Island</td>\n",
       "      <td>Morgan Adams and her slave, William Shaw, are ...</td>\n",
       "      <td>Action, Adventure</td>\n",
       "      <td>exotic island, treasure, map, ship, scalp, pirate</td>\n",
       "      <td>Geena Davis, Matthew Modine, Frank Langella, M...</td>\n",
       "      <td>Renny Harlin</td>\n",
       "      <td>https://image.tmdb.org/t/p/original/8g4sF1Qthl...</td>\n",
       "      <td>1995.0</td>\n",
       "      <td>7.284477</td>\n",
       "    </tr>\n",
       "  </tbody>\n",
       "</table>\n",
       "</div>"
      ],
      "text/plain": [
       "   movieId             title                                           overview                          genres                                           keywords                                               cast         director                                        poster_path  release_date  popularity\n",
       "0      862         Toy Story  Led by Woody, Andy's toys live happily in his ...       Animation, Comedy, Family  jealousy, toy, boy, friendship, friends, rival...  Tom Hanks, Tim Allen, Don Rickles, Jim Varney,...    John Lasseter  https://image.tmdb.org/t/p/original/uXDfjJbdP4...        1995.0   21.946943\n",
       "1     8844           Jumanji  When siblings Judy and Peter discover an encha...      Adventure, Fantasy, Family  board game, disappearance, based on children's...  Robin Williams, Jonathan Hyde, Kirsten Dunst, ...     Joe Johnston  https://image.tmdb.org/t/p/original/nLXYV4WmYU...        1995.0   17.015539\n",
       "2      949              Heat  Obsessive master thief, Neil McCauley leads a ...  Action, Crime, Drama, Thriller  robbery, detective, bank, obsession, chase, sh...  Al Pacino, Robert De Niro, Val Kilmer, Jon Voi...     Michael Mann  https://image.tmdb.org/t/p/original/umSVjVdbVw...        1995.0   17.924927\n",
       "3      710         GoldenEye  James Bond must unmask the mysterious head of ...     Adventure, Action, Thriller  cuba, falsely accused, secret identity, comput...  Pierce Brosnan, Sean Bean, Izabella Scorupco, ...  Martin Campbell  https://image.tmdb.org/t/p/original/z0ljRnNxIO...        1995.0   14.686036\n",
       "4     1408  Cutthroat Island  Morgan Adams and her slave, William Shaw, are ...               Action, Adventure  exotic island, treasure, map, ship, scalp, pirate  Geena Davis, Matthew Modine, Frank Langella, M...     Renny Harlin  https://image.tmdb.org/t/p/original/8g4sF1Qthl...        1995.0    7.284477"
      ]
     },
     "execution_count": 11,
     "metadata": {},
     "output_type": "execute_result"
    }
   ],
   "source": [
    "#let only the columns we need\n",
    "df_movie = df_movie[['movieId','title','overview','genres','keywords','cast','director', 'poster_path', 'release_date', 'popularity']]\n",
    "df_movie.head()"
   ]
  },
  {
   "cell_type": "code",
   "execution_count": 12,
   "metadata": {},
   "outputs": [
    {
     "data": {
      "text/plain": [
       "\"adventure fantasy family boardgame disappearance basedonchildren'sbook newhome recluse giantinsect robinwilliams jonathanhyde kirstendunst bradleypierce bonniehunt bebeneuwirth davidalangrier patriciaclarkson adamhann byrd laurabellbundy jameshandy gillianbarber brandonobray cyrusthiedeke garyjosephthorup leonardzola lloydberry malcolmstewart annabelkershaw darrylhenriques robyndriscoll peterbryant sarahgilson floricavlad junelion brendalockmuller joejohnston\""
      ]
     },
     "execution_count": 12,
     "metadata": {},
     "output_type": "execute_result"
    }
   ],
   "source": [
    "df_movie['combined_features'] = df_movie['genres'] + \"-\" + df_movie['keywords'] + \"-\" + df_movie['cast'] + \"-\" + df_movie['director']\n",
    "df_movie['combined_features'] = df_movie['combined_features'].str.lower().str.replace(\" \", \"\").str.replace(\",\", \" \").str.replace(\"-\", \" \")\n",
    "df_movie['combined_features'][1]"
   ]
  },
  {
   "cell_type": "code",
   "execution_count": 13,
   "metadata": {},
   "outputs": [
    {
     "data": {
      "text/plain": [
       "(7409, 11)"
      ]
     },
     "execution_count": 13,
     "metadata": {},
     "output_type": "execute_result"
    }
   ],
   "source": [
    "df_movie.shape"
   ]
  },
  {
   "cell_type": "markdown",
   "metadata": {},
   "source": [
    "4. EDA"
   ]
  },
  {
   "cell_type": "code",
   "execution_count": 14,
   "metadata": {},
   "outputs": [
    {
     "data": {
      "text/plain": [
       "Index(['adult', 'belongs_to_collection', 'budget', 'genres', 'homepage',\n",
       "       'movieId', 'imdb_id', 'original_language', 'original_title', 'overview',\n",
       "       'popularity', 'production_companies', 'production_countries',\n",
       "       'release_date', 'revenue', 'runtime', 'spoken_languages', 'status',\n",
       "       'tagline', 'title', 'video', 'vote_average', 'vote_count',\n",
       "       'poster_path', 'IMBD_poster_path', 'IMBD_backdrop_path', 'cast',\n",
       "       'director', 'keywords'],\n",
       "      dtype='object')"
      ]
     },
     "execution_count": 14,
     "metadata": {},
     "output_type": "execute_result"
    }
   ],
   "source": [
    "#exploratory data analysis\n",
    "df_movies_explore.columns"
   ]
  },
  {
   "cell_type": "code",
   "execution_count": 15,
   "metadata": {},
   "outputs": [
    {
     "data": {
      "text/plain": [
       "Text(0.5, 1.0, 'Most popular movies')"
      ]
     },
     "execution_count": 15,
     "metadata": {},
     "output_type": "execute_result"
    },
    {
     "data": {
      "image/png": "[encoded data removed]",
      "text/plain": [
       "<Figure size 1000x800 with 1 Axes>"
      ]
     },
     "metadata": {},
     "output_type": "display_data"
    }
   ],
   "source": [
    "import matplotlib.pyplot as plt\n",
    "\n",
    "#plot most popular movies\n",
    "df_movies_explore['popularity'].describe()\n",
    "\n",
    "#change popularity to float\n",
    "df_movies_explore['popularity'] = pd.to_numeric(df_movies_explore['popularity'], errors='coerce')\n",
    "\n",
    "most_popular_movies = df_movies_explore.sort_values(by='popularity', ascending=False)[['title','popularity']].head(10)\n",
    "most_popular_movies.plot(kind='bar', x='title', y='popularity',color = 'purple', figsize=(10,8))\n",
    "plt.title('Most popular movies')"
   ]
  },
  {
   "cell_type": "code",
   "execution_count": 16,
   "metadata": {},
   "outputs": [
    {
     "data": {
      "text/plain": [
       "Text(0.5, 1.0, 'Most rated movies')"
      ]
     },
     "execution_count": 16,
     "metadata": {},
     "output_type": "execute_result"
    },
    {
     "data": {
      "image/png": "[encoded data removed]",
      "text/plain": [
       "<Figure size 1000x800 with 1 Axes>"
      ]
     },
     "metadata": {},
     "output_type": "display_data"
    }
   ],
   "source": [
    "#mark empty values as null\n",
    "df_movies_explore['vote_average'] = pd.to_numeric(df_movies_explore['vote_average'], errors='coerce')\n",
    "df_movies_explore['vote_count'] = pd.to_numeric(df_movies_explore['vote_count'], errors='coerce')\n",
    "\n",
    "#plot most rated movies\n",
    "most_rated_movies = df_movies_explore.sort_values(by='vote_count', ascending=False)[['title','vote_count']].head(10)\n",
    "most_rated_movies.plot(kind='barh', x='title', y='vote_count',color = 'purple', figsize=(10,8))\n",
    "plt.title('Most rated movies')\n"
   ]
  },
  {
   "cell_type": "code",
   "execution_count": 17,
   "metadata": {},
   "outputs": [
    {
     "name": "stdout",
     "output_type": "stream",
     "text": [
      "78\n"
     ]
    }
   ],
   "source": [
    "#most popular directors\n",
    "df_movies_explore['director'].tolist()\n",
    "print(df_movies_explore['director'].isnull().sum())"
   ]
  },
  {
   "attachments": {},
   "cell_type": "markdown",
   "metadata": {},
   "source": [
    "5. Ekstrakcja cech"
   ]
  },
  {
   "cell_type": "code",
   "execution_count": 18,
   "metadata": {},
   "outputs": [],
   "source": [
    "df_movie['combined_features'] = df_movie['combined_features'].values.astype('U')"
   ]
  },
  {
   "cell_type": "code",
   "execution_count": 19,
   "metadata": {},
   "outputs": [
    {
     "name": "stdout",
     "output_type": "stream",
     "text": [
      "TfidfVectorizer(stop_words='english')\n",
      "  (0, 31478)\t0.2165717593258133\n",
      "  (0, 49192)\t0.22989888066313754\n",
      "  (0, 56037)\t0.2404772119809186\n",
      "  (0, 36885)\t0.19600139945738448\n",
      "  (0, 36704)\t0.18790965117662886\n",
      "  (0, 18610)\t0.2404772119809186\n",
      "  (0, 31594)\t0.2404772119809186\n",
      "  (0, 3454)\t0.2223934351495152\n",
      "  (0, 31758)\t0.18790965117662886\n",
      "  (0, 64943)\t0.1846442229844968\n",
      "  (0, 30383)\t0.2165717593258133\n",
      "  (0, 16168)\t0.2165717593258133\n",
      "  (0, 61791)\t0.20779340891529038\n",
      "  (0, 62310)\t0.17675790391596033\n",
      "  (0, 62916)\t0.2223934351495152\n",
      "  (0, 46103)\t0.22989888066313754\n",
      "  (0, 7156)\t0.2223934351495152\n",
      "  (0, 53192)\t0.18174241566322982\n",
      "  (0, 21046)\t0.16733929130820005\n",
      "  (0, 21047)\t0.13569228858550028\n",
      "  (0, 7138)\t0.1846442229844968\n",
      "  (0, 62914)\t0.2165717593258133\n",
      "  (0, 29037)\t0.14735033433363343\n",
      "  (0, 19393)\t0.10456497337357532\n",
      "  (0, 12014)\t0.06645762529535518\n",
      "  :\t:\n",
      "  (7405, 4066)\t0.22688922914626286\n",
      "  (7405, 59002)\t0.2661286090795957\n",
      "  (7405, 65284)\t0.17187508426911696\n",
      "  (7405, 45199)\t0.13669153911285847\n",
      "  (7405, 19393)\t0.12104335106846179\n",
      "  (7405, 12014)\t0.0769306720048841\n",
      "  (7406, 45418)\t1.0\n",
      "  (7407, 45418)\t1.0\n",
      "  (7408, 36721)\t0.2571433458005128\n",
      "  (7408, 44657)\t0.2571433458005128\n",
      "  (7408, 52071)\t0.2571433458005128\n",
      "  (7408, 6146)\t0.2571433458005128\n",
      "  (7408, 13619)\t0.2571433458005128\n",
      "  (7408, 2959)\t0.2571433458005128\n",
      "  (7408, 54096)\t0.2571433458005128\n",
      "  (7408, 58359)\t0.2571433458005128\n",
      "  (7408, 5335)\t0.2571433458005128\n",
      "  (7408, 24741)\t0.2571433458005128\n",
      "  (7408, 2937)\t0.2571433458005128\n",
      "  (7408, 50432)\t0.2378062832953726\n",
      "  (7408, 30837)\t0.2378062832953726\n",
      "  (7408, 49288)\t0.24583188936090464\n",
      "  (7408, 50515)\t0.2378062832953726\n",
      "  (7408, 4371)\t0.1991321582850923\n",
      "  (7408, 16483)\t0.05392473830616781\n"
     ]
    }
   ],
   "source": [
    "#convert combined column from text to feature vector\n",
    "vectorizer = sk_text.TfidfVectorizer(stop_words='english')\n",
    "print(vectorizer)\n",
    "X = vectorizer.fit_transform(df_movie['combined_features'])\n",
    "print(X)"
   ]
  },
  {
   "cell_type": "code",
   "execution_count": 20,
   "metadata": {},
   "outputs": [
    {
     "data": {
      "text/plain": [
       "(7409, 67225)"
      ]
     },
     "execution_count": 20,
     "metadata": {},
     "output_type": "execute_result"
    }
   ],
   "source": [
    "X.shape"
   ]
  },
  {
   "attachments": {},
   "cell_type": "markdown",
   "metadata": {},
   "source": [
    "6. Miara podobieństwa"
   ]
  },
  {
   "cell_type": "code",
   "execution_count": 21,
   "metadata": {},
   "outputs": [
    {
     "name": "stdout",
     "output_type": "stream",
     "text": [
      "[[1.         0.00814049 0.         ... 0.         0.         0.        ]\n",
      " [0.00814049 1.         0.         ... 0.         0.         0.        ]\n",
      " [0.         0.         1.         ... 0.         0.         0.00132687]\n",
      " ...\n",
      " [0.         0.         0.         ... 1.         1.         0.        ]\n",
      " [0.         0.         0.         ... 1.         1.         0.        ]\n",
      " [0.         0.         0.00132687 ... 0.         0.         1.        ]]\n"
     ]
    }
   ],
   "source": [
    "#finding the similarity scores between movies using cosine similarity\n",
    "cosine_sim = sk_pairwise.cosine_similarity(X, X)\n",
    "print(cosine_sim)"
   ]
  },
  {
   "cell_type": "code",
   "execution_count": 22,
   "metadata": {},
   "outputs": [
    {
     "data": {
      "text/plain": [
       "(7409, 7409)"
      ]
     },
     "execution_count": 22,
     "metadata": {},
     "output_type": "execute_result"
    }
   ],
   "source": [
    "cosine_sim.shape"
   ]
  },
  {
   "attachments": {},
   "cell_type": "markdown",
   "metadata": {},
   "source": [
    "7. Rekomendacje"
   ]
  },
  {
   "cell_type": "code",
   "execution_count": 23,
   "metadata": {},
   "outputs": [
    {
     "data": {
      "text/plain": [
       "['Dr. Otto and the Riddle of the Gloom Beam',\n",
       " 'Cars',\n",
       " 'Cars 2',\n",
       " 'Ernest Saves Christmas',\n",
       " 'Who Is Cletis Tout?',\n",
       " 'Big',\n",
       " 'Monsters, Inc.',\n",
       " 'Arctic Tale',\n",
       " 'Meet the Robinsons',\n",
       " 'Feed the Kitty',\n",
       " 'The Flintstones',\n",
       " 'Kit Kittredge: An American Girl',\n",
       " 'Shooting War',\n",
       " 'Chimpanzee',\n",
       " 'Micki & Maude',\n",
       " 'The Polar Express',\n",
       " 'Beach Blanket Bingo',\n",
       " 'December Boys',\n",
       " 'Minuscule: Valley of the Lost Ants',\n",
       " 'Lovesick',\n",
       " 'Larry Crowne',\n",
       " '3 Ninjas: High Noon at Mega Mountain',\n",
       " 'Steamboy',\n",
       " 'Treasure Planet',\n",
       " 'Galaxy Quest',\n",
       " 'My Best Friend',\n",
       " 'Mass Effect: Paragon Lost',\n",
       " 'Ratatouille',\n",
       " 'Titan A.E.',\n",
       " \"Happily N'Ever After\"]"
      ]
     },
     "execution_count": 23,
     "metadata": {},
     "output_type": "execute_result"
    }
   ],
   "source": [
    "def get_recommendations(title, cosine_sim=cosine_sim, top_n=30):\n",
    "    idx = df_movie[df_movie['title'] == title].index[0]\n",
    "    sim_scores = list(enumerate(cosine_sim[idx]))\n",
    "    sim_scores = sorted(sim_scores, key=lambda x: x[1], reverse=True)[1:top_n + 1]\n",
    "    movie_indices = [i[0] for i in sim_scores]\n",
    "    recommendations_df = pd.DataFrame({\n",
    "        'title': df_movie['title'].iloc[movie_indices],\n",
    "        'similarity_score': [x[1] for x in sim_scores],\n",
    "        'poster_url': df_movie['poster_path'].iloc[movie_indices],\n",
    "        'genres': df_movie['genres'].iloc[movie_indices],\n",
    "        'release_date': df_movie['release_date'].iloc[movie_indices],\n",
    "        'overview': df_movie['overview'].iloc[movie_indices],\n",
    "        'cast': df_movie['cast'].iloc[movie_indices],\n",
    "        'director': df_movie['director'].iloc[movie_indices],\n",
    "        'popularity': df_movie['popularity'].iloc[movie_indices]\n",
    "    })\n",
    "    \n",
    "    return recommendations_df\n",
    "\n",
    "df_recommendations = get_recommendations('Toy Story')\n",
    "df_recommendations = df_recommendations['title'].tolist()\n",
    "df_recommendations"
   ]
  },
  {
   "cell_type": "code",
   "execution_count": 24,
   "metadata": {},
   "outputs": [
    {
     "data": {
      "text/plain": [
       "45811     3526\n",
       "8659      2956\n",
       "179792    2520\n",
       "107720    2047\n",
       "270123    1996\n",
       "229879    1926\n",
       "243443    1852\n",
       "228291    1832\n",
       "70648     1797\n",
       "172224    1781\n",
       "Name: userId, dtype: int64"
      ]
     },
     "execution_count": 24,
     "metadata": {},
     "output_type": "execute_result"
    }
   ],
   "source": [
    "#check which user rated the most movies\n",
    "df_ratings['userId'].value_counts().head(10)"
   ]
  },
  {
   "cell_type": "code",
   "execution_count": 25,
   "metadata": {},
   "outputs": [],
   "source": [
    "def evaluate_recommendations(user_id, recommended_movies, ratings_df):\n",
    "    user_ratings = ratings_df[ratings_df['userId'] == user_id]\n",
    "    \n",
    "    # Filter the user's ratings for the recommended movies\n",
    "    user_ratings = user_ratings[user_ratings['title'].isin(recommended_movies)]\n",
    "    \n",
    "    if user_ratings.empty:\n",
    "        #print(\"User has not rated any of the recommended movies.\")\n",
    "        return 0.0, 0.0\n",
    "    \n",
    "    true_ratings = user_ratings['normalized_rating']\n",
    "    predicted_ratings = user_ratings.apply(lambda row: 1.0 if row['title'] in recommended_movies else 0.0, axis=1)\n",
    "    \n",
    "    mse = mean_squared_error(true_ratings, predicted_ratings)\n",
    "    mae = mean_absolute_error(true_ratings, predicted_ratings)\n",
    "    \n",
    "    return mse, mae\n",
    "\n",
    "def evaluation(user_id):\n",
    "    user_ratings = df_ratings[df_ratings['userId'] == user_id]\n",
    "    #print(f\"User {user_id} has rated {user_ratings.shape[0]} movies.\")\n",
    "    mse_error = []\n",
    "    mae_error = []\n",
    "\n",
    "    for idx, row in user_ratings.iterrows():\n",
    "        movie_id = row['movieId']\n",
    "        #print(f\"User {user_id}, Movie {movie_id}\")\n",
    "        movie_title = df_movie[df_movie['movieId'] == movie_id]['title'].values[0]\n",
    "        #print(f\"Movie title: {movie_title}\")\n",
    "        recommended_movies = get_recommendations(movie_title)['title'].tolist()\n",
    "        #print(recommended_movies)\n",
    "        mse, mae = evaluate_recommendations(user_id, recommended_movies, df_ratings)\n",
    "        #print(f\"User {user_id}, Movie {row['movieId']}: MSE = {mse}, MAE = {mae}\")\n",
    "        mse_error.append(mse)\n",
    "        mae_error.append(mae)\n",
    "        \n",
    "    return mse_error, mae_error\n"
   ]
  },
  {
   "cell_type": "code",
   "execution_count": 26,
   "metadata": {},
   "outputs": [
    {
     "name": "stdout",
     "output_type": "stream",
     "text": [
      "Average MSE error for user 45811: 0.20150961847029356\n",
      "Average MAE error for user 45811: 0.40425024188041525\n"
     ]
    }
   ],
   "source": [
    "# Example usage for a user with userId 24\n",
    "user_id = 45811\n",
    "mse_error, mae_error = evaluation(user_id)\n",
    "print(f\"Average MSE error for user {user_id}: {np.mean(mse_error)}\")\n",
    "print(f\"Average MAE error for user {user_id}: {np.mean(mae_error)}\")"
   ]
  },
  {
   "cell_type": "code",
   "execution_count": 104,
   "metadata": {},
   "outputs": [
    {
     "ename": "KeyboardInterrupt",
     "evalue": "",
     "output_type": "error",
     "traceback": [
      "\u001b[1;31m---------------------------------------------------------------------------\u001b[0m",
      "\u001b[1;31mKeyboardInterrupt\u001b[0m                         Traceback (most recent call last)",
      "\u001b[1;32mc:\\Users\\aldabrow\\Desktop\\PowerBI Excercises\\INZ\\jupter_notebooks\\CB_recommendations.ipynb Cell 34\u001b[0m line \u001b[0;36m7\n\u001b[0;32m      <a href='vscode-notebook-cell:/c%3A/Users/aldabrow/Desktop/PowerBI%20Excercises/INZ/jupter_notebooks/CB_recommendations.ipynb#Y103sZmlsZQ%3D%3D?line=3'>4</a>\u001b[0m mae_errors \u001b[39m=\u001b[39m []\n\u001b[0;32m      <a href='vscode-notebook-cell:/c%3A/Users/aldabrow/Desktop/PowerBI%20Excercises/INZ/jupter_notebooks/CB_recommendations.ipynb#Y103sZmlsZQ%3D%3D?line=5'>6</a>\u001b[0m \u001b[39mfor\u001b[39;00m user_id \u001b[39min\u001b[39;00m user_ids:\n\u001b[1;32m----> <a href='vscode-notebook-cell:/c%3A/Users/aldabrow/Desktop/PowerBI%20Excercises/INZ/jupter_notebooks/CB_recommendations.ipynb#Y103sZmlsZQ%3D%3D?line=6'>7</a>\u001b[0m     mse_error, mae_error \u001b[39m=\u001b[39m evaluation(user_id)\n\u001b[0;32m      <a href='vscode-notebook-cell:/c%3A/Users/aldabrow/Desktop/PowerBI%20Excercises/INZ/jupter_notebooks/CB_recommendations.ipynb#Y103sZmlsZQ%3D%3D?line=7'>8</a>\u001b[0m     mse_errors\u001b[39m.\u001b[39mappend(np\u001b[39m.\u001b[39mmean(mse_error))\n\u001b[0;32m      <a href='vscode-notebook-cell:/c%3A/Users/aldabrow/Desktop/PowerBI%20Excercises/INZ/jupter_notebooks/CB_recommendations.ipynb#Y103sZmlsZQ%3D%3D?line=8'>9</a>\u001b[0m     mae_errors\u001b[39m.\u001b[39mappend(np\u001b[39m.\u001b[39mmean(mae_error))\n",
      "\u001b[1;32mc:\\Users\\aldabrow\\Desktop\\PowerBI Excercises\\INZ\\jupter_notebooks\\CB_recommendations.ipynb Cell 34\u001b[0m line \u001b[0;36m3\n\u001b[0;32m     <a href='vscode-notebook-cell:/c%3A/Users/aldabrow/Desktop/PowerBI%20Excercises/INZ/jupter_notebooks/CB_recommendations.ipynb#Y103sZmlsZQ%3D%3D?line=29'>30</a>\u001b[0m recommended_movies \u001b[39m=\u001b[39m get_recommendations(movie_title)[\u001b[39m'\u001b[39m\u001b[39mtitle\u001b[39m\u001b[39m'\u001b[39m]\u001b[39m.\u001b[39mtolist()\n\u001b[0;32m     <a href='vscode-notebook-cell:/c%3A/Users/aldabrow/Desktop/PowerBI%20Excercises/INZ/jupter_notebooks/CB_recommendations.ipynb#Y103sZmlsZQ%3D%3D?line=30'>31</a>\u001b[0m \u001b[39m#print(recommended_movies)\u001b[39;00m\n\u001b[1;32m---> <a href='vscode-notebook-cell:/c%3A/Users/aldabrow/Desktop/PowerBI%20Excercises/INZ/jupter_notebooks/CB_recommendations.ipynb#Y103sZmlsZQ%3D%3D?line=31'>32</a>\u001b[0m mse, mae \u001b[39m=\u001b[39m evaluate_recommendations(user_id, recommended_movies, df_ratings)\n\u001b[0;32m     <a href='vscode-notebook-cell:/c%3A/Users/aldabrow/Desktop/PowerBI%20Excercises/INZ/jupter_notebooks/CB_recommendations.ipynb#Y103sZmlsZQ%3D%3D?line=32'>33</a>\u001b[0m \u001b[39m#print(f\"User {user_id}, Movie {row['movieId']}: MSE = {mse}, MAE = {mae}\")\u001b[39;00m\n\u001b[0;32m     <a href='vscode-notebook-cell:/c%3A/Users/aldabrow/Desktop/PowerBI%20Excercises/INZ/jupter_notebooks/CB_recommendations.ipynb#Y103sZmlsZQ%3D%3D?line=33'>34</a>\u001b[0m mse_error\u001b[39m.\u001b[39mappend(mse)\n",
      "\u001b[1;32mc:\\Users\\aldabrow\\Desktop\\PowerBI Excercises\\INZ\\jupter_notebooks\\CB_recommendations.ipynb Cell 34\u001b[0m line \u001b[0;36m2\n\u001b[0;32m      <a href='vscode-notebook-cell:/c%3A/Users/aldabrow/Desktop/PowerBI%20Excercises/INZ/jupter_notebooks/CB_recommendations.ipynb#Y103sZmlsZQ%3D%3D?line=0'>1</a>\u001b[0m \u001b[39mdef\u001b[39;00m \u001b[39mevaluate_recommendations\u001b[39m(user_id, recommended_movies, ratings_df):\n\u001b[1;32m----> <a href='vscode-notebook-cell:/c%3A/Users/aldabrow/Desktop/PowerBI%20Excercises/INZ/jupter_notebooks/CB_recommendations.ipynb#Y103sZmlsZQ%3D%3D?line=1'>2</a>\u001b[0m     user_ratings \u001b[39m=\u001b[39m ratings_df[ratings_df[\u001b[39m'\u001b[39;49m\u001b[39muserId\u001b[39;49m\u001b[39m'\u001b[39;49m] \u001b[39m==\u001b[39;49m user_id]\n\u001b[0;32m      <a href='vscode-notebook-cell:/c%3A/Users/aldabrow/Desktop/PowerBI%20Excercises/INZ/jupter_notebooks/CB_recommendations.ipynb#Y103sZmlsZQ%3D%3D?line=3'>4</a>\u001b[0m     \u001b[39m# Filter the user's ratings for the recommended movies\u001b[39;00m\n\u001b[0;32m      <a href='vscode-notebook-cell:/c%3A/Users/aldabrow/Desktop/PowerBI%20Excercises/INZ/jupter_notebooks/CB_recommendations.ipynb#Y103sZmlsZQ%3D%3D?line=4'>5</a>\u001b[0m     user_ratings \u001b[39m=\u001b[39m user_ratings[user_ratings[\u001b[39m'\u001b[39m\u001b[39mtitle\u001b[39m\u001b[39m'\u001b[39m]\u001b[39m.\u001b[39misin(recommended_movies)]\n",
      "File \u001b[1;32mc:\\Users\\aldabrow\\AppData\\Local\\Programs\\Python\\Python310\\lib\\site-packages\\pandas\\core\\ops\\common.py:70\u001b[0m, in \u001b[0;36m_unpack_zerodim_and_defer.<locals>.new_method\u001b[1;34m(self, other)\u001b[0m\n\u001b[0;32m     66\u001b[0m             \u001b[39mreturn\u001b[39;00m \u001b[39mNotImplemented\u001b[39m\n\u001b[0;32m     68\u001b[0m other \u001b[39m=\u001b[39m item_from_zerodim(other)\n\u001b[1;32m---> 70\u001b[0m \u001b[39mreturn\u001b[39;00m method(\u001b[39mself\u001b[39;49m, other)\n",
      "File \u001b[1;32mc:\\Users\\aldabrow\\AppData\\Local\\Programs\\Python\\Python310\\lib\\site-packages\\pandas\\core\\arraylike.py:40\u001b[0m, in \u001b[0;36mOpsMixin.__eq__\u001b[1;34m(self, other)\u001b[0m\n\u001b[0;32m     38\u001b[0m \u001b[39m@unpack_zerodim_and_defer\u001b[39m(\u001b[39m\"\u001b[39m\u001b[39m__eq__\u001b[39m\u001b[39m\"\u001b[39m)\n\u001b[0;32m     39\u001b[0m \u001b[39mdef\u001b[39;00m \u001b[39m__eq__\u001b[39m(\u001b[39mself\u001b[39m, other):\n\u001b[1;32m---> 40\u001b[0m     \u001b[39mreturn\u001b[39;00m \u001b[39mself\u001b[39;49m\u001b[39m.\u001b[39;49m_cmp_method(other, operator\u001b[39m.\u001b[39;49meq)\n",
      "File \u001b[1;32mc:\\Users\\aldabrow\\AppData\\Local\\Programs\\Python\\Python310\\lib\\site-packages\\pandas\\core\\series.py:5623\u001b[0m, in \u001b[0;36mSeries._cmp_method\u001b[1;34m(self, other, op)\u001b[0m\n\u001b[0;32m   5620\u001b[0m rvalues \u001b[39m=\u001b[39m extract_array(other, extract_numpy\u001b[39m=\u001b[39m\u001b[39mTrue\u001b[39;00m, extract_range\u001b[39m=\u001b[39m\u001b[39mTrue\u001b[39;00m)\n\u001b[0;32m   5622\u001b[0m \u001b[39mwith\u001b[39;00m np\u001b[39m.\u001b[39merrstate(\u001b[39mall\u001b[39m\u001b[39m=\u001b[39m\u001b[39m\"\u001b[39m\u001b[39mignore\u001b[39m\u001b[39m\"\u001b[39m):\n\u001b[1;32m-> 5623\u001b[0m     res_values \u001b[39m=\u001b[39m ops\u001b[39m.\u001b[39;49mcomparison_op(lvalues, rvalues, op)\n\u001b[0;32m   5625\u001b[0m \u001b[39mreturn\u001b[39;00m \u001b[39mself\u001b[39m\u001b[39m.\u001b[39m_construct_result(res_values, name\u001b[39m=\u001b[39mres_name)\n",
      "File \u001b[1;32mc:\\Users\\aldabrow\\AppData\\Local\\Programs\\Python\\Python310\\lib\\site-packages\\pandas\\core\\ops\\array_ops.py:286\u001b[0m, in \u001b[0;36mcomparison_op\u001b[1;34m(left, right, op)\u001b[0m\n\u001b[0;32m    283\u001b[0m     res_values \u001b[39m=\u001b[39m comp_method_OBJECT_ARRAY(op, lvalues, rvalues)\n\u001b[0;32m    285\u001b[0m \u001b[39melse\u001b[39;00m:\n\u001b[1;32m--> 286\u001b[0m     res_values \u001b[39m=\u001b[39m _na_arithmetic_op(lvalues, rvalues, op, is_cmp\u001b[39m=\u001b[39;49m\u001b[39mTrue\u001b[39;49;00m)\n\u001b[0;32m    288\u001b[0m \u001b[39mreturn\u001b[39;00m res_values\n",
      "File \u001b[1;32mc:\\Users\\aldabrow\\AppData\\Local\\Programs\\Python\\Python310\\lib\\site-packages\\pandas\\core\\ops\\array_ops.py:163\u001b[0m, in \u001b[0;36m_na_arithmetic_op\u001b[1;34m(left, right, op, is_cmp)\u001b[0m\n\u001b[0;32m    160\u001b[0m     func \u001b[39m=\u001b[39m partial(expressions\u001b[39m.\u001b[39mevaluate, op)\n\u001b[0;32m    162\u001b[0m \u001b[39mtry\u001b[39;00m:\n\u001b[1;32m--> 163\u001b[0m     result \u001b[39m=\u001b[39m func(left, right)\n\u001b[0;32m    164\u001b[0m \u001b[39mexcept\u001b[39;00m \u001b[39mTypeError\u001b[39;00m:\n\u001b[0;32m    165\u001b[0m     \u001b[39mif\u001b[39;00m \u001b[39mnot\u001b[39;00m is_cmp \u001b[39mand\u001b[39;00m (is_object_dtype(left\u001b[39m.\u001b[39mdtype) \u001b[39mor\u001b[39;00m is_object_dtype(right)):\n\u001b[0;32m    166\u001b[0m         \u001b[39m# For object dtype, fallback to a masked operation (only operating\u001b[39;00m\n\u001b[0;32m    167\u001b[0m         \u001b[39m#  on the non-missing values)\u001b[39;00m\n\u001b[0;32m    168\u001b[0m         \u001b[39m# Don't do this for comparisons, as that will handle complex numbers\u001b[39;00m\n\u001b[0;32m    169\u001b[0m         \u001b[39m#  incorrectly, see GH#32047\u001b[39;00m\n",
      "File \u001b[1;32mc:\\Users\\aldabrow\\AppData\\Local\\Programs\\Python\\Python310\\lib\\site-packages\\pandas\\core\\computation\\expressions.py:239\u001b[0m, in \u001b[0;36mevaluate\u001b[1;34m(op, a, b, use_numexpr)\u001b[0m\n\u001b[0;32m    236\u001b[0m \u001b[39mif\u001b[39;00m op_str \u001b[39mis\u001b[39;00m \u001b[39mnot\u001b[39;00m \u001b[39mNone\u001b[39;00m:\n\u001b[0;32m    237\u001b[0m     \u001b[39mif\u001b[39;00m use_numexpr:\n\u001b[0;32m    238\u001b[0m         \u001b[39m# error: \"None\" not callable\u001b[39;00m\n\u001b[1;32m--> 239\u001b[0m         \u001b[39mreturn\u001b[39;00m _evaluate(op, op_str, a, b)  \u001b[39m# type: ignore[misc]\u001b[39;00m\n\u001b[0;32m    240\u001b[0m \u001b[39mreturn\u001b[39;00m _evaluate_standard(op, op_str, a, b)\n",
      "File \u001b[1;32mc:\\Users\\aldabrow\\AppData\\Local\\Programs\\Python\\Python310\\lib\\site-packages\\pandas\\core\\computation\\expressions.py:69\u001b[0m, in \u001b[0;36m_evaluate_standard\u001b[1;34m(op, op_str, a, b)\u001b[0m\n\u001b[0;32m     67\u001b[0m \u001b[39mif\u001b[39;00m _TEST_MODE:\n\u001b[0;32m     68\u001b[0m     _store_test_result(\u001b[39mFalse\u001b[39;00m)\n\u001b[1;32m---> 69\u001b[0m \u001b[39mreturn\u001b[39;00m op(a, b)\n",
      "\u001b[1;31mKeyboardInterrupt\u001b[0m: "
     ]
    }
   ],
   "source": [
    "#show evaluation for all users\n",
    "user_ids = df_ratings['userId'].unique()\n",
    "mse_errors = []\n",
    "mae_errors = []\n",
    "\n",
    "for user_id in user_ids:\n",
    "    mse_error, mae_error = evaluation(user_id)\n",
    "    mse_errors.append(np.mean(mse_error))\n",
    "    mae_errors.append(np.mean(mae_error))\n",
    "    \n",
    "print(f\"Average MSE error for all users: {np.mean(mse_errors)}\")\n",
    "print(f\"Average MAE error for all users: {np.mean(mae_errors)}\")\n",
    "\n",
    "#plot MSE and MAE errors\n",
    "plt.figure(figsize=(10, 8))\n",
    "plt.plot(mse_errors, label='MSE')\n",
    "plt.plot(mae_errors, label='MAE')\n",
    "plt.legend()\n",
    "plt.title('MSE and MAE errors')\n",
    "plt.xlabel('User ID')\n",
    "plt.ylabel('Error')\n",
    "plt.show()\n"
   ]
  },
  {
   "cell_type": "code",
   "execution_count": 21,
   "metadata": {},
   "outputs": [],
   "source": [
    "from matplotlib import cm\n",
    "def get_pie_plot_of_genres(df):\n",
    "    df['genre'] = df['genres'].apply(lambda x: x.split(\",\"))\n",
    "    df['genre'] = df['genre'].apply(lambda x: [i.replace(\" \", \"\") for i in x])\n",
    "    \n",
    "    genres = []\n",
    "    for i in df['genre']:\n",
    "        genres.extend(i)\n",
    "    genres = list(set(genres))\n",
    "\n",
    "    genres_count = {}\n",
    "    for i in genres:\n",
    "        genres_count[i] = 0\n",
    "    for i in df['genre']:\n",
    "        for j in i:\n",
    "            genres_count[j] += 1\n",
    "            \n",
    "    plt.figure(figsize=(10,10))\n",
    "    colors = cm.rainbow(np.linspace(0, 1, len(genres_count.keys())))\n",
    "    plt.pie(genres_count.values(), labels=genres_count.keys(), autopct='%1.1f%%', startangle=90, pctdistance=0.85, textprops={'fontsize': 10}, colors=colors)\n",
    "    plt.legend(labels=genres_count.keys(), loc='upper right', bbox_to_anchor=(1.2, 1.0))\n",
    "    plt.title('Genres')\n",
    "    plt.show()\n"
   ]
  },
  {
   "cell_type": "code",
   "execution_count": 23,
   "metadata": {},
   "outputs": [
    {
     "name": "stderr",
     "output_type": "stream",
     "text": [
      "C:\\Users\\aldabrow\\AppData\\Local\\Temp\\ipykernel_17016\\730271730.py:34: UserWarning: FixedFormatter should only be used together with FixedLocator\n",
      "  ax.set_yticklabels([int(x) for x in vals])\n"
     ]
    },
    {
     "data": {
      "image/png": "[encoded data removed]",
      "text/plain": [
       "<Figure size 1000x500 with 1 Axes>"
      ]
     },
     "metadata": {},
     "output_type": "display_data"
    }
   ],
   "source": [
    "import pandas as pd\n",
    "import matplotlib.pyplot as plt\n",
    "\n",
    "def get_bar_plot_of_release_dates(df):\n",
    "    \n",
    "    df['year'] = df['release_date'].fillna(0).astype(int)\n",
    "    df_counts = df['year'].value_counts().sort_index().reset_index()\n",
    "    df_counts.columns = ['Year', 'Number of Movies']\n",
    "\n",
    "    df_filtered = df_counts[df_counts['Number of Movies'] > 0]\n",
    "    \n",
    "    plt.rcParams['figure.figsize'] = (10, 5)\n",
    "    \n",
    "    ax = df_filtered.plot(kind='bar', x='Year', y='Number of Movies', colormap = cm.rainbow, legend=False)\n",
    "    \n",
    "    ax.spines['top'].set_visible(False)\n",
    "    ax.spines['right'].set_visible(False)\n",
    "    ax.spines['left'].set_visible(False)\n",
    "    ax.spines['bottom'].set_color('#DDDDDD')\n",
    "    \n",
    "    ax.tick_params(bottom=False, left=False)\n",
    "    \n",
    "    ax.set_axisbelow(True)\n",
    "    ax.yaxis.grid(True, color='#EEEEEE')\n",
    "    ax.xaxis.grid(False)\n",
    "    \n",
    "    for p in ax.patches:\n",
    "        ax.annotate(str(p.get_height()), (p.get_x() + p.get_width() / 2, p.get_height() + 0.1), ha='center', color='purple', weight='bold')\n",
    "    \n",
    "    vals = ax.get_yticks()\n",
    "    ax.set_yticklabels([int(x) for x in vals])\n",
    "    \n",
    "    ax.set_xlabel('Year of release', labelpad=15, color='#333333')\n",
    "    ax.set_ylabel('Number of Movies', labelpad=15, color='#333333')\n",
    "    ax.set_title('Recommended Movies Release Year', pad=15, color='#333333', weight='bold')\n",
    "    \n",
    "    plt.show()\n",
    "\n",
    "get_bar_plot_of_release_dates(df_recommendations)\n"
   ]
  },
  {
   "cell_type": "code",
   "execution_count": 24,
   "metadata": {},
   "outputs": [],
   "source": [
    "def get_horizontal_bar_plot_of_cast(df):\n",
    "    df['casts'] = df['cast'].apply(lambda x: x.split(\",\"))\n",
    "    cast = []\n",
    "    for i in df['casts']:\n",
    "        cast.extend(i) \n",
    "    cast = [i.strip() for i in cast]\n",
    "    cast_count = pd.Series(cast).value_counts()\n",
    "    \n",
    "    cast_count_filtered = cast_count.sort_values(ascending=False).head(10)\n",
    "    cast_count_filtered = cast_count_filtered[::-1]\n",
    "    \n",
    "    plt.figure(figsize=(10, 5))  \n",
    "    ax = cast_count_filtered.plot(kind='barh', colormap=cm.rainbow)\n",
    "    \n",
    "    ax.spines['top'].set_visible(False)\n",
    "    ax.spines['right'].set_visible(False)\n",
    "    ax.spines['left'].set_visible(False)\n",
    "    ax.spines['bottom'].set_color('#DDDDDD')\n",
    "    \n",
    "    ax.tick_params(bottom=False, left=False)\n",
    "    \n",
    "    ax.set_axisbelow(True)\n",
    "    ax.xaxis.grid(True, color='#EEEEEE')\n",
    "    ax.yaxis.grid(False)\n",
    "    \n",
    "    for p in ax.patches:\n",
    "        ax.annotate(str(p.get_width()), (p.get_width() + 0.1, p.get_y() + p.get_height() / 2), va='center', color='black', weight='bold')\n",
    "    \n",
    "    vals = ax.get_xticks()\n",
    "    ax.set_xticklabels([int(x) for x in vals], color='#333333')\n",
    "    \n",
    "    ax.set_ylabel('Cast Member', labelpad=15, color='#333333')\n",
    "    ax.set_xlabel('Number of Movies', labelpad=15, color='#333333')\n",
    "    ax.set_title('Top 10 Cast Actors', pad=15, color='#333333', weight='bold', fontsize=15)\n",
    "    plt.show()"
   ]
  },
  {
   "cell_type": "code",
   "execution_count": 25,
   "metadata": {},
   "outputs": [
    {
     "name": "stderr",
     "output_type": "stream",
     "text": [
      "C:\\Users\\aldabrow\\AppData\\Local\\Temp\\ipykernel_17016\\521690296.py:38: UserWarning: FixedFormatter should only be used together with FixedLocator\n",
      "  ax.set_xticklabels([int(x) for x in vals], color='#333333')\n"
     ]
    },
    {
     "data": {
      "image/png": "[encoded data removed]",
      "text/plain": [
       "<Figure size 1000x500 with 1 Axes>"
      ]
     },
     "metadata": {},
     "output_type": "display_data"
    }
   ],
   "source": [
    "get_horizontal_bar_plot_of_cast(df_recommendations)"
   ]
  },
  {
   "cell_type": "code",
   "execution_count": 26,
   "metadata": {},
   "outputs": [
    {
     "name": "stdout",
     "output_type": "stream",
     "text": [
      "['#8000ff', '#4856fb', '#10a2f0', '#2adddd', '#62fbc4', '#9cfba4', '#d4dd80', '#ffa256', '#ff562c', '#ff0000']\n"
     ]
    }
   ],
   "source": [
    "from mycolorpy import colorlist as mcp\n",
    "import numpy as np\n",
    "color1=mcp.gen_color(cmap=\"rainbow\",n=10)\n",
    "print(color1)"
   ]
  },
  {
   "cell_type": "code",
   "execution_count": 27,
   "metadata": {},
   "outputs": [],
   "source": [
    "import pandas as pd\n",
    "import matplotlib.pyplot as plt\n",
    "import networkx as nx\n",
    "\n",
    "def create_directors_network_graph(df):\n",
    "    df['directors'] = df['director'].astype(str)\n",
    "    df['directors'] = df['directors'].apply(lambda x: x.split(\",\"))\n",
    "    df['directors'] = df['directors'].apply(lambda x: [i.strip() for i in x])\n",
    "    \n",
    "    directors = []\n",
    "    for i in df['directors']:\n",
    "        directors.extend(i)\n",
    "    directors_count = pd.Series(directors).value_counts()\n",
    "    \n",
    "    directors_count_filtered = directors_count[directors_count >= 2]\n",
    "    \n",
    "    G = nx.Graph()\n",
    "\n",
    "    for index, row in df.iterrows():\n",
    "        for director in row['directors']:\n",
    "            if director in directors_count_filtered.index:\n",
    "                G.add_node(director, bipartite=0)  # 0 for directors\n",
    "                G.add_node(row['title'], bipartite=1)  # 1 for movies\n",
    "                G.add_edge(director, row['title'])\n",
    "\n",
    "    plt.figure(figsize=(12, 8))\n",
    "\n",
    "    pos = nx.bipartite_layout(G, nodes=directors_count_filtered.index, align='vertical', scale=0.5)\n",
    "    directors_nodes = {node for node, data in G.nodes(data=True) if data['bipartite'] == 0}\n",
    "    movies_nodes = {node for node, data in G.nodes(data=True) if data['bipartite'] == 1}\n",
    "    label_pos = {k: [v[0], v[1] + 0.05] for k, v in pos.items()}\n",
    "\n",
    "    nx.draw_networkx_nodes(G, pos, nodelist=directors_nodes, node_color='#10a2f0', node_size=1500, alpha=0.9)\n",
    "    nx.draw_networkx_nodes(G, pos, nodelist=movies_nodes, node_color='#ff562c', node_size=800, alpha=0.9)\n",
    "    nx.draw_networkx_edges(G, pos, alpha=0.5)\n",
    "    nx.draw_networkx_labels(G, label_pos, font_size=10, font_family='Arial', font_color='black')\n",
    "\n",
    "    plt.title('Most frequently appearing directors on Director-Movie Graph', fontsize=15, fontweight='bold', pad=15, color='#333333')\n",
    "    plt.axis('off')\n",
    "    plt.savefig('directors.png')\n",
    "    plt.close()\n",
    "\n",
    "create_directors_network_graph(df_recommendations)\n"
   ]
  },
  {
   "cell_type": "code",
   "execution_count": 28,
   "metadata": {},
   "outputs": [],
   "source": [
    "import pandas as pd\n",
    "import matplotlib.pyplot as plt\n",
    "\n",
    "def get_most_popular_movies(df):\n",
    "    df_sorted = df.sort_values(by='popularity', ascending=False).head(15)\n",
    "    my_range = range(1, len(df_sorted) + 1)\n",
    "\n",
    "    fig, ax = plt.subplots(figsize=(10, 6))\n",
    "    plt.hlines(y=my_range, xmin=0, xmax=df_sorted['popularity'], color='#007ACC', alpha=0.4, linewidth=10)\n",
    "    plt.plot(df_sorted['popularity'], my_range, \"o\", markersize=10, color='#007ACC', alpha=0.8)\n",
    "    ax.set_xlabel('Popularity',labelpad=15, color='#333333', fontsize=12)\n",
    "    ax.set_ylabel('Movie Title',labelpad=15, color='#333333', fontsize=12)\n",
    "    ax.tick_params(axis='both', which='major', labelsize=10)\n",
    "    plt.yticks(my_range, df_sorted['title'], fontsize=10, fontweight='black', color='#333333')\n",
    "    plt.title('Top Most Popular Movies', fontsize=15, fontweight='bold', color='#333333', pad=15)\n",
    "\n",
    "    ax.spines['top'].set_visible(False)\n",
    "    ax.spines['right'].set_visible(False)\n",
    "    ax.spines['left'].set_bounds((1, len(my_range)))\n",
    "    ax.set_xlim(0, max(df_sorted['popularity']) + 1)\n",
    "\n",
    "    ax.spines['left'].set_position(('outward', 8))\n",
    "    ax.spines['bottom'].set_position(('outward', 5))\n",
    "\n",
    "    plt.close()"
   ]
  },
  {
   "cell_type": "code",
   "execution_count": 29,
   "metadata": {},
   "outputs": [
    {
     "data": {
      "text/html": [
       "<div>\n",
       "<style scoped>\n",
       "    .dataframe tbody tr th:only-of-type {\n",
       "        vertical-align: middle;\n",
       "    }\n",
       "\n",
       "    .dataframe tbody tr th {\n",
       "        vertical-align: top;\n",
       "    }\n",
       "\n",
       "    .dataframe thead th {\n",
       "        text-align: right;\n",
       "    }\n",
       "</style>\n",
       "<table border=\"1\" class=\"dataframe\">\n",
       "  <thead>\n",
       "    <tr style=\"text-align: right;\">\n",
       "      <th></th>\n",
       "      <th>title</th>\n",
       "      <th>similarity_score</th>\n",
       "      <th>poster_url</th>\n",
       "      <th>genres</th>\n",
       "      <th>release_date</th>\n",
       "      <th>overview</th>\n",
       "    </tr>\n",
       "  </thead>\n",
       "  <tbody>\n",
       "    <tr>\n",
       "      <th>2892</th>\n",
       "      <td>TMNT</td>\n",
       "      <td>0.000924</td>\n",
       "      <td>https://image.tmdb.org/t/p/original/ksguZE9rTt...</td>\n",
       "      <td>Adventure, Animation, Comedy, Family</td>\n",
       "      <td>2007.0</td>\n",
       "      <td>After the defeat of their old arch nemesis, Th...</td>\n",
       "    </tr>\n",
       "    <tr>\n",
       "      <th>3898</th>\n",
       "      <td>Cars 2</td>\n",
       "      <td>0.000622</td>\n",
       "      <td>https://image.tmdb.org/t/p/original/okIz1HyxeV...</td>\n",
       "      <td>Animation, Family, Adventure, Comedy</td>\n",
       "      <td>2011.0</td>\n",
       "      <td>Star race car Lightning McQueen and his pal Ma...</td>\n",
       "    </tr>\n",
       "    <tr>\n",
       "      <th>373</th>\n",
       "      <td>Prefontaine</td>\n",
       "      <td>0.000614</td>\n",
       "      <td>https://image.tmdb.org/t/p/original/1sSf0n8dbd...</td>\n",
       "      <td>Drama, Romance</td>\n",
       "      <td>1997.0</td>\n",
       "      <td>It's the true-life story of legendary track st...</td>\n",
       "    </tr>\n",
       "    <tr>\n",
       "      <th>1473</th>\n",
       "      <td>Who Is Cletis Tout?</td>\n",
       "      <td>0.000605</td>\n",
       "      <td>https://image.tmdb.org/t/p/original/udHRTgyZa1...</td>\n",
       "      <td>Action, Comedy, Crime</td>\n",
       "      <td>2001.0</td>\n",
       "      <td>A comedy about a hitman who sees everything in...</td>\n",
       "    </tr>\n",
       "    <tr>\n",
       "      <th>1462</th>\n",
       "      <td>The Powerpuff Girls Movie</td>\n",
       "      <td>0.000587</td>\n",
       "      <td>https://image.tmdb.org/t/p/original/n854BOogVQ...</td>\n",
       "      <td>Animation, Action, Family</td>\n",
       "      <td>2002.0</td>\n",
       "      <td>The Powerpuff Girls Movie tells the origin sto...</td>\n",
       "    </tr>\n",
       "    <tr>\n",
       "      <th>2765</th>\n",
       "      <td>Hollywoodland</td>\n",
       "      <td>0.000570</td>\n",
       "      <td>https://image.tmdb.org/t/p/original/iHSbYI7l9I...</td>\n",
       "      <td>Drama, Thriller, Crime</td>\n",
       "      <td>2006.0</td>\n",
       "      <td>The complicated life and controversial suicide...</td>\n",
       "    </tr>\n",
       "    <tr>\n",
       "      <th>770</th>\n",
       "      <td>Superman II</td>\n",
       "      <td>0.000517</td>\n",
       "      <td>https://image.tmdb.org/t/p/original/jw0tYFCbzj...</td>\n",
       "      <td>Action, Adventure, Fantasy, Science Fiction</td>\n",
       "      <td>1980.0</td>\n",
       "      <td>Three escaped criminals from the planet Krypto...</td>\n",
       "    </tr>\n",
       "    <tr>\n",
       "      <th>2797</th>\n",
       "      <td>The Prestige</td>\n",
       "      <td>0.000504</td>\n",
       "      <td>https://image.tmdb.org/t/p/original/tRNlZbgNCN...</td>\n",
       "      <td>Drama, Mystery, Thriller</td>\n",
       "      <td>2006.0</td>\n",
       "      <td>A mysterious story of two magicians whose inte...</td>\n",
       "    </tr>\n",
       "    <tr>\n",
       "      <th>4154</th>\n",
       "      <td>Superman vs. The Elite</td>\n",
       "      <td>0.000436</td>\n",
       "      <td>https://image.tmdb.org/t/p/original/kozJARWRoG...</td>\n",
       "      <td>Animation, Action</td>\n",
       "      <td>2012.0</td>\n",
       "      <td>The Man of Steel finds himself outshone by a n...</td>\n",
       "    </tr>\n",
       "    <tr>\n",
       "      <th>769</th>\n",
       "      <td>Superman</td>\n",
       "      <td>0.000429</td>\n",
       "      <td>https://image.tmdb.org/t/p/original/d7px1FQxW4...</td>\n",
       "      <td>Action, Adventure, Fantasy, Science Fiction</td>\n",
       "      <td>1978.0</td>\n",
       "      <td>Mild-mannered Clark Kent works as a reporter a...</td>\n",
       "    </tr>\n",
       "    <tr>\n",
       "      <th>3493</th>\n",
       "      <td>Dante's Hell Animated</td>\n",
       "      <td>0.000418</td>\n",
       "      <td>None</td>\n",
       "      <td>Animation</td>\n",
       "      <td>2013.0</td>\n",
       "      <td>Dante's Hell Animated is a real and truthful e...</td>\n",
       "    </tr>\n",
       "    <tr>\n",
       "      <th>533</th>\n",
       "      <td>3 Ninjas: High Noon at Mega Mountain</td>\n",
       "      <td>0.000417</td>\n",
       "      <td>https://image.tmdb.org/t/p/original/qEkffajn9a...</td>\n",
       "      <td>Action, Comedy, Family</td>\n",
       "      <td>1998.0</td>\n",
       "      <td>Three young boys, Rocky, Colt and Tum Tum toge...</td>\n",
       "    </tr>\n",
       "    <tr>\n",
       "      <th>62</th>\n",
       "      <td>The Cure</td>\n",
       "      <td>0.000382</td>\n",
       "      <td>https://image.tmdb.org/t/p/original/nIshUpXe5A...</td>\n",
       "      <td>Drama, Family</td>\n",
       "      <td>1995.0</td>\n",
       "      <td>Dexter, age 11, who has AIDS, and his next doo...</td>\n",
       "    </tr>\n",
       "    <tr>\n",
       "      <th>4462</th>\n",
       "      <td>Superman: Unbound</td>\n",
       "      <td>0.000378</td>\n",
       "      <td>https://image.tmdb.org/t/p/original/vjGBUnsW9z...</td>\n",
       "      <td>Animation, Action, Adventure</td>\n",
       "      <td>2013.0</td>\n",
       "      <td>Based on the Geoff Johns/Gary Frank 2008 relea...</td>\n",
       "    </tr>\n",
       "    <tr>\n",
       "      <th>6091</th>\n",
       "      <td>It's A Bird, It's A Plane, It's Superman!</td>\n",
       "      <td>0.000366</td>\n",
       "      <td>https://image.tmdb.org/t/p/original/16H9CrZIsM...</td>\n",
       "      <td>Comedy</td>\n",
       "      <td>1975.0</td>\n",
       "      <td>TV adaptation of the campy 1960s Broadway musi...</td>\n",
       "    </tr>\n",
       "    <tr>\n",
       "      <th>2785</th>\n",
       "      <td>St. Martin's Lane</td>\n",
       "      <td>0.000350</td>\n",
       "      <td>https://image.tmdb.org/t/p/original/bduBxuHRB2...</td>\n",
       "      <td>Comedy, Drama</td>\n",
       "      <td>1938.0</td>\n",
       "      <td>On the sidewalks of the London theater distric...</td>\n",
       "    </tr>\n",
       "    <tr>\n",
       "      <th>5394</th>\n",
       "      <td>Gunshy</td>\n",
       "      <td>0.000326</td>\n",
       "      <td>https://image.tmdb.org/t/p/original/5geXceRP6t...</td>\n",
       "      <td>Action, Crime, Thriller</td>\n",
       "      <td>1998.0</td>\n",
       "      <td>When the New York journalist Jake Bridges catc...</td>\n",
       "    </tr>\n",
       "    <tr>\n",
       "      <th>115</th>\n",
       "      <td>Blink</td>\n",
       "      <td>0.000324</td>\n",
       "      <td>https://image.tmdb.org/t/p/original/yNlatJk6C2...</td>\n",
       "      <td>Mystery, Crime, Drama, Thriller</td>\n",
       "      <td>1994.0</td>\n",
       "      <td>Emma is an attractive girl in her 20s who has ...</td>\n",
       "    </tr>\n",
       "    <tr>\n",
       "      <th>1405</th>\n",
       "      <td>Hero at Large</td>\n",
       "      <td>0.000322</td>\n",
       "      <td>https://image.tmdb.org/t/p/original/s5y93WClZA...</td>\n",
       "      <td>Action, Comedy, Drama</td>\n",
       "      <td>1980.0</td>\n",
       "      <td>An idealistic but struggling actor finds his l...</td>\n",
       "    </tr>\n",
       "    <tr>\n",
       "      <th>1465</th>\n",
       "      <td>Road to Perdition</td>\n",
       "      <td>0.000314</td>\n",
       "      <td>https://image.tmdb.org/t/p/original/loSpBeirRf...</td>\n",
       "      <td>Thriller, Crime, Drama</td>\n",
       "      <td>2002.0</td>\n",
       "      <td>Mike Sullivan works as a hit man for crime bos...</td>\n",
       "    </tr>\n",
       "    <tr>\n",
       "      <th>2911</th>\n",
       "      <td>Mr. Bean's Holiday</td>\n",
       "      <td>0.000286</td>\n",
       "      <td>https://image.tmdb.org/t/p/original/cwepJOEvIJ...</td>\n",
       "      <td>Family, Comedy</td>\n",
       "      <td>2007.0</td>\n",
       "      <td>Mr. Bean wins a trip to Cannes where he unwitt...</td>\n",
       "    </tr>\n",
       "    <tr>\n",
       "      <th>2414</th>\n",
       "      <td>Howl's Moving Castle</td>\n",
       "      <td>0.000284</td>\n",
       "      <td>https://image.tmdb.org/t/p/original/6pZgH10jhp...</td>\n",
       "      <td>Fantasy, Animation, Adventure</td>\n",
       "      <td>2004.0</td>\n",
       "      <td>When Sophie, a shy young woman, is cursed with...</td>\n",
       "    </tr>\n",
       "    <tr>\n",
       "      <th>5485</th>\n",
       "      <td>These Amazing Shadows</td>\n",
       "      <td>0.000263</td>\n",
       "      <td>https://image.tmdb.org/t/p/original/jiby8Ilxlm...</td>\n",
       "      <td>Documentary</td>\n",
       "      <td>2011.0</td>\n",
       "      <td>Documentary about the National Film Registry, ...</td>\n",
       "    </tr>\n",
       "    <tr>\n",
       "      <th>1286</th>\n",
       "      <td>Turner &amp; Hooch</td>\n",
       "      <td>0.000262</td>\n",
       "      <td>https://image.tmdb.org/t/p/original/g3LC4mc17f...</td>\n",
       "      <td>Action, Comedy, Thriller, Crime, Family</td>\n",
       "      <td>1989.0</td>\n",
       "      <td>Scott Turner has 3 days left in the local poli...</td>\n",
       "    </tr>\n",
       "    <tr>\n",
       "      <th>409</th>\n",
       "      <td>The Man Who Would Be King</td>\n",
       "      <td>0.000254</td>\n",
       "      <td>https://image.tmdb.org/t/p/original/ob2eV5XBD5...</td>\n",
       "      <td>Adventure, Drama</td>\n",
       "      <td>1975.0</td>\n",
       "      <td>A robust adventure about two British adventure...</td>\n",
       "    </tr>\n",
       "    <tr>\n",
       "      <th>3477</th>\n",
       "      <td>Shooting War</td>\n",
       "      <td>0.000247</td>\n",
       "      <td>https://image.tmdb.org/t/p/original/81XtyZfL5W...</td>\n",
       "      <td>Documentary, Action, War, History</td>\n",
       "      <td>2000.0</td>\n",
       "      <td>A remarkable film that takes a special look at...</td>\n",
       "    </tr>\n",
       "    <tr>\n",
       "      <th>2295</th>\n",
       "      <td>Chicago Cab</td>\n",
       "      <td>0.000239</td>\n",
       "      <td>https://image.tmdb.org/t/p/original/rOQZwzJTdX...</td>\n",
       "      <td>Comedy, Drama</td>\n",
       "      <td>1997.0</td>\n",
       "      <td>A day in the life of a Chicago cab driver is e...</td>\n",
       "    </tr>\n",
       "    <tr>\n",
       "      <th>1853</th>\n",
       "      <td>Young Black Stallion</td>\n",
       "      <td>0.000238</td>\n",
       "      <td>https://image.tmdb.org/t/p/original/emHK0UPlzn...</td>\n",
       "      <td>Adventure, Drama, Family</td>\n",
       "      <td>2003.0</td>\n",
       "      <td>When courageous young Neera becomes separated ...</td>\n",
       "    </tr>\n",
       "    <tr>\n",
       "      <th>1979</th>\n",
       "      <td>A Bridge Too Far</td>\n",
       "      <td>0.000236</td>\n",
       "      <td>https://image.tmdb.org/t/p/original/v9SZggUxeN...</td>\n",
       "      <td>Drama, History, War</td>\n",
       "      <td>1977.0</td>\n",
       "      <td>Tells the story of operation Market Garden. A ...</td>\n",
       "    </tr>\n",
       "    <tr>\n",
       "      <th>241</th>\n",
       "      <td>The Wizard of Oz</td>\n",
       "      <td>0.000232</td>\n",
       "      <td>https://image.tmdb.org/t/p/original/pfAZFD7I2h...</td>\n",
       "      <td>Adventure, Family, Fantasy</td>\n",
       "      <td>1939.0</td>\n",
       "      <td>Young Dorothy finds herself in a magical world...</td>\n",
       "    </tr>\n",
       "  </tbody>\n",
       "</table>\n",
       "</div>"
      ],
      "text/plain": [
       "                                          title  similarity_score                                         poster_url                                       genres  release_date                                           overview\n",
       "2892                                       TMNT          0.000924  https://image.tmdb.org/t/p/original/ksguZE9rTt...         Adventure, Animation, Comedy, Family        2007.0  After the defeat of their old arch nemesis, Th...\n",
       "3898                                     Cars 2          0.000622  https://image.tmdb.org/t/p/original/okIz1HyxeV...         Animation, Family, Adventure, Comedy        2011.0  Star race car Lightning McQueen and his pal Ma...\n",
       "373                                 Prefontaine          0.000614  https://image.tmdb.org/t/p/original/1sSf0n8dbd...                               Drama, Romance        1997.0  It's the true-life story of legendary track st...\n",
       "1473                        Who Is Cletis Tout?          0.000605  https://image.tmdb.org/t/p/original/udHRTgyZa1...                        Action, Comedy, Crime        2001.0  A comedy about a hitman who sees everything in...\n",
       "1462                  The Powerpuff Girls Movie          0.000587  https://image.tmdb.org/t/p/original/n854BOogVQ...                    Animation, Action, Family        2002.0  The Powerpuff Girls Movie tells the origin sto...\n",
       "2765                              Hollywoodland          0.000570  https://image.tmdb.org/t/p/original/iHSbYI7l9I...                       Drama, Thriller, Crime        2006.0  The complicated life and controversial suicide...\n",
       "770                                 Superman II          0.000517  https://image.tmdb.org/t/p/original/jw0tYFCbzj...  Action, Adventure, Fantasy, Science Fiction        1980.0  Three escaped criminals from the planet Krypto...\n",
       "2797                               The Prestige          0.000504  https://image.tmdb.org/t/p/original/tRNlZbgNCN...                     Drama, Mystery, Thriller        2006.0  A mysterious story of two magicians whose inte...\n",
       "4154                     Superman vs. The Elite          0.000436  https://image.tmdb.org/t/p/original/kozJARWRoG...                            Animation, Action        2012.0  The Man of Steel finds himself outshone by a n...\n",
       "769                                    Superman          0.000429  https://image.tmdb.org/t/p/original/d7px1FQxW4...  Action, Adventure, Fantasy, Science Fiction        1978.0  Mild-mannered Clark Kent works as a reporter a...\n",
       "3493                      Dante's Hell Animated          0.000418                                               None                                    Animation        2013.0  Dante's Hell Animated is a real and truthful e...\n",
       "533        3 Ninjas: High Noon at Mega Mountain          0.000417  https://image.tmdb.org/t/p/original/qEkffajn9a...                       Action, Comedy, Family        1998.0  Three young boys, Rocky, Colt and Tum Tum toge...\n",
       "62                                     The Cure          0.000382  https://image.tmdb.org/t/p/original/nIshUpXe5A...                                Drama, Family        1995.0  Dexter, age 11, who has AIDS, and his next doo...\n",
       "4462                          Superman: Unbound          0.000378  https://image.tmdb.org/t/p/original/vjGBUnsW9z...                 Animation, Action, Adventure        2013.0  Based on the Geoff Johns/Gary Frank 2008 relea...\n",
       "6091  It's A Bird, It's A Plane, It's Superman!          0.000366  https://image.tmdb.org/t/p/original/16H9CrZIsM...                                       Comedy        1975.0  TV adaptation of the campy 1960s Broadway musi...\n",
       "2785                          St. Martin's Lane          0.000350  https://image.tmdb.org/t/p/original/bduBxuHRB2...                                Comedy, Drama        1938.0  On the sidewalks of the London theater distric...\n",
       "5394                                     Gunshy          0.000326  https://image.tmdb.org/t/p/original/5geXceRP6t...                      Action, Crime, Thriller        1998.0  When the New York journalist Jake Bridges catc...\n",
       "115                                       Blink          0.000324  https://image.tmdb.org/t/p/original/yNlatJk6C2...              Mystery, Crime, Drama, Thriller        1994.0  Emma is an attractive girl in her 20s who has ...\n",
       "1405                              Hero at Large          0.000322  https://image.tmdb.org/t/p/original/s5y93WClZA...                        Action, Comedy, Drama        1980.0  An idealistic but struggling actor finds his l...\n",
       "1465                          Road to Perdition          0.000314  https://image.tmdb.org/t/p/original/loSpBeirRf...                       Thriller, Crime, Drama        2002.0  Mike Sullivan works as a hit man for crime bos...\n",
       "2911                         Mr. Bean's Holiday          0.000286  https://image.tmdb.org/t/p/original/cwepJOEvIJ...                               Family, Comedy        2007.0  Mr. Bean wins a trip to Cannes where he unwitt...\n",
       "2414                       Howl's Moving Castle          0.000284  https://image.tmdb.org/t/p/original/6pZgH10jhp...                Fantasy, Animation, Adventure        2004.0  When Sophie, a shy young woman, is cursed with...\n",
       "5485                      These Amazing Shadows          0.000263  https://image.tmdb.org/t/p/original/jiby8Ilxlm...                                  Documentary        2011.0  Documentary about the National Film Registry, ...\n",
       "1286                             Turner & Hooch          0.000262  https://image.tmdb.org/t/p/original/g3LC4mc17f...      Action, Comedy, Thriller, Crime, Family        1989.0  Scott Turner has 3 days left in the local poli...\n",
       "409                   The Man Who Would Be King          0.000254  https://image.tmdb.org/t/p/original/ob2eV5XBD5...                             Adventure, Drama        1975.0  A robust adventure about two British adventure...\n",
       "3477                               Shooting War          0.000247  https://image.tmdb.org/t/p/original/81XtyZfL5W...            Documentary, Action, War, History        2000.0  A remarkable film that takes a special look at...\n",
       "2295                                Chicago Cab          0.000239  https://image.tmdb.org/t/p/original/rOQZwzJTdX...                                Comedy, Drama        1997.0  A day in the life of a Chicago cab driver is e...\n",
       "1853                       Young Black Stallion          0.000238  https://image.tmdb.org/t/p/original/emHK0UPlzn...                     Adventure, Drama, Family        2003.0  When courageous young Neera becomes separated ...\n",
       "1979                           A Bridge Too Far          0.000236  https://image.tmdb.org/t/p/original/v9SZggUxeN...                          Drama, History, War        1977.0  Tells the story of operation Market Garden. A ...\n",
       "241                            The Wizard of Oz          0.000232  https://image.tmdb.org/t/p/original/pfAZFD7I2h...                   Adventure, Family, Fantasy        1939.0  Young Dorothy finds herself in a magical world..."
      ]
     },
     "execution_count": 29,
     "metadata": {},
     "output_type": "execute_result"
    }
   ],
   "source": [
    "def get_recommendations_for_two_users(title1, title2, cosine_sim=cosine_sim, top_n=30):\n",
    "    idx1 = df_movie[df_movie['title'] == title1].index[0]\n",
    "    idx2 = df_movie[df_movie['title'] == title2].index[0]\n",
    "    \n",
    "    # Calculate cosine similarity between the two provided movies\n",
    "    combined_similarity = cosine_sim[idx1] * cosine_sim[idx2]\n",
    "    \n",
    "    # Get movie indices sorted by combined similarity\n",
    "    sim_scores = list(enumerate(combined_similarity))\n",
    "    sim_scores = sorted(sim_scores, key=lambda x: x[1], reverse=True)[1:top_n + 1]\n",
    "    movie_indices = [i[0] for i in sim_scores]\n",
    "    \n",
    "    recommendations_df = pd.DataFrame({\n",
    "        'title': df_movie['title'].iloc[movie_indices],\n",
    "        'similarity_score': [x[1] for x in sim_scores],\n",
    "        'poster_url': df_movie['poster_path'].iloc[movie_indices],\n",
    "        'genres': df_movie['genres'].iloc[movie_indices],\n",
    "        'release_date': df_movie['release_date'].iloc[movie_indices],\n",
    "        'overview': df_movie['overview'].iloc[movie_indices]\n",
    "    })\n",
    "    \n",
    "    return recommendations_df\n",
    "\n",
    "\n",
    "get_recommendations_for_two_users('Toy Story', 'The Dark Knight')"
   ]
  },
  {
   "cell_type": "markdown",
   "metadata": {},
   "source": [
    "https://medium.com/geekculture/creating-content-based-movie-recommender-with-python-7f7d1b739c63 nice article to take a look at "
   ]
  }
 ],
 "metadata": {
  "kernelspec": {
   "display_name": "Python 3",
   "language": "python",
   "name": "python3"
  },
  "language_info": {
   "codemirror_mode": {
    "name": "ipython",
    "version": 3
   },
   "file_extension": ".py",
   "mimetype": "text/x-python",
   "name": "python",
   "nbconvert_exporter": "python",
   "pygments_lexer": "ipython3",
   "version": "3.10.7"
  },
  "orig_nbformat": 4,
  "vscode": {
   "interpreter": {
    "hash": "bee5d26469ee6a7c180015fdaebd74f90d990baae4741e6a469ae76b16150172"
   }
  }
 },
 "nbformat": 4,
 "nbformat_minor": 2
}
